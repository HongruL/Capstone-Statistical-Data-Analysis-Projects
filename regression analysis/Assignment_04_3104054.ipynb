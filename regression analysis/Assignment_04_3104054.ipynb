{
 "cells": [
  {
   "cell_type": "markdown",
   "id": "01fe4b4d",
   "metadata": {},
   "source": [
    "# Homework assignment: Correlation and regression"
   ]
  },
  {
   "cell_type": "code",
   "execution_count": 1,
   "id": "132f2e6d",
   "metadata": {},
   "outputs": [],
   "source": [
    "#import libraries\n",
    "import pandas as pd\n",
    "import matplotlib.pyplot as plt\n",
    "import seaborn as sns\n",
    "import numpy as np\n",
    "from statsmodels.formula.api import ols\n",
    "from scipy.stats import pearsonr\n",
    "from statsmodels.api import qqplot\n",
    "from patsy import dmatrices\n",
    "from statsmodels.stats.outliers_influence import variance_inflation_factor\n",
    "from sklearn.decomposition import PCA\n",
    "from sklearn.preprocessing import StandardScaler\n",
    "from sklearn.pipeline import make_pipeline\n",
    "from statsmodels.graphics.factorplots import interaction_plot\n",
    "\n",
    "plt.style.use('seaborn')"
   ]
  },
  {
   "cell_type": "markdown",
   "id": "0fa10f91",
   "metadata": {},
   "source": [
    "Before doing any correlation and regression analysis, we ought to do some exploratory analysis on our dataset such as cleaning the data, handling the outliers and transforming the data set."
   ]
  },
  {
   "cell_type": "code",
   "execution_count": 2,
   "id": "19305915",
   "metadata": {},
   "outputs": [],
   "source": [
    "#load the shopping data\n",
    "shopping_raw = pd.read_csv('04_Assignment_data_extended.csv', sep=';')"
   ]
  },
  {
   "cell_type": "code",
   "execution_count": 3,
   "id": "023539e2",
   "metadata": {
    "scrolled": true
   },
   "outputs": [
    {
     "data": {
      "text/html": [
       "<div>\n",
       "<style scoped>\n",
       "    .dataframe tbody tr th:only-of-type {\n",
       "        vertical-align: middle;\n",
       "    }\n",
       "\n",
       "    .dataframe tbody tr th {\n",
       "        vertical-align: top;\n",
       "    }\n",
       "\n",
       "    .dataframe thead th {\n",
       "        text-align: right;\n",
       "    }\n",
       "</style>\n",
       "<table border=\"1\" class=\"dataframe\">\n",
       "  <thead>\n",
       "    <tr style=\"text-align: right;\">\n",
       "      <th></th>\n",
       "      <th>ID</th>\n",
       "      <th>Year_of_Birth</th>\n",
       "      <th>Highest_Qualification</th>\n",
       "      <th>Marital_Status</th>\n",
       "      <th>Income</th>\n",
       "      <th>Kids_home</th>\n",
       "      <th>Teen_home</th>\n",
       "      <th>AcceptedCmp3</th>\n",
       "      <th>AcceptedCmp4</th>\n",
       "      <th>AcceptedCmp5</th>\n",
       "      <th>AcceptedCmp1</th>\n",
       "      <th>AcceptedCmp2</th>\n",
       "      <th>Complains</th>\n",
       "      <th>No._WebPurchases</th>\n",
       "      <th>No._CatalogPurchases</th>\n",
       "      <th>No._StorePurchases</th>\n",
       "      <th>Revenue</th>\n",
       "    </tr>\n",
       "  </thead>\n",
       "  <tbody>\n",
       "    <tr>\n",
       "      <th>0</th>\n",
       "      <td>5524</td>\n",
       "      <td>1957</td>\n",
       "      <td>Graduation</td>\n",
       "      <td>Single</td>\n",
       "      <td>58138.0</td>\n",
       "      <td>0</td>\n",
       "      <td>0</td>\n",
       "      <td>0</td>\n",
       "      <td>0</td>\n",
       "      <td>0</td>\n",
       "      <td>0</td>\n",
       "      <td>0</td>\n",
       "      <td>0</td>\n",
       "      <td>8</td>\n",
       "      <td>10</td>\n",
       "      <td>4</td>\n",
       "      <td>1617</td>\n",
       "    </tr>\n",
       "    <tr>\n",
       "      <th>1</th>\n",
       "      <td>2174</td>\n",
       "      <td>1954</td>\n",
       "      <td>Graduation</td>\n",
       "      <td>Single</td>\n",
       "      <td>46344.0</td>\n",
       "      <td>1</td>\n",
       "      <td>1</td>\n",
       "      <td>0</td>\n",
       "      <td>0</td>\n",
       "      <td>0</td>\n",
       "      <td>0</td>\n",
       "      <td>0</td>\n",
       "      <td>0</td>\n",
       "      <td>1</td>\n",
       "      <td>1</td>\n",
       "      <td>2</td>\n",
       "      <td>27</td>\n",
       "    </tr>\n",
       "    <tr>\n",
       "      <th>2</th>\n",
       "      <td>4141</td>\n",
       "      <td>1965</td>\n",
       "      <td>Graduation</td>\n",
       "      <td>Together</td>\n",
       "      <td>71613.0</td>\n",
       "      <td>0</td>\n",
       "      <td>0</td>\n",
       "      <td>0</td>\n",
       "      <td>0</td>\n",
       "      <td>0</td>\n",
       "      <td>0</td>\n",
       "      <td>0</td>\n",
       "      <td>0</td>\n",
       "      <td>8</td>\n",
       "      <td>2</td>\n",
       "      <td>10</td>\n",
       "      <td>776</td>\n",
       "    </tr>\n",
       "    <tr>\n",
       "      <th>3</th>\n",
       "      <td>6182</td>\n",
       "      <td>1984</td>\n",
       "      <td>Graduation</td>\n",
       "      <td>Together</td>\n",
       "      <td>26646.0</td>\n",
       "      <td>1</td>\n",
       "      <td>0</td>\n",
       "      <td>0</td>\n",
       "      <td>0</td>\n",
       "      <td>0</td>\n",
       "      <td>0</td>\n",
       "      <td>0</td>\n",
       "      <td>0</td>\n",
       "      <td>2</td>\n",
       "      <td>0</td>\n",
       "      <td>4</td>\n",
       "      <td>53</td>\n",
       "    </tr>\n",
       "    <tr>\n",
       "      <th>4</th>\n",
       "      <td>5324</td>\n",
       "      <td>1981</td>\n",
       "      <td>PhD</td>\n",
       "      <td>Married</td>\n",
       "      <td>58293.0</td>\n",
       "      <td>1</td>\n",
       "      <td>0</td>\n",
       "      <td>0</td>\n",
       "      <td>0</td>\n",
       "      <td>0</td>\n",
       "      <td>0</td>\n",
       "      <td>0</td>\n",
       "      <td>0</td>\n",
       "      <td>5</td>\n",
       "      <td>3</td>\n",
       "      <td>6</td>\n",
       "      <td>422</td>\n",
       "    </tr>\n",
       "  </tbody>\n",
       "</table>\n",
       "</div>"
      ],
      "text/plain": [
       "     ID  Year_of_Birth Highest_Qualification Marital_Status   Income  \\\n",
       "0  5524           1957            Graduation         Single  58138.0   \n",
       "1  2174           1954            Graduation         Single  46344.0   \n",
       "2  4141           1965            Graduation       Together  71613.0   \n",
       "3  6182           1984            Graduation       Together  26646.0   \n",
       "4  5324           1981                   PhD        Married  58293.0   \n",
       "\n",
       "   Kids_home  Teen_home  AcceptedCmp3  AcceptedCmp4  AcceptedCmp5  \\\n",
       "0          0          0             0             0             0   \n",
       "1          1          1             0             0             0   \n",
       "2          0          0             0             0             0   \n",
       "3          1          0             0             0             0   \n",
       "4          1          0             0             0             0   \n",
       "\n",
       "   AcceptedCmp1  AcceptedCmp2  Complains  No._WebPurchases  \\\n",
       "0             0             0          0                 8   \n",
       "1             0             0          0                 1   \n",
       "2             0             0          0                 8   \n",
       "3             0             0          0                 2   \n",
       "4             0             0          0                 5   \n",
       "\n",
       "   No._CatalogPurchases  No._StorePurchases  Revenue  \n",
       "0                    10                   4     1617  \n",
       "1                     1                   2       27  \n",
       "2                     2                  10      776  \n",
       "3                     0                   4       53  \n",
       "4                     3                   6      422  "
      ]
     },
     "execution_count": 3,
     "metadata": {},
     "output_type": "execute_result"
    }
   ],
   "source": [
    "#first five records\n",
    "shopping_raw.head(5)"
   ]
  },
  {
   "cell_type": "code",
   "execution_count": 4,
   "id": "beefcb37",
   "metadata": {},
   "outputs": [
    {
     "data": {
      "text/plain": [
       "['ID',\n",
       " 'Year_of_Birth',\n",
       " 'Highest_Qualification',\n",
       " 'Marital_Status',\n",
       " 'Income',\n",
       " 'Kids_home',\n",
       " 'Teen_home',\n",
       " 'AcceptedCmp3',\n",
       " 'AcceptedCmp4',\n",
       " 'AcceptedCmp5',\n",
       " 'AcceptedCmp1',\n",
       " 'AcceptedCmp2',\n",
       " 'Complains',\n",
       " 'No._WebPurchases',\n",
       " 'No._CatalogPurchases',\n",
       " 'No._StorePurchases',\n",
       " 'Revenue']"
      ]
     },
     "execution_count": 4,
     "metadata": {},
     "output_type": "execute_result"
    }
   ],
   "source": [
    "#check the columns\n",
    "col = shopping_raw.columns.to_list()\n",
    "col"
   ]
  },
  {
   "cell_type": "markdown",
   "id": "240aaedc",
   "metadata": {},
   "source": [
    "We notice that the columns related to the acceptance of offers after campaigns are not well ordered and a bit messy, so let's rearrange the order of the columns - 'AcceptedCmp3', 'AcceptedCmp4', 'AcceptedCmp5','AcceptedCmp1', 'AcceptedCmp2' to the ascending order to make the data more readable."
   ]
  },
  {
   "cell_type": "code",
   "execution_count": 5,
   "id": "d44d6f71",
   "metadata": {},
   "outputs": [
    {
     "data": {
      "text/html": [
       "<div>\n",
       "<style scoped>\n",
       "    .dataframe tbody tr th:only-of-type {\n",
       "        vertical-align: middle;\n",
       "    }\n",
       "\n",
       "    .dataframe tbody tr th {\n",
       "        vertical-align: top;\n",
       "    }\n",
       "\n",
       "    .dataframe thead th {\n",
       "        text-align: right;\n",
       "    }\n",
       "</style>\n",
       "<table border=\"1\" class=\"dataframe\">\n",
       "  <thead>\n",
       "    <tr style=\"text-align: right;\">\n",
       "      <th></th>\n",
       "      <th>ID</th>\n",
       "      <th>Year_of_Birth</th>\n",
       "      <th>Highest_Qualification</th>\n",
       "      <th>Marital_Status</th>\n",
       "      <th>Income</th>\n",
       "      <th>Kids_home</th>\n",
       "      <th>Teen_home</th>\n",
       "      <th>AcceptedCmp1</th>\n",
       "      <th>AcceptedCmp2</th>\n",
       "      <th>AcceptedCmp3</th>\n",
       "      <th>AcceptedCmp4</th>\n",
       "      <th>AcceptedCmp5</th>\n",
       "      <th>Complains</th>\n",
       "      <th>No._WebPurchases</th>\n",
       "      <th>No._CatalogPurchases</th>\n",
       "      <th>No._StorePurchases</th>\n",
       "      <th>Revenue</th>\n",
       "    </tr>\n",
       "  </thead>\n",
       "  <tbody>\n",
       "    <tr>\n",
       "      <th>0</th>\n",
       "      <td>5524</td>\n",
       "      <td>1957</td>\n",
       "      <td>Graduation</td>\n",
       "      <td>Single</td>\n",
       "      <td>58138.0</td>\n",
       "      <td>0</td>\n",
       "      <td>0</td>\n",
       "      <td>0</td>\n",
       "      <td>0</td>\n",
       "      <td>0</td>\n",
       "      <td>0</td>\n",
       "      <td>0</td>\n",
       "      <td>0</td>\n",
       "      <td>8</td>\n",
       "      <td>10</td>\n",
       "      <td>4</td>\n",
       "      <td>1617</td>\n",
       "    </tr>\n",
       "    <tr>\n",
       "      <th>1</th>\n",
       "      <td>2174</td>\n",
       "      <td>1954</td>\n",
       "      <td>Graduation</td>\n",
       "      <td>Single</td>\n",
       "      <td>46344.0</td>\n",
       "      <td>1</td>\n",
       "      <td>1</td>\n",
       "      <td>0</td>\n",
       "      <td>0</td>\n",
       "      <td>0</td>\n",
       "      <td>0</td>\n",
       "      <td>0</td>\n",
       "      <td>0</td>\n",
       "      <td>1</td>\n",
       "      <td>1</td>\n",
       "      <td>2</td>\n",
       "      <td>27</td>\n",
       "    </tr>\n",
       "    <tr>\n",
       "      <th>2</th>\n",
       "      <td>4141</td>\n",
       "      <td>1965</td>\n",
       "      <td>Graduation</td>\n",
       "      <td>Together</td>\n",
       "      <td>71613.0</td>\n",
       "      <td>0</td>\n",
       "      <td>0</td>\n",
       "      <td>0</td>\n",
       "      <td>0</td>\n",
       "      <td>0</td>\n",
       "      <td>0</td>\n",
       "      <td>0</td>\n",
       "      <td>0</td>\n",
       "      <td>8</td>\n",
       "      <td>2</td>\n",
       "      <td>10</td>\n",
       "      <td>776</td>\n",
       "    </tr>\n",
       "    <tr>\n",
       "      <th>3</th>\n",
       "      <td>6182</td>\n",
       "      <td>1984</td>\n",
       "      <td>Graduation</td>\n",
       "      <td>Together</td>\n",
       "      <td>26646.0</td>\n",
       "      <td>1</td>\n",
       "      <td>0</td>\n",
       "      <td>0</td>\n",
       "      <td>0</td>\n",
       "      <td>0</td>\n",
       "      <td>0</td>\n",
       "      <td>0</td>\n",
       "      <td>0</td>\n",
       "      <td>2</td>\n",
       "      <td>0</td>\n",
       "      <td>4</td>\n",
       "      <td>53</td>\n",
       "    </tr>\n",
       "    <tr>\n",
       "      <th>4</th>\n",
       "      <td>5324</td>\n",
       "      <td>1981</td>\n",
       "      <td>PhD</td>\n",
       "      <td>Married</td>\n",
       "      <td>58293.0</td>\n",
       "      <td>1</td>\n",
       "      <td>0</td>\n",
       "      <td>0</td>\n",
       "      <td>0</td>\n",
       "      <td>0</td>\n",
       "      <td>0</td>\n",
       "      <td>0</td>\n",
       "      <td>0</td>\n",
       "      <td>5</td>\n",
       "      <td>3</td>\n",
       "      <td>6</td>\n",
       "      <td>422</td>\n",
       "    </tr>\n",
       "  </tbody>\n",
       "</table>\n",
       "</div>"
      ],
      "text/plain": [
       "     ID  Year_of_Birth Highest_Qualification Marital_Status   Income  \\\n",
       "0  5524           1957            Graduation         Single  58138.0   \n",
       "1  2174           1954            Graduation         Single  46344.0   \n",
       "2  4141           1965            Graduation       Together  71613.0   \n",
       "3  6182           1984            Graduation       Together  26646.0   \n",
       "4  5324           1981                   PhD        Married  58293.0   \n",
       "\n",
       "   Kids_home  Teen_home  AcceptedCmp1  AcceptedCmp2  AcceptedCmp3  \\\n",
       "0          0          0             0             0             0   \n",
       "1          1          1             0             0             0   \n",
       "2          0          0             0             0             0   \n",
       "3          1          0             0             0             0   \n",
       "4          1          0             0             0             0   \n",
       "\n",
       "   AcceptedCmp4  AcceptedCmp5  Complains  No._WebPurchases  \\\n",
       "0             0             0          0                 8   \n",
       "1             0             0          0                 1   \n",
       "2             0             0          0                 8   \n",
       "3             0             0          0                 2   \n",
       "4             0             0          0                 5   \n",
       "\n",
       "   No._CatalogPurchases  No._StorePurchases  Revenue  \n",
       "0                    10                   4     1617  \n",
       "1                     1                   2       27  \n",
       "2                     2                  10      776  \n",
       "3                     0                   4       53  \n",
       "4                     3                   6      422  "
      ]
     },
     "execution_count": 5,
     "metadata": {},
     "output_type": "execute_result"
    }
   ],
   "source": [
    "shopping1 = shopping_raw.reindex(columns=col[:7]+sorted(col[7:12])+col[12:])\n",
    "shopping1.head(5)"
   ]
  },
  {
   "cell_type": "code",
   "execution_count": 6,
   "id": "a63bba16",
   "metadata": {},
   "outputs": [
    {
     "name": "stdout",
     "output_type": "stream",
     "text": [
      "(2240, 17)\n"
     ]
    }
   ],
   "source": [
    "print(shopping1.shape)"
   ]
  },
  {
   "cell_type": "markdown",
   "id": "3d75d052",
   "metadata": {},
   "source": [
    "The dataset has 2240 rows and 17 columns. Then check the table schema, its columns, rows, data types, and missing values."
   ]
  },
  {
   "cell_type": "code",
   "execution_count": 7,
   "id": "e0ee7b5f",
   "metadata": {},
   "outputs": [
    {
     "name": "stdout",
     "output_type": "stream",
     "text": [
      "<class 'pandas.core.frame.DataFrame'>\n",
      "RangeIndex: 2240 entries, 0 to 2239\n",
      "Data columns (total 17 columns):\n",
      " #   Column                 Non-Null Count  Dtype  \n",
      "---  ------                 --------------  -----  \n",
      " 0   ID                     2240 non-null   int64  \n",
      " 1   Year_of_Birth          2240 non-null   int64  \n",
      " 2   Highest_Qualification  2240 non-null   object \n",
      " 3   Marital_Status         2240 non-null   object \n",
      " 4   Income                 2216 non-null   float64\n",
      " 5   Kids_home              2240 non-null   int64  \n",
      " 6   Teen_home              2240 non-null   int64  \n",
      " 7   AcceptedCmp1           2240 non-null   int64  \n",
      " 8   AcceptedCmp2           2240 non-null   int64  \n",
      " 9   AcceptedCmp3           2240 non-null   int64  \n",
      " 10  AcceptedCmp4           2240 non-null   int64  \n",
      " 11  AcceptedCmp5           2240 non-null   int64  \n",
      " 12  Complains              2240 non-null   int64  \n",
      " 13  No._WebPurchases       2240 non-null   int64  \n",
      " 14  No._CatalogPurchases   2240 non-null   int64  \n",
      " 15  No._StorePurchases     2240 non-null   int64  \n",
      " 16  Revenue                2240 non-null   int64  \n",
      "dtypes: float64(1), int64(14), object(2)\n",
      "memory usage: 297.6+ KB\n"
     ]
    }
   ],
   "source": [
    "shopping1.info()"
   ]
  },
  {
   "cell_type": "markdown",
   "id": "cdabdd14",
   "metadata": {},
   "source": [
    "In the preceding output, we can see that there are 17 columns in the data. Out of these, 1 column (Income) has missing values, 2 columns (Highest_Qualification and Marital_Status) are Strings, 1 is float, and 14 are of datatype integer. Then, take a look at the descriptive statistics of the data by using the describe function."
   ]
  },
  {
   "cell_type": "code",
   "execution_count": 8,
   "id": "3b8a61bf",
   "metadata": {},
   "outputs": [
    {
     "data": {
      "text/html": [
       "<div>\n",
       "<style scoped>\n",
       "    .dataframe tbody tr th:only-of-type {\n",
       "        vertical-align: middle;\n",
       "    }\n",
       "\n",
       "    .dataframe tbody tr th {\n",
       "        vertical-align: top;\n",
       "    }\n",
       "\n",
       "    .dataframe thead th {\n",
       "        text-align: right;\n",
       "    }\n",
       "</style>\n",
       "<table border=\"1\" class=\"dataframe\">\n",
       "  <thead>\n",
       "    <tr style=\"text-align: right;\">\n",
       "      <th></th>\n",
       "      <th>ID</th>\n",
       "      <th>Year_of_Birth</th>\n",
       "      <th>Income</th>\n",
       "      <th>Kids_home</th>\n",
       "      <th>Teen_home</th>\n",
       "      <th>AcceptedCmp1</th>\n",
       "      <th>AcceptedCmp2</th>\n",
       "      <th>AcceptedCmp3</th>\n",
       "      <th>AcceptedCmp4</th>\n",
       "      <th>AcceptedCmp5</th>\n",
       "      <th>Complains</th>\n",
       "      <th>No._WebPurchases</th>\n",
       "      <th>No._CatalogPurchases</th>\n",
       "      <th>No._StorePurchases</th>\n",
       "      <th>Revenue</th>\n",
       "    </tr>\n",
       "  </thead>\n",
       "  <tbody>\n",
       "    <tr>\n",
       "      <th>count</th>\n",
       "      <td>2240.000000</td>\n",
       "      <td>2240.000000</td>\n",
       "      <td>2216.000000</td>\n",
       "      <td>2240.000000</td>\n",
       "      <td>2240.000000</td>\n",
       "      <td>2240.000000</td>\n",
       "      <td>2240.000000</td>\n",
       "      <td>2240.000000</td>\n",
       "      <td>2240.000000</td>\n",
       "      <td>2240.000000</td>\n",
       "      <td>2240.000000</td>\n",
       "      <td>2240.000000</td>\n",
       "      <td>2240.000000</td>\n",
       "      <td>2240.000000</td>\n",
       "      <td>2240.000000</td>\n",
       "    </tr>\n",
       "    <tr>\n",
       "      <th>mean</th>\n",
       "      <td>5592.159821</td>\n",
       "      <td>1968.805804</td>\n",
       "      <td>52247.251354</td>\n",
       "      <td>0.444196</td>\n",
       "      <td>0.506250</td>\n",
       "      <td>0.064286</td>\n",
       "      <td>0.013393</td>\n",
       "      <td>0.072768</td>\n",
       "      <td>0.074554</td>\n",
       "      <td>0.072768</td>\n",
       "      <td>0.009375</td>\n",
       "      <td>4.084821</td>\n",
       "      <td>2.662054</td>\n",
       "      <td>5.790179</td>\n",
       "      <td>605.798214</td>\n",
       "    </tr>\n",
       "    <tr>\n",
       "      <th>std</th>\n",
       "      <td>3246.662198</td>\n",
       "      <td>11.984069</td>\n",
       "      <td>25173.076661</td>\n",
       "      <td>0.538398</td>\n",
       "      <td>0.544538</td>\n",
       "      <td>0.245316</td>\n",
       "      <td>0.114976</td>\n",
       "      <td>0.259813</td>\n",
       "      <td>0.262728</td>\n",
       "      <td>0.259813</td>\n",
       "      <td>0.096391</td>\n",
       "      <td>2.778714</td>\n",
       "      <td>2.923101</td>\n",
       "      <td>3.250958</td>\n",
       "      <td>602.249288</td>\n",
       "    </tr>\n",
       "    <tr>\n",
       "      <th>min</th>\n",
       "      <td>0.000000</td>\n",
       "      <td>1893.000000</td>\n",
       "      <td>1730.000000</td>\n",
       "      <td>0.000000</td>\n",
       "      <td>0.000000</td>\n",
       "      <td>0.000000</td>\n",
       "      <td>0.000000</td>\n",
       "      <td>0.000000</td>\n",
       "      <td>0.000000</td>\n",
       "      <td>0.000000</td>\n",
       "      <td>0.000000</td>\n",
       "      <td>0.000000</td>\n",
       "      <td>0.000000</td>\n",
       "      <td>0.000000</td>\n",
       "      <td>5.000000</td>\n",
       "    </tr>\n",
       "    <tr>\n",
       "      <th>25%</th>\n",
       "      <td>2828.250000</td>\n",
       "      <td>1959.000000</td>\n",
       "      <td>35303.000000</td>\n",
       "      <td>0.000000</td>\n",
       "      <td>0.000000</td>\n",
       "      <td>0.000000</td>\n",
       "      <td>0.000000</td>\n",
       "      <td>0.000000</td>\n",
       "      <td>0.000000</td>\n",
       "      <td>0.000000</td>\n",
       "      <td>0.000000</td>\n",
       "      <td>2.000000</td>\n",
       "      <td>0.000000</td>\n",
       "      <td>3.000000</td>\n",
       "      <td>68.750000</td>\n",
       "    </tr>\n",
       "    <tr>\n",
       "      <th>50%</th>\n",
       "      <td>5458.500000</td>\n",
       "      <td>1970.000000</td>\n",
       "      <td>51381.500000</td>\n",
       "      <td>0.000000</td>\n",
       "      <td>0.000000</td>\n",
       "      <td>0.000000</td>\n",
       "      <td>0.000000</td>\n",
       "      <td>0.000000</td>\n",
       "      <td>0.000000</td>\n",
       "      <td>0.000000</td>\n",
       "      <td>0.000000</td>\n",
       "      <td>4.000000</td>\n",
       "      <td>2.000000</td>\n",
       "      <td>5.000000</td>\n",
       "      <td>396.000000</td>\n",
       "    </tr>\n",
       "    <tr>\n",
       "      <th>75%</th>\n",
       "      <td>8427.750000</td>\n",
       "      <td>1977.000000</td>\n",
       "      <td>68522.000000</td>\n",
       "      <td>1.000000</td>\n",
       "      <td>1.000000</td>\n",
       "      <td>0.000000</td>\n",
       "      <td>0.000000</td>\n",
       "      <td>0.000000</td>\n",
       "      <td>0.000000</td>\n",
       "      <td>0.000000</td>\n",
       "      <td>0.000000</td>\n",
       "      <td>6.000000</td>\n",
       "      <td>4.000000</td>\n",
       "      <td>8.000000</td>\n",
       "      <td>1045.500000</td>\n",
       "    </tr>\n",
       "    <tr>\n",
       "      <th>max</th>\n",
       "      <td>11191.000000</td>\n",
       "      <td>1996.000000</td>\n",
       "      <td>666666.000000</td>\n",
       "      <td>2.000000</td>\n",
       "      <td>2.000000</td>\n",
       "      <td>1.000000</td>\n",
       "      <td>1.000000</td>\n",
       "      <td>1.000000</td>\n",
       "      <td>1.000000</td>\n",
       "      <td>1.000000</td>\n",
       "      <td>1.000000</td>\n",
       "      <td>27.000000</td>\n",
       "      <td>28.000000</td>\n",
       "      <td>13.000000</td>\n",
       "      <td>2525.000000</td>\n",
       "    </tr>\n",
       "  </tbody>\n",
       "</table>\n",
       "</div>"
      ],
      "text/plain": [
       "                 ID  Year_of_Birth         Income    Kids_home    Teen_home  \\\n",
       "count   2240.000000    2240.000000    2216.000000  2240.000000  2240.000000   \n",
       "mean    5592.159821    1968.805804   52247.251354     0.444196     0.506250   \n",
       "std     3246.662198      11.984069   25173.076661     0.538398     0.544538   \n",
       "min        0.000000    1893.000000    1730.000000     0.000000     0.000000   \n",
       "25%     2828.250000    1959.000000   35303.000000     0.000000     0.000000   \n",
       "50%     5458.500000    1970.000000   51381.500000     0.000000     0.000000   \n",
       "75%     8427.750000    1977.000000   68522.000000     1.000000     1.000000   \n",
       "max    11191.000000    1996.000000  666666.000000     2.000000     2.000000   \n",
       "\n",
       "       AcceptedCmp1  AcceptedCmp2  AcceptedCmp3  AcceptedCmp4  AcceptedCmp5  \\\n",
       "count   2240.000000   2240.000000   2240.000000   2240.000000   2240.000000   \n",
       "mean       0.064286      0.013393      0.072768      0.074554      0.072768   \n",
       "std        0.245316      0.114976      0.259813      0.262728      0.259813   \n",
       "min        0.000000      0.000000      0.000000      0.000000      0.000000   \n",
       "25%        0.000000      0.000000      0.000000      0.000000      0.000000   \n",
       "50%        0.000000      0.000000      0.000000      0.000000      0.000000   \n",
       "75%        0.000000      0.000000      0.000000      0.000000      0.000000   \n",
       "max        1.000000      1.000000      1.000000      1.000000      1.000000   \n",
       "\n",
       "         Complains  No._WebPurchases  No._CatalogPurchases  \\\n",
       "count  2240.000000       2240.000000           2240.000000   \n",
       "mean      0.009375          4.084821              2.662054   \n",
       "std       0.096391          2.778714              2.923101   \n",
       "min       0.000000          0.000000              0.000000   \n",
       "25%       0.000000          2.000000              0.000000   \n",
       "50%       0.000000          4.000000              2.000000   \n",
       "75%       0.000000          6.000000              4.000000   \n",
       "max       1.000000         27.000000             28.000000   \n",
       "\n",
       "       No._StorePurchases      Revenue  \n",
       "count         2240.000000  2240.000000  \n",
       "mean             5.790179   605.798214  \n",
       "std              3.250958   602.249288  \n",
       "min              0.000000     5.000000  \n",
       "25%              3.000000    68.750000  \n",
       "50%              5.000000   396.000000  \n",
       "75%              8.000000  1045.500000  \n",
       "max             13.000000  2525.000000  "
      ]
     },
     "execution_count": 8,
     "metadata": {},
     "output_type": "execute_result"
    }
   ],
   "source": [
    "shopping1.describe()"
   ]
  },
  {
   "cell_type": "markdown",
   "id": "ad2cbabf",
   "metadata": {},
   "source": [
    "From these results, we can see the central tendency as well as the range of the numerical data. We can already tell that the column `Year_of_Birth` needs further analysis because there seems to be outliers, for an active customer is highly unlikely to be born in 1893. Let's also have a look at the descriptive statistics of the columns of \"object\" datatype:"
   ]
  },
  {
   "cell_type": "code",
   "execution_count": 9,
   "id": "22a2eb3c",
   "metadata": {},
   "outputs": [
    {
     "data": {
      "text/html": [
       "<div>\n",
       "<style scoped>\n",
       "    .dataframe tbody tr th:only-of-type {\n",
       "        vertical-align: middle;\n",
       "    }\n",
       "\n",
       "    .dataframe tbody tr th {\n",
       "        vertical-align: top;\n",
       "    }\n",
       "\n",
       "    .dataframe thead th {\n",
       "        text-align: right;\n",
       "    }\n",
       "</style>\n",
       "<table border=\"1\" class=\"dataframe\">\n",
       "  <thead>\n",
       "    <tr style=\"text-align: right;\">\n",
       "      <th></th>\n",
       "      <th>Highest_Qualification</th>\n",
       "      <th>Marital_Status</th>\n",
       "    </tr>\n",
       "  </thead>\n",
       "  <tbody>\n",
       "    <tr>\n",
       "      <th>count</th>\n",
       "      <td>2240</td>\n",
       "      <td>2240</td>\n",
       "    </tr>\n",
       "    <tr>\n",
       "      <th>unique</th>\n",
       "      <td>5</td>\n",
       "      <td>8</td>\n",
       "    </tr>\n",
       "    <tr>\n",
       "      <th>top</th>\n",
       "      <td>Graduation</td>\n",
       "      <td>Married</td>\n",
       "    </tr>\n",
       "    <tr>\n",
       "      <th>freq</th>\n",
       "      <td>1127</td>\n",
       "      <td>864</td>\n",
       "    </tr>\n",
       "  </tbody>\n",
       "</table>\n",
       "</div>"
      ],
      "text/plain": [
       "       Highest_Qualification Marital_Status\n",
       "count                   2240           2240\n",
       "unique                     5              8\n",
       "top               Graduation        Married\n",
       "freq                    1127            864"
      ]
     },
     "execution_count": 9,
     "metadata": {},
     "output_type": "execute_result"
    }
   ],
   "source": [
    "shopping1.describe(include='O')"
   ]
  },
  {
   "cell_type": "markdown",
   "id": "1c41060b",
   "metadata": {},
   "source": [
    "We can see that most of the customers are with graduation and are married. Then check unique values of the `Highest_Qualification`, `Marital_Status`, `Kids_home`, `Teen_home`, `AcceptedCmp1-5` and `Complains` column to see if there are any unreasonable and noisy data."
   ]
  },
  {
   "cell_type": "code",
   "execution_count": 10,
   "id": "2b405e08",
   "metadata": {},
   "outputs": [
    {
     "name": "stdout",
     "output_type": "stream",
     "text": [
      "Unique values of column \"Highest_Qualification\": ['Graduation' 'PhD' 'Master' 'Basic' '2n Cycle']\n",
      "Unique values of column \"Marital_Status\": ['Single' 'Together' 'Married' 'Divorced' 'Widow' 'Alone' 'Absurd' 'YOLO']\n",
      "Unique values of column \"Kids_home\": [0 1 2]\n",
      "Unique values of column \"Teen_home\": [0 1 2]\n",
      "Unique values of column \"AcceptedCmp1\": [0 1]\n",
      "Unique values of column \"AcceptedCmp2\": [0 1]\n",
      "Unique values of column \"AcceptedCmp3\": [0 1]\n",
      "Unique values of column \"AcceptedCmp4\": [0 1]\n",
      "Unique values of column \"AcceptedCmp5\": [0 1]\n",
      "Unique values of column \"Complains\": [0 1]\n"
     ]
    }
   ],
   "source": [
    "print('Unique values of column \"Highest_Qualification\": {}'.format(shopping1.Highest_Qualification.unique()))\n",
    "print('Unique values of column \"Marital_Status\": {}'.format(shopping1.Marital_Status.unique()))\n",
    "print('Unique values of column \"Kids_home\": {}'.format(shopping1.Kids_home.unique()))\n",
    "print('Unique values of column \"Teen_home\": {}'.format(shopping1.Teen_home.unique()))\n",
    "print('Unique values of column \"AcceptedCmp1\": {}'.format(shopping1.AcceptedCmp1.unique()))\n",
    "print('Unique values of column \"AcceptedCmp2\": {}'.format(shopping1.AcceptedCmp2.unique()))\n",
    "print('Unique values of column \"AcceptedCmp3\": {}'.format(shopping1.AcceptedCmp3.unique()))\n",
    "print('Unique values of column \"AcceptedCmp4\": {}'.format(shopping1.AcceptedCmp4.unique()))\n",
    "print('Unique values of column \"AcceptedCmp5\": {}'.format(shopping1.AcceptedCmp5.unique()))\n",
    "print('Unique values of column \"Complains\": {}'.format(shopping1.Complains.unique()))"
   ]
  },
  {
   "cell_type": "markdown",
   "id": "59a0b051",
   "metadata": {},
   "source": [
    "The values of these columns are all resonable and do not need further cleaning.\n",
    "\n",
    "Next, let's handel the missing data and the outliers."
   ]
  },
  {
   "cell_type": "code",
   "execution_count": 11,
   "id": "2dbcd7c8",
   "metadata": {},
   "outputs": [
    {
     "data": {
      "text/plain": [
       "ID                       False\n",
       "Year_of_Birth            False\n",
       "Highest_Qualification    False\n",
       "Marital_Status           False\n",
       "Income                    True\n",
       "Kids_home                False\n",
       "Teen_home                False\n",
       "AcceptedCmp1             False\n",
       "AcceptedCmp2             False\n",
       "AcceptedCmp3             False\n",
       "AcceptedCmp4             False\n",
       "AcceptedCmp5             False\n",
       "Complains                False\n",
       "No._WebPurchases         False\n",
       "No._CatalogPurchases     False\n",
       "No._StorePurchases       False\n",
       "Revenue                  False\n",
       "dtype: bool"
      ]
     },
     "execution_count": 11,
     "metadata": {},
     "output_type": "execute_result"
    }
   ],
   "source": [
    "shopping1.isna().any()"
   ]
  },
  {
   "cell_type": "markdown",
   "id": "e4d3c8f5",
   "metadata": {},
   "source": [
    "Consistent with our perious overview, `Income` column has missing values. We will calculate the average income of customers of groups with different highest qualifications, and then replace the `Income` null values with the mean `Income` value of that particular customer group (the same approach as we did in Assignment 3)."
   ]
  },
  {
   "cell_type": "code",
   "execution_count": 12,
   "id": "a5719f20",
   "metadata": {},
   "outputs": [
    {
     "data": {
      "text/plain": [
       "Highest_Qualification\n",
       "2n Cycle      47633.190000\n",
       "Basic         20306.259259\n",
       "Graduation    52720.373656\n",
       "Master        52917.534247\n",
       "PhD           56145.313929\n",
       "Name: Income, dtype: float64"
      ]
     },
     "execution_count": 12,
     "metadata": {},
     "output_type": "execute_result"
    }
   ],
   "source": [
    "income_groups = shopping1.groupby('Highest_Qualification').Income.mean()\n",
    "income_groups"
   ]
  },
  {
   "cell_type": "code",
   "execution_count": 13,
   "id": "596ea375",
   "metadata": {},
   "outputs": [
    {
     "data": {
      "text/plain": [
       "array(['Graduation', 'PhD', '2n Cycle', 'Master'], dtype=object)"
      ]
     },
     "execution_count": 13,
     "metadata": {},
     "output_type": "execute_result"
    }
   ],
   "source": [
    "shopping1.loc[shopping1.Income.isna()]['Highest_Qualification'].unique()"
   ]
  },
  {
   "cell_type": "code",
   "execution_count": 14,
   "id": "358df22b",
   "metadata": {},
   "outputs": [],
   "source": [
    "def impute_income(cols):\n",
    "    '''\n",
    "    returns the average income of different educational qualifications groups\n",
    "    '''\n",
    "    highest_qualification = cols[0]\n",
    "    income = cols[1]\n",
    "    \n",
    "    if pd.isna(income):\n",
    "        \n",
    "        if highest_qualification == 'Graduation':\n",
    "            return income_groups['Graduation']\n",
    "        elif highest_qualification == 'PhD':\n",
    "            return income_groups['PhD']\n",
    "        elif highest_qualification == '2n Cycle':\n",
    "            return income_groups['2n Cycle']\n",
    "        elif highest_qualification == 'Master':\n",
    "            return income_groups['Master']\n",
    "        \n",
    "    else:\n",
    "        return income"
   ]
  },
  {
   "cell_type": "code",
   "execution_count": 15,
   "id": "4889239d",
   "metadata": {},
   "outputs": [],
   "source": [
    "shopping1['Income'] = shopping1[['Highest_Qualification', 'Income']].apply(impute_income, axis=1)"
   ]
  },
  {
   "cell_type": "code",
   "execution_count": 16,
   "id": "2dba1eca",
   "metadata": {},
   "outputs": [
    {
     "data": {
      "text/plain": [
       "0"
      ]
     },
     "execution_count": 16,
     "metadata": {},
     "output_type": "execute_result"
    }
   ],
   "source": [
    "#check na agian\n",
    "shopping1.isna().any().sum()"
   ]
  },
  {
   "cell_type": "markdown",
   "id": "23303887",
   "metadata": {},
   "source": [
    "Let's use boxplots to detect the potential outliers as individual points."
   ]
  },
  {
   "cell_type": "code",
   "execution_count": 17,
   "id": "ef10c7a2",
   "metadata": {
    "scrolled": true
   },
   "outputs": [
    {
     "data": {
      "image/png": "[encoded data removed]",
      "text/plain": [
       "<Figure size 432x288 with 1 Axes>"
      ]
     },
     "metadata": {
      "needs_background": "light"
     },
     "output_type": "display_data"
    }
   ],
   "source": [
    "plt.figure(figsize=(6,4))\n",
    "shopping1.boxplot('Year_of_Birth')\n",
    "plt.show()"
   ]
  },
  {
   "cell_type": "markdown",
   "id": "d722ff75",
   "metadata": {},
   "source": [
    "Outliers are displayed. An active customer with the year of birth beyond 1900 is highly unlikely and we treat these data as noises and thus drop these observations."
   ]
  },
  {
   "cell_type": "code",
   "execution_count": 18,
   "id": "0799d513",
   "metadata": {},
   "outputs": [],
   "source": [
    "shopping1.drop(index=shopping_raw[shopping_raw.Year_of_Birth <= 1900].index, inplace=True)"
   ]
  },
  {
   "cell_type": "code",
   "execution_count": 19,
   "id": "443ff7f1",
   "metadata": {},
   "outputs": [
    {
     "data": {
      "text/plain": [
       "0"
      ]
     },
     "execution_count": 19,
     "metadata": {},
     "output_type": "execute_result"
    }
   ],
   "source": [
    "#unreasonable age cleaned\n",
    "shopping1.loc[shopping_raw.Year_of_Birth <= 1900, 'Year_of_Birth'].count()"
   ]
  },
  {
   "cell_type": "markdown",
   "id": "0b9f4c9c",
   "metadata": {},
   "source": [
    "For the other numerical columns (except `Kids_home`, `Teen_home`, `AcceptedCmp1-5`, `Complains`), we log-scale the y-axis to make the boxplot more readable."
   ]
  },
  {
   "cell_type": "code",
   "execution_count": 20,
   "id": "9d53b8c4",
   "metadata": {},
   "outputs": [
    {
     "data": {
      "image/png": "[encoded data removed]",
      "text/plain": [
       "<Figure size 1440x432 with 1 Axes>"
      ]
     },
     "metadata": {
      "needs_background": "light"
     },
     "output_type": "display_data"
    }
   ],
   "source": [
    "plt.figure(figsize=(20,6))\n",
    "shopping_raw.boxplot(['Income', 'No._WebPurchases', 'No._CatalogPurchases', 'No._StorePurchases', 'Revenue'])\n",
    "plt.yscale('log')\n",
    "plt.show()"
   ]
  },
  {
   "cell_type": "markdown",
   "id": "151b8d6a",
   "metadata": {},
   "source": [
    "As the boxplots suggest, there are outliers in the dataset (dots beyond the Whiskers), for example in column `Income`, `No._WebPurchases`, `No._CatalogPurchases` and `Revenue`. However, these outliers are valid data points derived from a heavy-tailed distribution or rare events, so we will use the \"winsorizing\" technique to handle them by replacing all the outliers with the inter quartile range multiplied by 1.5, i.e. 1.5 x (q75% - q25%) (Inter-quartile-range rule). In this way, we can keep all observations remain in the dataset that may contain useful information.\n",
    "\n",
    "We will create a winsorizing() function and perform the manipulation on the above mentioned columns:"
   ]
  },
  {
   "cell_type": "code",
   "execution_count": 21,
   "id": "b3373ec3",
   "metadata": {},
   "outputs": [],
   "source": [
    "def winsorizing(df, column):\n",
    "    '''\n",
    "    use the \"winsorizing\" technique to replace outliers of a column \n",
    "    with the inter quartile range multiplied by 1.5\n",
    "    '''\n",
    "    q25, q75 = np.quantile(df[column], [0.25, 0.75])\n",
    "    iqr = q75 - q25\n",
    "    lower_limit, upper_limit = q25 - 1.5*iqr, q75 + 1.5*iqr\n",
    "    df.loc[df[column]<lower_limit, column] = lower_limit\n",
    "    df.loc[df[column]>upper_limit, column] = upper_limit\n",
    "    print(f'The \"{column}\" column is winsorized.')"
   ]
  },
  {
   "cell_type": "code",
   "execution_count": 22,
   "id": "566771ee",
   "metadata": {},
   "outputs": [],
   "source": [
    "#the columns to be manipulated\n",
    "col_towinsorize = ['Income', 'No._WebPurchases', 'No._CatalogPurchases', 'No._StorePurchases', 'Revenue']"
   ]
  },
  {
   "cell_type": "code",
   "execution_count": 23,
   "id": "b4a4e444",
   "metadata": {},
   "outputs": [
    {
     "name": "stdout",
     "output_type": "stream",
     "text": [
      "The \"Income\" column is winsorized.\n",
      "The \"No._WebPurchases\" column is winsorized.\n",
      "The \"No._CatalogPurchases\" column is winsorized.\n",
      "The \"No._StorePurchases\" column is winsorized.\n",
      "The \"Revenue\" column is winsorized.\n"
     ]
    }
   ],
   "source": [
    "#create a new data set by making a copy of \"shopping_raw\" and perform winsorizing on it, so that shopping_raw stays untouched\n",
    "shopping = shopping1.copy()\n",
    "\n",
    "for column in col_towinsorize:\n",
    "    winsorizing(shopping, column)"
   ]
  },
  {
   "cell_type": "markdown",
   "id": "bfd30bfd",
   "metadata": {},
   "source": [
    "Let's view the winsorized dataset:"
   ]
  },
  {
   "cell_type": "code",
   "execution_count": 24,
   "id": "1a7d664f",
   "metadata": {},
   "outputs": [
    {
     "data": {
      "image/png": "[encoded data removed]",
      "text/plain": [
       "<Figure size 1440x288 with 1 Axes>"
      ]
     },
     "metadata": {
      "needs_background": "light"
     },
     "output_type": "display_data"
    }
   ],
   "source": [
    "plt.figure(figsize=(20,4))\n",
    "shopping.boxplot(col_towinsorize)\n",
    "plt.yscale('log')\n",
    "plt.show()"
   ]
  },
  {
   "cell_type": "markdown",
   "id": "280ca102",
   "metadata": {},
   "source": [
    "As the boxplot of the new dataset suggests, there are no more outliers. After data cleaning, we now transform the data. As implemented in \"Assignment 03\", it is a good approach to devide the data in Martial_Status in two groups:\n",
    "- 'Married’, 'Together' should be labeled 'Relationship'\n",
    "- 'Divorced', 'Widow', 'Alone', 'YOLO', 'Absurd' should be labeled 'Single'"
   ]
  },
  {
   "cell_type": "code",
   "execution_count": 25,
   "id": "ea1d40de",
   "metadata": {},
   "outputs": [],
   "source": [
    "#Create mappings and replace\n",
    "mappings = {\n",
    "            'Married':'Relationship', \n",
    "            'Together':'Relationship',\n",
    "            'Divorced':'Single', \n",
    "            'Widow':'Single', \n",
    "            'Alone':'Single', \n",
    "            'YOLO':'Single', \n",
    "            'Absurd':'Single'\n",
    "}\n",
    "shopping.Marital_Status = shopping.Marital_Status.replace(mappings)"
   ]
  },
  {
   "cell_type": "code",
   "execution_count": 26,
   "id": "41aa5e67",
   "metadata": {},
   "outputs": [
    {
     "name": "stdout",
     "output_type": "stream",
     "text": [
      "['Single' 'Relationship']\n"
     ]
    }
   ],
   "source": [
    "#check the unique values in \"Martial_Status\"\n",
    "print(shopping.Marital_Status.unique())"
   ]
  },
  {
   "cell_type": "markdown",
   "id": "f8f5a074",
   "metadata": {},
   "source": [
    "Finally, we slightly modify the name of the columns `No._WebPurchases`, `No._CatalogPurchases`, `No._StorePurchases`to align the format with our naming convention and also to ensure that the regression model in the next question will work: "
   ]
  },
  {
   "cell_type": "code",
   "execution_count": 27,
   "id": "8e1ad72d",
   "metadata": {},
   "outputs": [],
   "source": [
    "shopping.rename(columns={'No._WebPurchases':'Num_WebPurchases', 'No._CatalogPurchases':'Num_CatalogPurchases', \\\n",
    "                         'No._StorePurchases':'Num_StorePurchases'}, inplace=True)"
   ]
  },
  {
   "cell_type": "markdown",
   "id": "b97c342e",
   "metadata": {},
   "source": [
    "An overview of the cleaned and transformed data:"
   ]
  },
  {
   "cell_type": "code",
   "execution_count": 28,
   "id": "7fe609b4",
   "metadata": {},
   "outputs": [
    {
     "data": {
      "text/html": [
       "<div>\n",
       "<style scoped>\n",
       "    .dataframe tbody tr th:only-of-type {\n",
       "        vertical-align: middle;\n",
       "    }\n",
       "\n",
       "    .dataframe tbody tr th {\n",
       "        vertical-align: top;\n",
       "    }\n",
       "\n",
       "    .dataframe thead th {\n",
       "        text-align: right;\n",
       "    }\n",
       "</style>\n",
       "<table border=\"1\" class=\"dataframe\">\n",
       "  <thead>\n",
       "    <tr style=\"text-align: right;\">\n",
       "      <th></th>\n",
       "      <th>ID</th>\n",
       "      <th>Year_of_Birth</th>\n",
       "      <th>Highest_Qualification</th>\n",
       "      <th>Marital_Status</th>\n",
       "      <th>Income</th>\n",
       "      <th>Kids_home</th>\n",
       "      <th>Teen_home</th>\n",
       "      <th>AcceptedCmp1</th>\n",
       "      <th>AcceptedCmp2</th>\n",
       "      <th>AcceptedCmp3</th>\n",
       "      <th>AcceptedCmp4</th>\n",
       "      <th>AcceptedCmp5</th>\n",
       "      <th>Complains</th>\n",
       "      <th>Num_WebPurchases</th>\n",
       "      <th>Num_CatalogPurchases</th>\n",
       "      <th>Num_StorePurchases</th>\n",
       "      <th>Revenue</th>\n",
       "    </tr>\n",
       "  </thead>\n",
       "  <tbody>\n",
       "    <tr>\n",
       "      <th>0</th>\n",
       "      <td>5524</td>\n",
       "      <td>1957</td>\n",
       "      <td>Graduation</td>\n",
       "      <td>Single</td>\n",
       "      <td>58138.0</td>\n",
       "      <td>0</td>\n",
       "      <td>0</td>\n",
       "      <td>0</td>\n",
       "      <td>0</td>\n",
       "      <td>0</td>\n",
       "      <td>0</td>\n",
       "      <td>0</td>\n",
       "      <td>0</td>\n",
       "      <td>8</td>\n",
       "      <td>10</td>\n",
       "      <td>4.0</td>\n",
       "      <td>1617</td>\n",
       "    </tr>\n",
       "    <tr>\n",
       "      <th>1</th>\n",
       "      <td>2174</td>\n",
       "      <td>1954</td>\n",
       "      <td>Graduation</td>\n",
       "      <td>Single</td>\n",
       "      <td>46344.0</td>\n",
       "      <td>1</td>\n",
       "      <td>1</td>\n",
       "      <td>0</td>\n",
       "      <td>0</td>\n",
       "      <td>0</td>\n",
       "      <td>0</td>\n",
       "      <td>0</td>\n",
       "      <td>0</td>\n",
       "      <td>1</td>\n",
       "      <td>1</td>\n",
       "      <td>2.0</td>\n",
       "      <td>27</td>\n",
       "    </tr>\n",
       "    <tr>\n",
       "      <th>2</th>\n",
       "      <td>4141</td>\n",
       "      <td>1965</td>\n",
       "      <td>Graduation</td>\n",
       "      <td>Relationship</td>\n",
       "      <td>71613.0</td>\n",
       "      <td>0</td>\n",
       "      <td>0</td>\n",
       "      <td>0</td>\n",
       "      <td>0</td>\n",
       "      <td>0</td>\n",
       "      <td>0</td>\n",
       "      <td>0</td>\n",
       "      <td>0</td>\n",
       "      <td>8</td>\n",
       "      <td>2</td>\n",
       "      <td>10.0</td>\n",
       "      <td>776</td>\n",
       "    </tr>\n",
       "    <tr>\n",
       "      <th>3</th>\n",
       "      <td>6182</td>\n",
       "      <td>1984</td>\n",
       "      <td>Graduation</td>\n",
       "      <td>Relationship</td>\n",
       "      <td>26646.0</td>\n",
       "      <td>1</td>\n",
       "      <td>0</td>\n",
       "      <td>0</td>\n",
       "      <td>0</td>\n",
       "      <td>0</td>\n",
       "      <td>0</td>\n",
       "      <td>0</td>\n",
       "      <td>0</td>\n",
       "      <td>2</td>\n",
       "      <td>0</td>\n",
       "      <td>4.0</td>\n",
       "      <td>53</td>\n",
       "    </tr>\n",
       "    <tr>\n",
       "      <th>4</th>\n",
       "      <td>5324</td>\n",
       "      <td>1981</td>\n",
       "      <td>PhD</td>\n",
       "      <td>Relationship</td>\n",
       "      <td>58293.0</td>\n",
       "      <td>1</td>\n",
       "      <td>0</td>\n",
       "      <td>0</td>\n",
       "      <td>0</td>\n",
       "      <td>0</td>\n",
       "      <td>0</td>\n",
       "      <td>0</td>\n",
       "      <td>0</td>\n",
       "      <td>5</td>\n",
       "      <td>3</td>\n",
       "      <td>6.0</td>\n",
       "      <td>422</td>\n",
       "    </tr>\n",
       "  </tbody>\n",
       "</table>\n",
       "</div>"
      ],
      "text/plain": [
       "     ID  Year_of_Birth Highest_Qualification Marital_Status   Income  \\\n",
       "0  5524           1957            Graduation         Single  58138.0   \n",
       "1  2174           1954            Graduation         Single  46344.0   \n",
       "2  4141           1965            Graduation   Relationship  71613.0   \n",
       "3  6182           1984            Graduation   Relationship  26646.0   \n",
       "4  5324           1981                   PhD   Relationship  58293.0   \n",
       "\n",
       "   Kids_home  Teen_home  AcceptedCmp1  AcceptedCmp2  AcceptedCmp3  \\\n",
       "0          0          0             0             0             0   \n",
       "1          1          1             0             0             0   \n",
       "2          0          0             0             0             0   \n",
       "3          1          0             0             0             0   \n",
       "4          1          0             0             0             0   \n",
       "\n",
       "   AcceptedCmp4  AcceptedCmp5  Complains  Num_WebPurchases  \\\n",
       "0             0             0          0                 8   \n",
       "1             0             0          0                 1   \n",
       "2             0             0          0                 8   \n",
       "3             0             0          0                 2   \n",
       "4             0             0          0                 5   \n",
       "\n",
       "   Num_CatalogPurchases  Num_StorePurchases  Revenue  \n",
       "0                    10                 4.0     1617  \n",
       "1                     1                 2.0       27  \n",
       "2                     2                10.0      776  \n",
       "3                     0                 4.0       53  \n",
       "4                     3                 6.0      422  "
      ]
     },
     "execution_count": 28,
     "metadata": {},
     "output_type": "execute_result"
    }
   ],
   "source": [
    "shopping.head()"
   ]
  },
  {
   "cell_type": "markdown",
   "id": "49905a91",
   "metadata": {},
   "source": [
    "Now, we can proceed with correlation and regression analysis."
   ]
  },
  {
   "cell_type": "markdown",
   "id": "f567b983",
   "metadata": {},
   "source": [
    "## Question 1\n",
    "Which five attributes does the revenue correlate with most strongly? Is this\n",
    "correlation significant? Give the correlation coefficient and the p-value as a\n",
    "number and interpret the result."
   ]
  },
  {
   "cell_type": "markdown",
   "id": "94e23601",
   "metadata": {},
   "source": [
    "For correlation analysis, we just focus on columns of numerical i.e. ratio and interval data and ignore categorical variables. Thus, we will calculate Pearson's correlation."
   ]
  },
  {
   "cell_type": "code",
   "execution_count": 29,
   "id": "bd2bc378",
   "metadata": {},
   "outputs": [],
   "source": [
    "#slice the data frame using numerical columns\n",
    "num_cols = ['Year_of_Birth', 'Income', 'Kids_home', 'Teen_home', 'Num_WebPurchases', 'Num_CatalogPurchases', 'Num_StorePurchases', 'Revenue']\n",
    "shopping_num = shopping[num_cols]"
   ]
  },
  {
   "cell_type": "code",
   "execution_count": 30,
   "id": "632ac695",
   "metadata": {
    "scrolled": true
   },
   "outputs": [
    {
     "data": {
      "text/html": [
       "<div>\n",
       "<style scoped>\n",
       "    .dataframe tbody tr th:only-of-type {\n",
       "        vertical-align: middle;\n",
       "    }\n",
       "\n",
       "    .dataframe tbody tr th {\n",
       "        vertical-align: top;\n",
       "    }\n",
       "\n",
       "    .dataframe thead th {\n",
       "        text-align: right;\n",
       "    }\n",
       "</style>\n",
       "<table border=\"1\" class=\"dataframe\">\n",
       "  <thead>\n",
       "    <tr style=\"text-align: right;\">\n",
       "      <th></th>\n",
       "      <th>Year_of_Birth</th>\n",
       "      <th>Income</th>\n",
       "      <th>Kids_home</th>\n",
       "      <th>Teen_home</th>\n",
       "      <th>Num_WebPurchases</th>\n",
       "      <th>Num_CatalogPurchases</th>\n",
       "      <th>Num_StorePurchases</th>\n",
       "      <th>Revenue</th>\n",
       "    </tr>\n",
       "  </thead>\n",
       "  <tbody>\n",
       "    <tr>\n",
       "      <th>Year_of_Birth</th>\n",
       "      <td>1.000000</td>\n",
       "      <td>-0.204194</td>\n",
       "      <td>0.234133</td>\n",
       "      <td>-0.363350</td>\n",
       "      <td>-0.159704</td>\n",
       "      <td>-0.141261</td>\n",
       "      <td>-0.139465</td>\n",
       "      <td>-0.113940</td>\n",
       "    </tr>\n",
       "    <tr>\n",
       "      <th>Income</th>\n",
       "      <td>-0.204194</td>\n",
       "      <td>1.000000</td>\n",
       "      <td>-0.518295</td>\n",
       "      <td>0.036229</td>\n",
       "      <td>0.493620</td>\n",
       "      <td>0.716637</td>\n",
       "      <td>0.650890</td>\n",
       "      <td>0.803805</td>\n",
       "    </tr>\n",
       "    <tr>\n",
       "      <th>Kids_home</th>\n",
       "      <td>0.234133</td>\n",
       "      <td>-0.518295</td>\n",
       "      <td>1.000000</td>\n",
       "      <td>-0.035753</td>\n",
       "      <td>-0.377223</td>\n",
       "      <td>-0.531074</td>\n",
       "      <td>-0.500387</td>\n",
       "      <td>-0.556935</td>\n",
       "    </tr>\n",
       "    <tr>\n",
       "      <th>Teen_home</th>\n",
       "      <td>-0.363350</td>\n",
       "      <td>0.036229</td>\n",
       "      <td>-0.035753</td>\n",
       "      <td>1.000000</td>\n",
       "      <td>0.161140</td>\n",
       "      <td>-0.109766</td>\n",
       "      <td>0.050517</td>\n",
       "      <td>-0.137752</td>\n",
       "    </tr>\n",
       "    <tr>\n",
       "      <th>Num_WebPurchases</th>\n",
       "      <td>-0.159704</td>\n",
       "      <td>0.493620</td>\n",
       "      <td>-0.377223</td>\n",
       "      <td>0.161140</td>\n",
       "      <td>1.000000</td>\n",
       "      <td>0.448094</td>\n",
       "      <td>0.542906</td>\n",
       "      <td>0.548613</td>\n",
       "    </tr>\n",
       "    <tr>\n",
       "      <th>Num_CatalogPurchases</th>\n",
       "      <td>-0.141261</td>\n",
       "      <td>0.716637</td>\n",
       "      <td>-0.531074</td>\n",
       "      <td>-0.109766</td>\n",
       "      <td>0.448094</td>\n",
       "      <td>1.000000</td>\n",
       "      <td>0.572088</td>\n",
       "      <td>0.808189</td>\n",
       "    </tr>\n",
       "    <tr>\n",
       "      <th>Num_StorePurchases</th>\n",
       "      <td>-0.139465</td>\n",
       "      <td>0.650890</td>\n",
       "      <td>-0.500387</td>\n",
       "      <td>0.050517</td>\n",
       "      <td>0.542906</td>\n",
       "      <td>0.572088</td>\n",
       "      <td>1.000000</td>\n",
       "      <td>0.675603</td>\n",
       "    </tr>\n",
       "    <tr>\n",
       "      <th>Revenue</th>\n",
       "      <td>-0.113940</td>\n",
       "      <td>0.803805</td>\n",
       "      <td>-0.556935</td>\n",
       "      <td>-0.137752</td>\n",
       "      <td>0.548613</td>\n",
       "      <td>0.808189</td>\n",
       "      <td>0.675603</td>\n",
       "      <td>1.000000</td>\n",
       "    </tr>\n",
       "  </tbody>\n",
       "</table>\n",
       "</div>"
      ],
      "text/plain": [
       "                      Year_of_Birth    Income  Kids_home  Teen_home  \\\n",
       "Year_of_Birth              1.000000 -0.204194   0.234133  -0.363350   \n",
       "Income                    -0.204194  1.000000  -0.518295   0.036229   \n",
       "Kids_home                  0.234133 -0.518295   1.000000  -0.035753   \n",
       "Teen_home                 -0.363350  0.036229  -0.035753   1.000000   \n",
       "Num_WebPurchases          -0.159704  0.493620  -0.377223   0.161140   \n",
       "Num_CatalogPurchases      -0.141261  0.716637  -0.531074  -0.109766   \n",
       "Num_StorePurchases        -0.139465  0.650890  -0.500387   0.050517   \n",
       "Revenue                   -0.113940  0.803805  -0.556935  -0.137752   \n",
       "\n",
       "                      Num_WebPurchases  Num_CatalogPurchases  \\\n",
       "Year_of_Birth                -0.159704             -0.141261   \n",
       "Income                        0.493620              0.716637   \n",
       "Kids_home                    -0.377223             -0.531074   \n",
       "Teen_home                     0.161140             -0.109766   \n",
       "Num_WebPurchases              1.000000              0.448094   \n",
       "Num_CatalogPurchases          0.448094              1.000000   \n",
       "Num_StorePurchases            0.542906              0.572088   \n",
       "Revenue                       0.548613              0.808189   \n",
       "\n",
       "                      Num_StorePurchases   Revenue  \n",
       "Year_of_Birth                  -0.139465 -0.113940  \n",
       "Income                          0.650890  0.803805  \n",
       "Kids_home                      -0.500387 -0.556935  \n",
       "Teen_home                       0.050517 -0.137752  \n",
       "Num_WebPurchases                0.542906  0.548613  \n",
       "Num_CatalogPurchases            0.572088  0.808189  \n",
       "Num_StorePurchases              1.000000  0.675603  \n",
       "Revenue                         0.675603  1.000000  "
      ]
     },
     "execution_count": 30,
     "metadata": {},
     "output_type": "execute_result"
    }
   ],
   "source": [
    "#the correlation matrix of all numerical columns\n",
    "corr_mat = shopping_num.corr()\n",
    "corr_mat"
   ]
  },
  {
   "cell_type": "markdown",
   "id": "df3a1fff",
   "metadata": {},
   "source": [
    "Let's visualize the correlation matrix with the help of the heatmap:"
   ]
  },
  {
   "cell_type": "code",
   "execution_count": 31,
   "id": "eac2f692",
   "metadata": {},
   "outputs": [
    {
     "data": {
      "image/png": "[encoded data removed]",
      "text/plain": [
       "<Figure size 600x300 with 2 Axes>"
      ]
     },
     "metadata": {
      "needs_background": "light"
     },
     "output_type": "display_data"
    }
   ],
   "source": [
    "plt.figure(figsize=(2,1), dpi = 300)\n",
    "sns.set_context('paper', font_scale=0.3)\n",
    "sns.heatmap(corr_mat, annot=True, cmap='Reds')\n",
    "plt.show()\n",
    "\n",
    "#adjust the plot parameters after running heatmap\n",
    "sns.set_context(font_scale=1)\n",
    "parameters = {'axes.labelsize':15, 'axes.titlesize':15, 'xtick.labelsize':12, 'ytick.labelsize':12, \\\n",
    "              'legend.title_fontsize':10, 'legend.fontsize':10}\n",
    "plt.rcParams.update(parameters)"
   ]
  },
  {
   "cell_type": "markdown",
   "id": "944e3c1d",
   "metadata": {},
   "source": [
    "Note that to answer this question, we need to be aware that the sign of the correlation coefficient (ie, positive or negative) defines the direction of the relationship, whereas the absolute value indicates the strength of correlation. Thus, we will select the 5 strongest correlations, except for the correlation between \"revenue\" and itself, which are perfectly correlated, based on the absolute value."
   ]
  },
  {
   "cell_type": "code",
   "execution_count": 32,
   "id": "270409bb",
   "metadata": {},
   "outputs": [
    {
     "data": {
      "text/html": [
       "<div>\n",
       "<style scoped>\n",
       "    .dataframe tbody tr th:only-of-type {\n",
       "        vertical-align: middle;\n",
       "    }\n",
       "\n",
       "    .dataframe tbody tr th {\n",
       "        vertical-align: top;\n",
       "    }\n",
       "\n",
       "    .dataframe thead th {\n",
       "        text-align: right;\n",
       "    }\n",
       "</style>\n",
       "<table border=\"1\" class=\"dataframe\">\n",
       "  <thead>\n",
       "    <tr style=\"text-align: right;\">\n",
       "      <th></th>\n",
       "      <th>Pearson r</th>\n",
       "    </tr>\n",
       "  </thead>\n",
       "  <tbody>\n",
       "    <tr>\n",
       "      <th>Num_CatalogPurchases</th>\n",
       "      <td>0.808189</td>\n",
       "    </tr>\n",
       "    <tr>\n",
       "      <th>Income</th>\n",
       "      <td>0.803805</td>\n",
       "    </tr>\n",
       "    <tr>\n",
       "      <th>Num_StorePurchases</th>\n",
       "      <td>0.675603</td>\n",
       "    </tr>\n",
       "    <tr>\n",
       "      <th>Kids_home</th>\n",
       "      <td>-0.556935</td>\n",
       "    </tr>\n",
       "    <tr>\n",
       "      <th>Num_WebPurchases</th>\n",
       "      <td>0.548613</td>\n",
       "    </tr>\n",
       "  </tbody>\n",
       "</table>\n",
       "</div>"
      ],
      "text/plain": [
       "                      Pearson r\n",
       "Num_CatalogPurchases   0.808189\n",
       "Income                 0.803805\n",
       "Num_StorePurchases     0.675603\n",
       "Kids_home             -0.556935\n",
       "Num_WebPurchases       0.548613"
      ]
     },
     "execution_count": 32,
     "metadata": {},
     "output_type": "execute_result"
    }
   ],
   "source": [
    "df_corr = corr_mat.loc[abs(corr_mat.Revenue).nlargest(6).index, ['Revenue']][1:].rename(columns={'Revenue':'Pearson r'})\n",
    "df_corr"
   ]
  },
  {
   "cell_type": "code",
   "execution_count": 33,
   "id": "6cfb35dd",
   "metadata": {},
   "outputs": [],
   "source": [
    "#we add a column of the interpretation of the correlation coefficient based on the scale given in the course script\n",
    "df_corr['r interpretation'] = df_corr['Pearson r'].apply(lambda val: \n",
    "                           'Perfectly positive' if val==1.0\n",
    "                           else ('Strongly positive' if 0.8<=val<1.0\n",
    "                                 else ('Moderately positive' if 0.5<=val<0.8\n",
    "                                       else ('Weakly positive' if 0.2<=val<0.5\n",
    "                                             else ('No association' if -0.2<val<0.2\n",
    "                                                  else ('Weakly negative' if -0.5<val<=-0.2\n",
    "                                                       else('Moderately negative' if -0.8<val<=-0.5\n",
    "                                                           else ('Strongly negative' if -1.0<val<=-0.8 else 'Perfectly negative'))))))))"
   ]
  },
  {
   "cell_type": "code",
   "execution_count": 34,
   "id": "62cd7980",
   "metadata": {},
   "outputs": [
    {
     "data": {
      "text/html": [
       "<div>\n",
       "<style scoped>\n",
       "    .dataframe tbody tr th:only-of-type {\n",
       "        vertical-align: middle;\n",
       "    }\n",
       "\n",
       "    .dataframe tbody tr th {\n",
       "        vertical-align: top;\n",
       "    }\n",
       "\n",
       "    .dataframe thead th {\n",
       "        text-align: right;\n",
       "    }\n",
       "</style>\n",
       "<table border=\"1\" class=\"dataframe\">\n",
       "  <thead>\n",
       "    <tr style=\"text-align: right;\">\n",
       "      <th></th>\n",
       "      <th>Pearson r</th>\n",
       "      <th>r interpretation</th>\n",
       "    </tr>\n",
       "  </thead>\n",
       "  <tbody>\n",
       "    <tr>\n",
       "      <th>Num_CatalogPurchases</th>\n",
       "      <td>0.808189</td>\n",
       "      <td>Strongly positive</td>\n",
       "    </tr>\n",
       "    <tr>\n",
       "      <th>Income</th>\n",
       "      <td>0.803805</td>\n",
       "      <td>Strongly positive</td>\n",
       "    </tr>\n",
       "    <tr>\n",
       "      <th>Num_StorePurchases</th>\n",
       "      <td>0.675603</td>\n",
       "      <td>Moderately positive</td>\n",
       "    </tr>\n",
       "    <tr>\n",
       "      <th>Kids_home</th>\n",
       "      <td>-0.556935</td>\n",
       "      <td>Moderately negative</td>\n",
       "    </tr>\n",
       "    <tr>\n",
       "      <th>Num_WebPurchases</th>\n",
       "      <td>0.548613</td>\n",
       "      <td>Moderately positive</td>\n",
       "    </tr>\n",
       "  </tbody>\n",
       "</table>\n",
       "</div>"
      ],
      "text/plain": [
       "                      Pearson r     r interpretation\n",
       "Num_CatalogPurchases   0.808189    Strongly positive\n",
       "Income                 0.803805    Strongly positive\n",
       "Num_StorePurchases     0.675603  Moderately positive\n",
       "Kids_home             -0.556935  Moderately negative\n",
       "Num_WebPurchases       0.548613  Moderately positive"
      ]
     },
     "execution_count": 34,
     "metadata": {},
     "output_type": "execute_result"
    }
   ],
   "source": [
    "df_corr"
   ]
  },
  {
   "cell_type": "markdown",
   "id": "1c0c1487",
   "metadata": {},
   "source": [
    "It's worth noting that there is a negative correlation between the revenue and the number of kids of a customer, meaning revenue tend to increase with a decreasing number of kids; and tend to decrease with the a increasing number of kids. As next, let's expore the significance of the correlation by inspecting the p-value for testing non-correlation."
   ]
  },
  {
   "cell_type": "code",
   "execution_count": 35,
   "id": "17ea01d2",
   "metadata": {},
   "outputs": [
    {
     "data": {
      "text/html": [
       "<div>\n",
       "<style scoped>\n",
       "    .dataframe tbody tr th:only-of-type {\n",
       "        vertical-align: middle;\n",
       "    }\n",
       "\n",
       "    .dataframe tbody tr th {\n",
       "        vertical-align: top;\n",
       "    }\n",
       "\n",
       "    .dataframe thead th {\n",
       "        text-align: right;\n",
       "    }\n",
       "</style>\n",
       "<table border=\"1\" class=\"dataframe\">\n",
       "  <thead>\n",
       "    <tr style=\"text-align: right;\">\n",
       "      <th></th>\n",
       "      <th>Pearson r</th>\n",
       "      <th>r interpretation</th>\n",
       "      <th>p-value</th>\n",
       "    </tr>\n",
       "  </thead>\n",
       "  <tbody>\n",
       "    <tr>\n",
       "      <th>Num_CatalogPurchases</th>\n",
       "      <td>0.808189</td>\n",
       "      <td>Strongly positive</td>\n",
       "      <td>0.000000e+00</td>\n",
       "    </tr>\n",
       "    <tr>\n",
       "      <th>Income</th>\n",
       "      <td>0.803805</td>\n",
       "      <td>Strongly positive</td>\n",
       "      <td>0.000000e+00</td>\n",
       "    </tr>\n",
       "    <tr>\n",
       "      <th>Num_StorePurchases</th>\n",
       "      <td>0.675603</td>\n",
       "      <td>Moderately positive</td>\n",
       "      <td>3.445879e-298</td>\n",
       "    </tr>\n",
       "    <tr>\n",
       "      <th>Kids_home</th>\n",
       "      <td>-0.556935</td>\n",
       "      <td>Moderately negative</td>\n",
       "      <td>1.866166e-182</td>\n",
       "    </tr>\n",
       "    <tr>\n",
       "      <th>Num_WebPurchases</th>\n",
       "      <td>0.548613</td>\n",
       "      <td>Moderately positive</td>\n",
       "      <td>5.093675e-176</td>\n",
       "    </tr>\n",
       "  </tbody>\n",
       "</table>\n",
       "</div>"
      ],
      "text/plain": [
       "                      Pearson r     r interpretation        p-value\n",
       "Num_CatalogPurchases   0.808189    Strongly positive   0.000000e+00\n",
       "Income                 0.803805    Strongly positive   0.000000e+00\n",
       "Num_StorePurchases     0.675603  Moderately positive  3.445879e-298\n",
       "Kids_home             -0.556935  Moderately negative  1.866166e-182\n",
       "Num_WebPurchases       0.548613  Moderately positive  5.093675e-176"
      ]
     },
     "execution_count": 35,
     "metadata": {},
     "output_type": "execute_result"
    }
   ],
   "source": [
    "#create a list of p-values for testing non-correlation and attach it to our \"df_corr\" dataframe as a new column \"p-value\"\n",
    "df_corr['p-value'] = [pearsonr(shopping_num[i], shopping_num.Revenue)[1] for i in df_corr.index]\n",
    "df_corr"
   ]
  },
  {
   "cell_type": "markdown",
   "id": "dd6dddd9",
   "metadata": {},
   "source": [
    "p-value roughly indicates the probability of an uncorrelated system producing datasets with a Pearson correlation at least as extreme as the one computed from these datasets.\n",
    "As all p-values are smaller than 0.05, the null hypothesis (correlation equal to 0) is thus rejected, meaning that there are significant linear relationships between each of these five attributes and “revenue”, in other words, the correlation cofficients are significantly different from zero."
   ]
  },
  {
   "cell_type": "markdown",
   "id": "16aa5862",
   "metadata": {},
   "source": [
    "On last step, let's visualize the relations between `Revenue` and the two most correlated features to it - `Num_CatalogPurchases` and `Income` using scatter-plot."
   ]
  },
  {
   "cell_type": "code",
   "execution_count": 36,
   "id": "2b16c823",
   "metadata": {},
   "outputs": [
    {
     "data": {
      "image/png": "[encoded data removed]",
      "text/plain": [
       "<Figure size 864x288 with 2 Axes>"
      ]
     },
     "metadata": {
      "needs_background": "light"
     },
     "output_type": "display_data"
    }
   ],
   "source": [
    "fig, ax = plt.subplots(1,2, figsize=(12,4))\n",
    "ax[0].scatter(shopping_num['Revenue'], shopping_num['Num_CatalogPurchases'])\n",
    "ax[0].tick_params(axis='both', labelsize=15)\n",
    "ax[0].set_xlabel('Revenue', fontsize=15)\n",
    "ax[0].set_ylabel('Num_CatalogPurchases', fontsize=15)\n",
    "\n",
    "ax[1].scatter(shopping_num['Revenue'], shopping_num['Income'])\n",
    "ax[1].tick_params(axis='both', labelsize=15)\n",
    "ax[1].set_xlabel('Revenue', fontsize=15)\n",
    "ax[1].set_ylabel('Income', fontsize=15)\n",
    "\n",
    "plt.xticks(fontsize=10)\n",
    "fig.suptitle('relations between \"Revenue\" and the two most correlated features', fontsize=20)\n",
    "plt.tight_layout()\n",
    "plt.show()"
   ]
  },
  {
   "cell_type": "markdown",
   "id": "d7bb84df",
   "metadata": {},
   "source": [
    "## Question 2\n",
    "Create and interpret a multiple regression model that explains the revenue. Explain and interpret the model. Describe what recommendations you can give the retailer, to increase the revenue."
   ]
  },
  {
   "cell_type": "markdown",
   "id": "4e7ddcb1",
   "metadata": {},
   "source": [
    "In this step, we create a linear model that estimates revenues based on all attributes (independent variables):"
   ]
  },
  {
   "cell_type": "code",
   "execution_count": 37,
   "id": "8fca34d9",
   "metadata": {},
   "outputs": [],
   "source": [
    "#We add a zero to the formula to denote not including a global intercept term\n",
    "lm_revenue_all = ols(\"Revenue ~ Year_of_Birth+Highest_Qualification+Marital_Status+Income+Kids_home+Teen_home+ \\\n",
    "                    AcceptedCmp1+AcceptedCmp2+AcceptedCmp3+AcceptedCmp4+AcceptedCmp5+Complains+ \\\n",
    "                    Num_WebPurchases+Num_CatalogPurchases+Num_StorePurchases + 0\", data=shopping).fit()"
   ]
  },
  {
   "cell_type": "code",
   "execution_count": 38,
   "id": "586f0798",
   "metadata": {
    "scrolled": false
   },
   "outputs": [
    {
     "name": "stdout",
     "output_type": "stream",
     "text": [
      "                            OLS Regression Results                            \n",
      "==============================================================================\n",
      "Dep. Variable:                Revenue   R-squared:                       0.822\n",
      "Model:                            OLS   Adj. R-squared:                  0.820\n",
      "Method:                 Least Squares   F-statistic:                     567.4\n",
      "Date:                Sun, 11 Sep 2022   Prob (F-statistic):               0.00\n",
      "Time:                        13:19:13   Log-Likelihood:                -15562.\n",
      "No. Observations:                2237   AIC:                         3.116e+04\n",
      "Df Residuals:                    2218   BIC:                         3.127e+04\n",
      "Df Model:                          18                                         \n",
      "Covariance Type:            nonrobust                                         \n",
      "=====================================================================================================\n",
      "                                        coef    std err          t      P>|t|      [0.025      0.975]\n",
      "-----------------------------------------------------------------------------------------------------\n",
      "Highest_Qualification[2n Cycle]   -1762.4959   1026.976     -1.716      0.086   -3776.431     251.439\n",
      "Highest_Qualification[Basic]      -1682.4519   1027.585     -1.637      0.102   -3697.580     332.677\n",
      "Highest_Qualification[Graduation] -1727.0586   1025.747     -1.684      0.092   -3738.583     284.466\n",
      "Highest_Qualification[Master]     -1722.6692   1024.503     -1.681      0.093   -3731.754     286.415\n",
      "Highest_Qualification[PhD]        -1728.6702   1024.558     -1.687      0.092   -3737.863     280.522\n",
      "Marital_Status[T.Single]             11.9861     11.304      1.060      0.289     -10.182      34.154\n",
      "Year_of_Birth                         0.7413      0.520      1.426      0.154      -0.278       1.760\n",
      "Income                                0.0087      0.000     19.424      0.000       0.008       0.010\n",
      "Kids_home                           -71.4300     12.713     -5.619      0.000     -96.360     -46.500\n",
      "Teen_home                          -121.0788     11.375    -10.644      0.000    -143.385     -98.772\n",
      "AcceptedCmp1                         88.1572     25.261      3.490      0.000      38.619     137.696\n",
      "AcceptedCmp2                         -5.7193     49.982     -0.114      0.909    -103.736      92.297\n",
      "AcceptedCmp3                         18.1957     21.662      0.840      0.401     -24.284      60.675\n",
      "AcceptedCmp4                         81.5800     22.955      3.554      0.000      36.564     126.596\n",
      "AcceptedCmp5                        267.7588     25.315     10.577      0.000     218.115     317.402\n",
      "Complains                           -57.7952     57.489     -1.005      0.315    -170.534      54.943\n",
      "Num_WebPurchases                     29.6408      2.567     11.545      0.000      24.606      34.676\n",
      "Num_CatalogPurchases                 76.2021      3.139     24.277      0.000      70.047      82.358\n",
      "Num_StorePurchases                   27.5455      2.424     11.366      0.000      22.793      32.298\n",
      "==============================================================================\n",
      "Omnibus:                      313.541   Durbin-Watson:                   1.976\n",
      "Prob(Omnibus):                  0.000   Jarque-Bera (JB):             1818.005\n",
      "Skew:                           0.518   Prob(JB):                         0.00\n",
      "Kurtosis:                       7.293   Cond. No.                     2.38e+07\n",
      "==============================================================================\n",
      "\n",
      "Notes:\n",
      "[1] Standard Errors assume that the covariance matrix of the errors is correctly specified.\n",
      "[2] The condition number is large, 2.38e+07. This might indicate that there are\n",
      "strong multicollinearity or other numerical problems.\n"
     ]
    }
   ],
   "source": [
    "#view the summary report\n",
    "print(lm_revenue_all.summary())"
   ]
  },
  {
   "cell_type": "markdown",
   "id": "b9045796",
   "metadata": {},
   "source": [
    "### Interpretation and assessment of model fit:"
   ]
  },
  {
   "cell_type": "markdown",
   "id": "059d2953",
   "metadata": {},
   "source": [
    "#### 1. Quantifying model fit:"
   ]
  },
  {
   "cell_type": "markdown",
   "id": "f5b423cb",
   "metadata": {},
   "source": [
    "1.1 Statistically significant independent variables\n",
    "\n",
    "As the p-values of the independent variables in the summary report show, variables `Income`, `Kids_home`, `Teen_home`, `AcceptedCmp1`, `AcceptedCmp4`, `AcceptedCmp5`, `Num_WebPurchases`, `Num_CatalogPurchases` and `Num_StorePurchases` could statistically significantly explain the revenue. "
   ]
  },
  {
   "cell_type": "markdown",
   "id": "72f4bcdc",
   "metadata": {},
   "source": [
    "1.2 Coefficient of determination\n",
    "\n",
    "The parameter R² indicates that this regression accounted for 82.2% of the explained variability in the revenue. Contrary to R², the adjusted R² (here 82%) also indicates how well terms fit a curve or line, but adjusts for the number of terms in a model.\n",
    "In general, a higher R² may be a sign of a better model fit, but the situation becomes more complicated in multiple regression, because additional explanatory variables will always increase R², even if the marginal contribution of the new variables is not statistically significant. Consequently, a relatively high R² may reflect the impact of a large set of independent variables rather than how well the set explains the dependent variable. This problem is often referred to as overestimating the regression. With too many predictors in the model, one can run into the issue of over‐fitting the data. The adjusted R² applies a penalty as the number of explanatory variables increases. Thus, model fits in multiple regression are often compared using the adjusted R²."
   ]
  },
  {
   "cell_type": "markdown",
   "id": "b17e87a2",
   "metadata": {},
   "source": [
    "1.3 Residual standard error\n",
    "\n",
    "Residual standard error (RSE) is a measure of the typical size of the residuals. Roughly speaking, it is the average amount that the response will deviate from the true regression line and thus is a measure of the accuracy for regression model. Equivalently, it's a measure of how wrong we can expect predictions to be. Smaller numbers are better, with zero being a perfect fit to the data."
   ]
  },
  {
   "cell_type": "code",
   "execution_count": 39,
   "id": "21eb4c7b",
   "metadata": {},
   "outputs": [
    {
     "name": "stdout",
     "output_type": "stream",
     "text": [
      "RSE of original model:  255.2119743310387\n"
     ]
    }
   ],
   "source": [
    "# 1. Calculate Mean squared error of the residuals (The sum of squared residuals divided by the residual degrees of freedom.)\n",
    "mse_orig = lm_revenue_all.mse_resid\n",
    "# 2. Calculate RSE by taking the root of mse_orig\n",
    "rse_orig = np.sqrt(mse_orig)\n",
    "print(\"RSE of original model: \", rse_orig)"
   ]
  },
  {
   "cell_type": "markdown",
   "id": "4e6ec306",
   "metadata": {},
   "source": [
    "According to the RSE, the typical difference between observed revenue and predicted revenue is about 255."
   ]
  },
  {
   "cell_type": "markdown",
   "id": "67cc5929",
   "metadata": {},
   "source": [
    "1.4 Root Mean Square Error\n",
    "\n",
    "Similarly, Root Mean Square Error (RMSE) is also a good estimator for the standard deviation σ of the distribution of our errors, it gives an idea of how much error the system typically makes in its predictions, with a higher weight for large errors."
   ]
  },
  {
   "cell_type": "code",
   "execution_count": 40,
   "id": "db91b2d9",
   "metadata": {},
   "outputs": [
    {
     "data": {
      "text/plain": [
       "254.1258393740536"
      ]
     },
     "execution_count": 40,
     "metadata": {},
     "output_type": "execute_result"
    }
   ],
   "source": [
    "#residuals\n",
    "residuals = lm_revenue_all.resid\n",
    "#Root Mean Square Error (RMSE)\n",
    "np.sqrt(sum(residuals**2)/len(shopping.index))"
   ]
  },
  {
   "cell_type": "markdown",
   "id": "dd60d918",
   "metadata": {},
   "source": [
    "#### 2. Visualizing model fit:"
   ]
  },
  {
   "cell_type": "markdown",
   "id": "0b1f2582",
   "metadata": {},
   "source": [
    "2.1 Q-Q plot of residuals\n",
    "\n",
    "The Q-Q plot shows whether or not the residuals follow a normal distribution. If the points track along the straight line, they are normally distributed. If not, they aren't."
   ]
  },
  {
   "cell_type": "code",
   "execution_count": 41,
   "id": "86dedbe4",
   "metadata": {
    "scrolled": false
   },
   "outputs": [
    {
     "data": {
      "image/png": "[encoded data removed]",
      "text/plain": [
       "<Figure size 432x288 with 1 Axes>"
      ]
     },
     "metadata": {
      "needs_background": "light"
     },
     "output_type": "display_data"
    }
   ],
   "source": [
    "qqplot(data=lm_revenue_all.resid, fit=True, line=\"45\")\n",
    "plt.show()"
   ]
  },
  {
   "cell_type": "markdown",
   "id": "7b2db6a7",
   "metadata": {},
   "source": [
    "We can see from the plot that the points are not following the line closely, which indicates a poor fit. Similarly, the following histogram also shows that the distribution of the residuals is not normal:"
   ]
  },
  {
   "cell_type": "code",
   "execution_count": 42,
   "id": "f8da605d",
   "metadata": {},
   "outputs": [
    {
     "data": {
      "image/png": "[encoded data removed]",
      "text/plain": [
       "<Figure size 432x288 with 1 Axes>"
      ]
     },
     "metadata": {
      "needs_background": "light"
     },
     "output_type": "display_data"
    }
   ],
   "source": [
    "plt.figure(figsize=(6,4))\n",
    "lm_revenue_all.resid.hist(bins=30)\n",
    "plt.xticks(fontsize=10)\n",
    "plt.yticks(fontsize=10)\n",
    "plt.show()"
   ]
  },
  {
   "cell_type": "markdown",
   "id": "ea472cfa",
   "metadata": {},
   "source": [
    "2.2 Scale-Location Plot\n",
    "\n",
    "This plot displays the fitted values of the regression model along the x-axis and the square root of the standardized residuals along the y-axis."
   ]
  },
  {
   "cell_type": "code",
   "execution_count": 43,
   "id": "6dddf387",
   "metadata": {
    "scrolled": false
   },
   "outputs": [
    {
     "data": {
      "image/png": "[encoded data removed]",
      "text/plain": [
       "<Figure size 432x288 with 1 Axes>"
      ]
     },
     "metadata": {
      "needs_background": "light"
     },
     "output_type": "display_data"
    }
   ],
   "source": [
    "# Preprocessing steps\n",
    "model_norm_residuals = lm_revenue_all.get_influence().resid_studentized_internal\n",
    "model_norm_residuals_abs_sqrt = np.sqrt(np.abs(model_norm_residuals))\n",
    "\n",
    "# Create the scale-location plot\n",
    "plt.figure(figsize=(6,4))\n",
    "sns.regplot(x=lm_revenue_all.fittedvalues, y=model_norm_residuals_abs_sqrt, ci=None, lowess=True, line_kws={'color':'red'})\n",
    "plt.xlabel(\"Fitted values\", fontsize=12)\n",
    "plt.ylabel(\"Sqrt of abs value of standardized residuals\", fontsize=12)\n",
    "plt.xticks(fontsize=10)\n",
    "plt.yticks(fontsize=10)\n",
    "\n",
    "plt.show()"
   ]
  },
  {
   "cell_type": "markdown",
   "id": "7cf56f5a",
   "metadata": {},
   "source": [
    "The Scale-Location plot shows that the residuals are not spread equally along the ranges of input variables - different pattern for each level, the assumption of equal variance (homoscedasticity) is not satisfied. We could therefore conclude that there’s heteroscedasticity in the residuals."
   ]
  },
  {
   "cell_type": "markdown",
   "id": "2e7f0046",
   "metadata": {},
   "source": [
    "As next, we will just focus on the significant independent variables (with p-value < 0.05) and further seperate the variables into two groups: those with positive coefficients (revenue drivers) and those with negative coefficients (revenue brakes). And recommend the retailer to increase the investment in revenue drivers while decrease the investment in revenue brakes variables."
   ]
  },
  {
   "cell_type": "code",
   "execution_count": 44,
   "id": "8812de17",
   "metadata": {},
   "outputs": [
    {
     "data": {
      "text/plain": [
       "Income                    0.008713\n",
       "Kids_home               -71.430018\n",
       "Teen_home              -121.078835\n",
       "AcceptedCmp1             88.157150\n",
       "AcceptedCmp4             81.580012\n",
       "AcceptedCmp5            267.758782\n",
       "Num_WebPurchases         29.640788\n",
       "Num_CatalogPurchases     76.202142\n",
       "Num_StorePurchases       27.545512\n",
       "dtype: float64"
      ]
     },
     "execution_count": 44,
     "metadata": {},
     "output_type": "execute_result"
    }
   ],
   "source": [
    "#the explanatory variables with a p-value of smaller than 0.05 are considered significant\n",
    "significant_var = lm_revenue_all.params[(lm_revenue_all.pvalues < 0.05)]\n",
    "significant_var"
   ]
  },
  {
   "cell_type": "code",
   "execution_count": 45,
   "id": "05a51c98",
   "metadata": {},
   "outputs": [
    {
     "data": {
      "text/plain": [
       "['Income',\n",
       " 'AcceptedCmp1',\n",
       " 'AcceptedCmp4',\n",
       " 'AcceptedCmp5',\n",
       " 'Num_WebPurchases',\n",
       " 'Num_CatalogPurchases',\n",
       " 'Num_StorePurchases']"
      ]
     },
     "execution_count": 45,
     "metadata": {},
     "output_type": "execute_result"
    }
   ],
   "source": [
    "#Independent variables with positive coefficients (revenue drivers)\n",
    "significant_var[significant_var > 0].index.tolist()"
   ]
  },
  {
   "cell_type": "code",
   "execution_count": 46,
   "id": "8dde19ef",
   "metadata": {},
   "outputs": [
    {
     "data": {
      "text/plain": [
       "['Kids_home', 'Teen_home']"
      ]
     },
     "execution_count": 46,
     "metadata": {},
     "output_type": "execute_result"
    }
   ],
   "source": [
    "#Independent variables with negative coefficients (revenue brakes)\n",
    "significant_var[significant_var <= 0].index.tolist()"
   ]
  },
  {
   "cell_type": "markdown",
   "id": "6d9c0ac0",
   "metadata": {},
   "source": [
    "Based on the analysis above, we recommend the retailer to increase the investment in marketing activities targeting the customers\n",
    "- who have higher income\n",
    "- who accepted the offer in the 1st, 4th and 5th campaign\n",
    "\n",
    "and to increase the investment in\n",
    "- improving company’s website's quality\n",
    "- improving company’s catalog's quality\n",
    "- improving the condition of company’s stores\n",
    "\n",
    "in order to increase the number of purchases; \n",
    "\n",
    "while decrease the investment in marketing activities targeting the customers with kids or teenagers at home, and remove them from target group."
   ]
  },
  {
   "cell_type": "markdown",
   "id": "33d8b82f",
   "metadata": {},
   "source": [
    "## Question 3\n",
    "Now try to improve the regression model. From now on, we continue with the 9 significant independent variables as selected above and fit a new regression model on them."
   ]
  },
  {
   "cell_type": "code",
   "execution_count": 47,
   "id": "c19e97c3",
   "metadata": {},
   "outputs": [],
   "source": [
    "formula_9 = \"Revenue ~ Income+Kids_home+Teen_home+AcceptedCmp1+AcceptedCmp4+AcceptedCmp5+Num_WebPurchases+Num_CatalogPurchases+Num_StorePurchases\"\n",
    "lm_revenue_9 = ols(formula_9, data=shopping).fit()"
   ]
  },
  {
   "cell_type": "code",
   "execution_count": 48,
   "id": "8d5e168e",
   "metadata": {},
   "outputs": [
    {
     "data": {
      "text/plain": [
       "0.8207397654079562"
      ]
     },
     "execution_count": 48,
     "metadata": {},
     "output_type": "execute_result"
    }
   ],
   "source": [
    "lm_revenue_9.rsquared"
   ]
  },
  {
   "cell_type": "markdown",
   "id": "e2571209",
   "metadata": {},
   "source": [
    "According to R², 82.07% of the variability in revenue is explained by our model."
   ]
  },
  {
   "cell_type": "markdown",
   "id": "ea6f82f4",
   "metadata": {},
   "source": [
    "### 1. Check the model for multicollinearity"
   ]
  },
  {
   "cell_type": "code",
   "execution_count": 49,
   "id": "fdbafe24",
   "metadata": {},
   "outputs": [
    {
     "data": {
      "text/html": [
       "<div>\n",
       "<style scoped>\n",
       "    .dataframe tbody tr th:only-of-type {\n",
       "        vertical-align: middle;\n",
       "    }\n",
       "\n",
       "    .dataframe tbody tr th {\n",
       "        vertical-align: top;\n",
       "    }\n",
       "\n",
       "    .dataframe thead th {\n",
       "        text-align: right;\n",
       "    }\n",
       "</style>\n",
       "<table border=\"1\" class=\"dataframe\">\n",
       "  <thead>\n",
       "    <tr style=\"text-align: right;\">\n",
       "      <th></th>\n",
       "      <th>VIF Factor</th>\n",
       "      <th>features</th>\n",
       "    </tr>\n",
       "  </thead>\n",
       "  <tbody>\n",
       "    <tr>\n",
       "      <th>0</th>\n",
       "      <td>15.5</td>\n",
       "      <td>Intercept</td>\n",
       "    </tr>\n",
       "    <tr>\n",
       "      <th>1</th>\n",
       "      <td>2.9</td>\n",
       "      <td>Income</td>\n",
       "    </tr>\n",
       "    <tr>\n",
       "      <th>2</th>\n",
       "      <td>1.6</td>\n",
       "      <td>Kids_home</td>\n",
       "    </tr>\n",
       "    <tr>\n",
       "      <th>3</th>\n",
       "      <td>1.1</td>\n",
       "      <td>Teen_home</td>\n",
       "    </tr>\n",
       "    <tr>\n",
       "      <th>4</th>\n",
       "      <td>1.3</td>\n",
       "      <td>AcceptedCmp1</td>\n",
       "    </tr>\n",
       "    <tr>\n",
       "      <th>5</th>\n",
       "      <td>1.2</td>\n",
       "      <td>AcceptedCmp4</td>\n",
       "    </tr>\n",
       "    <tr>\n",
       "      <th>6</th>\n",
       "      <td>1.4</td>\n",
       "      <td>AcceptedCmp5</td>\n",
       "    </tr>\n",
       "    <tr>\n",
       "      <th>7</th>\n",
       "      <td>1.6</td>\n",
       "      <td>Num_WebPurchases</td>\n",
       "    </tr>\n",
       "    <tr>\n",
       "      <th>8</th>\n",
       "      <td>2.4</td>\n",
       "      <td>Num_CatalogPurchases</td>\n",
       "    </tr>\n",
       "    <tr>\n",
       "      <th>9</th>\n",
       "      <td>2.1</td>\n",
       "      <td>Num_StorePurchases</td>\n",
       "    </tr>\n",
       "  </tbody>\n",
       "</table>\n",
       "</div>"
      ],
      "text/plain": [
       "   VIF Factor              features\n",
       "0        15.5             Intercept\n",
       "1         2.9                Income\n",
       "2         1.6             Kids_home\n",
       "3         1.1             Teen_home\n",
       "4         1.3          AcceptedCmp1\n",
       "5         1.2          AcceptedCmp4\n",
       "6         1.4          AcceptedCmp5\n",
       "7         1.6      Num_WebPurchases\n",
       "8         2.4  Num_CatalogPurchases\n",
       "9         2.1    Num_StorePurchases"
      ]
     },
     "execution_count": 49,
     "metadata": {},
     "output_type": "execute_result"
    }
   ],
   "source": [
    "y, X = dmatrices(formula_9, data = shopping, return_type =\"dataframe\")\n",
    "\n",
    "vif = pd.DataFrame()\n",
    "vif[\"VIF Factor\"] = [variance_inflation_factor(X.values, i) for i in range(X.shape[1])]\n",
    "vif[\"features\"] = X.columns\n",
    "vif.round(1)"
   ]
  },
  {
   "cell_type": "markdown",
   "id": "2e30d089",
   "metadata": {},
   "source": [
    "From the result we can see that the Variance Inflation Factor of all the independent variables are below 4 that means the independent variables are almost not correlated with any other independent variable, thus multicollinearity is not a problem of the model."
   ]
  },
  {
   "cell_type": "markdown",
   "id": "b1566791",
   "metadata": {},
   "source": [
    "### 2. Examination of interaction effects"
   ]
  },
  {
   "cell_type": "markdown",
   "id": "7d8aff53",
   "metadata": {},
   "source": [
    "There are two points worth noting:\n",
    "\n",
    "1) we do not consider higher‐order interactions here because they are diﬀicult to interpret;\n",
    "\n",
    "2) theoretically, the 2-way interaction terms between all the independent variables could be added into the code by building a model as **ols(\"Revenue~(Income+AcceptedCmp1+AcceptedCmp4+AcceptedCmp5+Num_WebPurchases+Num_CatalogPurchases+Num_StorePurchases)\\*\\*2\",data=shopping).fit()**, but in order to avoid making this report too long, we just focus on the interaction between `AcceptedCmp4` and `AcceptedCmp5` and take this as an illustrating example. (Please also note that the interaction between other categorical and continuous variables are also computed and evaluated but not listed here not only because the syntax of adding interaction terms is similar but also for the sake of the readability and conciseness of the report.)"
   ]
  },
  {
   "cell_type": "code",
   "execution_count": 50,
   "id": "bcb91bd8",
   "metadata": {},
   "outputs": [],
   "source": [
    "lm_revenue_9_2_way_inter = ols(\"Revenue ~ Income+Kids_home+Teen_home+AcceptedCmp1+AcceptedCmp4+AcceptedCmp5+ \\\n",
    "Num_WebPurchases+Num_CatalogPurchases+Num_StorePurchases + AcceptedCmp4:AcceptedCmp5\", data=shopping).fit()"
   ]
  },
  {
   "cell_type": "code",
   "execution_count": 51,
   "id": "2dc8dc22",
   "metadata": {},
   "outputs": [
    {
     "name": "stdout",
     "output_type": "stream",
     "text": [
      "                            OLS Regression Results                            \n",
      "==============================================================================\n",
      "Dep. Variable:                Revenue   R-squared:                       0.821\n",
      "Model:                            OLS   Adj. R-squared:                  0.821\n",
      "Method:                 Least Squares   F-statistic:                     1024.\n",
      "Date:                Sun, 11 Sep 2022   Prob (F-statistic):               0.00\n",
      "Time:                        13:19:14   Log-Likelihood:                -15564.\n",
      "No. Observations:                2237   AIC:                         3.115e+04\n",
      "Df Residuals:                    2226   BIC:                         3.121e+04\n",
      "Df Model:                          10                                         \n",
      "Covariance Type:            nonrobust                                         \n",
      "=============================================================================================\n",
      "                                coef    std err          t      P>|t|      [0.025      0.975]\n",
      "---------------------------------------------------------------------------------------------\n",
      "Intercept                  -255.8760     21.233    -12.051      0.000    -297.514    -214.238\n",
      "Income                        0.0086      0.000     19.757      0.000       0.008       0.009\n",
      "Kids_home                   -68.5586     12.495     -5.487      0.000     -93.061     -44.056\n",
      "Teen_home                  -127.5129     10.607    -12.021      0.000    -148.314    -106.712\n",
      "AcceptedCmp1                 91.0096     25.096      3.626      0.000      41.796     140.223\n",
      "AcceptedCmp4                117.6798     25.837      4.555      0.000      67.012     168.348\n",
      "AcceptedCmp5                309.9901     28.588     10.843      0.000     253.928     366.052\n",
      "Num_WebPurchases             29.6437      2.551     11.618      0.000      24.640      34.647\n",
      "Num_CatalogPurchases         76.4568      3.083     24.796      0.000      70.410      82.504\n",
      "Num_StorePurchases           27.0010      2.400     11.248      0.000      22.294      31.708\n",
      "AcceptedCmp4:AcceptedCmp5  -138.0400     48.963     -2.819      0.005    -234.057     -42.023\n",
      "==============================================================================\n",
      "Omnibus:                      312.417   Durbin-Watson:                   1.979\n",
      "Prob(Omnibus):                  0.000   Jarque-Bera (JB):             1682.959\n",
      "Skew:                           0.540   Prob(JB):                         0.00\n",
      "Kurtosis:                       7.110   Cond. No.                     5.53e+05\n",
      "==============================================================================\n",
      "\n",
      "Notes:\n",
      "[1] Standard Errors assume that the covariance matrix of the errors is correctly specified.\n",
      "[2] The condition number is large, 5.53e+05. This might indicate that there are\n",
      "strong multicollinearity or other numerical problems.\n"
     ]
    }
   ],
   "source": [
    "print(lm_revenue_9_2_way_inter.summary())"
   ]
  },
  {
   "cell_type": "markdown",
   "id": "a7427081",
   "metadata": {},
   "source": [
    "We can see that by including this interaction term, the R² and adjusted R² have increased to 82.1%. As next, let's visualize the interaction, since the lines are not parallel, there is an interaction:"
   ]
  },
  {
   "cell_type": "code",
   "execution_count": 52,
   "id": "ea62275d",
   "metadata": {},
   "outputs": [
    {
     "data": {
      "image/png": "[encoded data removed]",
      "text/plain": [
       "<Figure size 432x288 with 1 Axes>"
      ]
     },
     "metadata": {
      "needs_background": "light"
     },
     "output_type": "display_data"
    }
   ],
   "source": [
    "fig, ax = plt.subplots(figsize=(6, 4))\n",
    "fig = interaction_plot(\n",
    "    x=shopping[\"AcceptedCmp4\"],\n",
    "    trace=shopping[\"AcceptedCmp5\"],\n",
    "    response=shopping[\"Revenue\"],\n",
    "    colors=[\"red\", \"blue\"],\n",
    "    markers=[\"D\", \"^\"],\n",
    "    ms=10,\n",
    "    ax=ax,\n",
    ")\n",
    "plt.show()"
   ]
  },
  {
   "cell_type": "markdown",
   "id": "bfb5dc6f",
   "metadata": {},
   "source": [
    "To improve the model, another approach besides including interaction term in the model is to perform feature engineering:"
   ]
  },
  {
   "cell_type": "markdown",
   "id": "17dbd8de",
   "metadata": {},
   "source": [
    "### 3. Feature engineering\n",
    "Here we'll apply Principal Component Analysis (“PCA”): The principal components are the directions along which the data varies. PCA is used to find combinations of the original predictors that capture the most information in the form of variation. These combinations reduce the original set of predictors, where each combination of predictor variables are uncorrelated.\n",
    "\n",
    "To conduct PCA, we'll just focus on the numerical variables (i.e. the dataset \"shopping_num\" created before) and scale the data by applying standard scaling at first. After running PCA, we then visualize and analyse the explained variance, which is a statistical measure of how much variation in a dataset can be attributed to each of the principal components generated by a PCA."
   ]
  },
  {
   "cell_type": "code",
   "execution_count": 53,
   "id": "02d90d8d",
   "metadata": {},
   "outputs": [
    {
     "data": {
      "image/png": "[encoded data removed]",
      "text/plain": [
       "<Figure size 432x288 with 1 Axes>"
      ]
     },
     "metadata": {
      "needs_background": "light"
     },
     "output_type": "display_data"
    }
   ],
   "source": [
    "plt.figure(figsize=(6,4))\n",
    "# Create scaler: scaler\n",
    "scaler = StandardScaler()\n",
    "# Create a PCA instance: pca\n",
    "pca = PCA()\n",
    "# Create pipeline: pipeline\n",
    "pipeline = make_pipeline(scaler, pca)\n",
    "# Fit the pipeline to 'shopping_num'\n",
    "pipeline.fit(shopping_num)\n",
    "# Plot the explained variances\n",
    "features = range(pca.n_components_)\n",
    "plt.bar(features, pca.explained_variance_)\n",
    "plt.xlabel('PCA feature', fontsize=10)\n",
    "plt.ylabel('variance', fontsize=10)\n",
    "plt.xticks(features, fontsize=10)\n",
    "plt.yticks(fontsize=10)\n",
    "plt.show()"
   ]
  },
  {
   "cell_type": "code",
   "execution_count": 54,
   "id": "7fd031a9",
   "metadata": {
    "scrolled": true
   },
   "outputs": [
    {
     "data": {
      "text/plain": [
       "array([0.50074474, 0.67601018, 0.76954518, 0.83763447, 0.89983291,\n",
       "       0.94988611, 0.98200842, 1.        ])"
      ]
     },
     "execution_count": 54,
     "metadata": {},
     "output_type": "execute_result"
    }
   ],
   "source": [
    "pca.explained_variance_ratio_.cumsum()"
   ]
  },
  {
   "cell_type": "code",
   "execution_count": 55,
   "id": "85d98c12",
   "metadata": {},
   "outputs": [
    {
     "data": {
      "image/png": "[encoded data removed]",
      "text/plain": [
       "<Figure size 432x288 with 1 Axes>"
      ]
     },
     "metadata": {
      "needs_background": "light"
     },
     "output_type": "display_data"
    }
   ],
   "source": [
    "plt.figure(figsize=(6,4))\n",
    "plt.plot(features, pca.explained_variance_ratio_.cumsum())\n",
    "plt.xlabel('Principal Components', fontsize=12)\n",
    "plt.ylabel('Cumulative Proportion of Variance Explained', fontsize=12)\n",
    "plt.xticks(features, fontsize=10)\n",
    "plt.yticks(fontsize=10)\n",
    "plt.show()"
   ]
  },
  {
   "cell_type": "markdown",
   "id": "4fcc93aa",
   "metadata": {},
   "source": [
    "We can see that the first principal component already contains over 50% of the variance. It is to conclude that 4 principal components are enough to describe at least 83% of the cumulative variance in this dataset."
   ]
  }
 ],
 "metadata": {
  "kernelspec": {
   "display_name": "Python 3 (ipykernel)",
   "language": "python",
   "name": "python3"
  },
  "language_info": {
   "codemirror_mode": {
    "name": "ipython",
    "version": 3
   },
   "file_extension": ".py",
   "mimetype": "text/x-python",
   "name": "python",
   "nbconvert_exporter": "python",
   "pygments_lexer": "ipython3",
   "version": "3.8.11"
  }
 },
 "nbformat": 4,
 "nbformat_minor": 5
}
