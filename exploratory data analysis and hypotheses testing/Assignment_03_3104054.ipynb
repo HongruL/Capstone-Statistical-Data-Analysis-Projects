{
 "cells": [
  {
   "cell_type": "markdown",
   "id": "fccbcea6",
   "metadata": {},
   "source": [
    "# Homework assignment: Exploratory data analysis and hypotheses testing"
   ]
  },
  {
   "cell_type": "markdown",
   "id": "2550d41d",
   "metadata": {},
   "source": [
    "## 1. Data Preparation"
   ]
  },
  {
   "cell_type": "code",
   "execution_count": 1,
   "id": "eab82a76",
   "metadata": {},
   "outputs": [],
   "source": [
    "import pandas as pd\n",
    "import matplotlib.pyplot as plt\n",
    "import seaborn as sns\n",
    "import numpy as np\n",
    "from scipy.stats import shapiro, levene, ttest_ind, chi2_contingency\n",
    "from statsmodels.stats.oneway import anova_oneway\n",
    "from statsmodels.stats.multicomp import pairwise_tukeyhsd\n",
    "\n",
    "plt.style.use('seaborn')"
   ]
  },
  {
   "cell_type": "markdown",
   "id": "e55af9ad",
   "metadata": {},
   "source": [
    "### Data cleaning"
   ]
  },
  {
   "cell_type": "code",
   "execution_count": 2,
   "id": "1ed13b4c",
   "metadata": {},
   "outputs": [],
   "source": [
    "#load the shopping data\n",
    "shopping_raw = pd.read_csv('03_Assignment_data.csv', sep=';')"
   ]
  },
  {
   "cell_type": "markdown",
   "id": "b9650f77",
   "metadata": {},
   "source": [
    "Before cleaning the data, let's have a glimpse into the data."
   ]
  },
  {
   "cell_type": "code",
   "execution_count": 3,
   "id": "61699989",
   "metadata": {},
   "outputs": [
    {
     "data": {
      "text/html": [
       "<div>\n",
       "<style scoped>\n",
       "    .dataframe tbody tr th:only-of-type {\n",
       "        vertical-align: middle;\n",
       "    }\n",
       "\n",
       "    .dataframe tbody tr th {\n",
       "        vertical-align: top;\n",
       "    }\n",
       "\n",
       "    .dataframe thead th {\n",
       "        text-align: right;\n",
       "    }\n",
       "</style>\n",
       "<table border=\"1\" class=\"dataframe\">\n",
       "  <thead>\n",
       "    <tr style=\"text-align: right;\">\n",
       "      <th></th>\n",
       "      <th>ID</th>\n",
       "      <th>Year_of_Birth</th>\n",
       "      <th>Highest_Qualification</th>\n",
       "      <th>Marital_Status</th>\n",
       "      <th>Income</th>\n",
       "      <th>Kids_home</th>\n",
       "      <th>Teen_home</th>\n",
       "      <th>Amount_Wines</th>\n",
       "      <th>Amount_Fruits</th>\n",
       "      <th>Amount_Beers</th>\n",
       "      <th>Amount_Meat</th>\n",
       "      <th>Amount_Vegetables</th>\n",
       "      <th>Amount_Fish</th>\n",
       "      <th>No._WebPurchases</th>\n",
       "      <th>No._CatalogPurchases</th>\n",
       "      <th>No._StorePurchases</th>\n",
       "      <th>AcceptedCmp2</th>\n",
       "    </tr>\n",
       "  </thead>\n",
       "  <tbody>\n",
       "    <tr>\n",
       "      <th>0</th>\n",
       "      <td>5524</td>\n",
       "      <td>1957</td>\n",
       "      <td>Graduation</td>\n",
       "      <td>Single</td>\n",
       "      <td>58138.0</td>\n",
       "      <td>0</td>\n",
       "      <td>0</td>\n",
       "      <td>635</td>\n",
       "      <td>88</td>\n",
       "      <td>546</td>\n",
       "      <td>172</td>\n",
       "      <td>88</td>\n",
       "      <td>88</td>\n",
       "      <td>8</td>\n",
       "      <td>10</td>\n",
       "      <td>4</td>\n",
       "      <td>0</td>\n",
       "    </tr>\n",
       "    <tr>\n",
       "      <th>1</th>\n",
       "      <td>2174</td>\n",
       "      <td>1954</td>\n",
       "      <td>Graduation</td>\n",
       "      <td>Single</td>\n",
       "      <td>46344.0</td>\n",
       "      <td>1</td>\n",
       "      <td>1</td>\n",
       "      <td>11</td>\n",
       "      <td>1</td>\n",
       "      <td>6</td>\n",
       "      <td>2</td>\n",
       "      <td>1</td>\n",
       "      <td>6</td>\n",
       "      <td>1</td>\n",
       "      <td>1</td>\n",
       "      <td>2</td>\n",
       "      <td>0</td>\n",
       "    </tr>\n",
       "    <tr>\n",
       "      <th>2</th>\n",
       "      <td>4141</td>\n",
       "      <td>1965</td>\n",
       "      <td>Graduation</td>\n",
       "      <td>Together</td>\n",
       "      <td>71613.0</td>\n",
       "      <td>0</td>\n",
       "      <td>0</td>\n",
       "      <td>426</td>\n",
       "      <td>49</td>\n",
       "      <td>127</td>\n",
       "      <td>111</td>\n",
       "      <td>21</td>\n",
       "      <td>42</td>\n",
       "      <td>8</td>\n",
       "      <td>2</td>\n",
       "      <td>10</td>\n",
       "      <td>0</td>\n",
       "    </tr>\n",
       "    <tr>\n",
       "      <th>3</th>\n",
       "      <td>6182</td>\n",
       "      <td>1984</td>\n",
       "      <td>Graduation</td>\n",
       "      <td>Together</td>\n",
       "      <td>26646.0</td>\n",
       "      <td>1</td>\n",
       "      <td>0</td>\n",
       "      <td>11</td>\n",
       "      <td>4</td>\n",
       "      <td>20</td>\n",
       "      <td>10</td>\n",
       "      <td>3</td>\n",
       "      <td>5</td>\n",
       "      <td>2</td>\n",
       "      <td>0</td>\n",
       "      <td>4</td>\n",
       "      <td>0</td>\n",
       "    </tr>\n",
       "    <tr>\n",
       "      <th>4</th>\n",
       "      <td>5324</td>\n",
       "      <td>1981</td>\n",
       "      <td>PhD</td>\n",
       "      <td>Married</td>\n",
       "      <td>58293.0</td>\n",
       "      <td>1</td>\n",
       "      <td>0</td>\n",
       "      <td>173</td>\n",
       "      <td>43</td>\n",
       "      <td>118</td>\n",
       "      <td>46</td>\n",
       "      <td>27</td>\n",
       "      <td>15</td>\n",
       "      <td>5</td>\n",
       "      <td>3</td>\n",
       "      <td>6</td>\n",
       "      <td>0</td>\n",
       "    </tr>\n",
       "  </tbody>\n",
       "</table>\n",
       "</div>"
      ],
      "text/plain": [
       "     ID  Year_of_Birth Highest_Qualification Marital_Status   Income  \\\n",
       "0  5524           1957            Graduation         Single  58138.0   \n",
       "1  2174           1954            Graduation         Single  46344.0   \n",
       "2  4141           1965            Graduation       Together  71613.0   \n",
       "3  6182           1984            Graduation       Together  26646.0   \n",
       "4  5324           1981                   PhD        Married  58293.0   \n",
       "\n",
       "   Kids_home  Teen_home  Amount_Wines  Amount_Fruits  Amount_Beers  \\\n",
       "0          0          0           635             88           546   \n",
       "1          1          1            11              1             6   \n",
       "2          0          0           426             49           127   \n",
       "3          1          0            11              4            20   \n",
       "4          1          0           173             43           118   \n",
       "\n",
       "   Amount_Meat  Amount_Vegetables  Amount_Fish  No._WebPurchases  \\\n",
       "0          172                 88           88                 8   \n",
       "1            2                  1            6                 1   \n",
       "2          111                 21           42                 8   \n",
       "3           10                  3            5                 2   \n",
       "4           46                 27           15                 5   \n",
       "\n",
       "   No._CatalogPurchases  No._StorePurchases  AcceptedCmp2  \n",
       "0                    10                   4             0  \n",
       "1                     1                   2             0  \n",
       "2                     2                  10             0  \n",
       "3                     0                   4             0  \n",
       "4                     3                   6             0  "
      ]
     },
     "execution_count": 3,
     "metadata": {},
     "output_type": "execute_result"
    }
   ],
   "source": [
    "#first five records\n",
    "shopping_raw.head(5)"
   ]
  },
  {
   "cell_type": "code",
   "execution_count": 4,
   "id": "a7f5037e",
   "metadata": {},
   "outputs": [
    {
     "data": {
      "text/html": [
       "<div>\n",
       "<style scoped>\n",
       "    .dataframe tbody tr th:only-of-type {\n",
       "        vertical-align: middle;\n",
       "    }\n",
       "\n",
       "    .dataframe tbody tr th {\n",
       "        vertical-align: top;\n",
       "    }\n",
       "\n",
       "    .dataframe thead th {\n",
       "        text-align: right;\n",
       "    }\n",
       "</style>\n",
       "<table border=\"1\" class=\"dataframe\">\n",
       "  <thead>\n",
       "    <tr style=\"text-align: right;\">\n",
       "      <th></th>\n",
       "      <th>ID</th>\n",
       "      <th>Year_of_Birth</th>\n",
       "      <th>Highest_Qualification</th>\n",
       "      <th>Marital_Status</th>\n",
       "      <th>Income</th>\n",
       "      <th>Kids_home</th>\n",
       "      <th>Teen_home</th>\n",
       "      <th>Amount_Wines</th>\n",
       "      <th>Amount_Fruits</th>\n",
       "      <th>Amount_Beers</th>\n",
       "      <th>Amount_Meat</th>\n",
       "      <th>Amount_Vegetables</th>\n",
       "      <th>Amount_Fish</th>\n",
       "      <th>No._WebPurchases</th>\n",
       "      <th>No._CatalogPurchases</th>\n",
       "      <th>No._StorePurchases</th>\n",
       "      <th>AcceptedCmp2</th>\n",
       "    </tr>\n",
       "  </thead>\n",
       "  <tbody>\n",
       "    <tr>\n",
       "      <th>2235</th>\n",
       "      <td>10870</td>\n",
       "      <td>1967</td>\n",
       "      <td>Graduation</td>\n",
       "      <td>Married</td>\n",
       "      <td>61223.0</td>\n",
       "      <td>0</td>\n",
       "      <td>1</td>\n",
       "      <td>709</td>\n",
       "      <td>43</td>\n",
       "      <td>182</td>\n",
       "      <td>42</td>\n",
       "      <td>118</td>\n",
       "      <td>247</td>\n",
       "      <td>9</td>\n",
       "      <td>3</td>\n",
       "      <td>4</td>\n",
       "      <td>0</td>\n",
       "    </tr>\n",
       "    <tr>\n",
       "      <th>2236</th>\n",
       "      <td>4001</td>\n",
       "      <td>1946</td>\n",
       "      <td>PhD</td>\n",
       "      <td>Together</td>\n",
       "      <td>64014.0</td>\n",
       "      <td>2</td>\n",
       "      <td>1</td>\n",
       "      <td>406</td>\n",
       "      <td>0</td>\n",
       "      <td>30</td>\n",
       "      <td>0</td>\n",
       "      <td>0</td>\n",
       "      <td>8</td>\n",
       "      <td>8</td>\n",
       "      <td>2</td>\n",
       "      <td>5</td>\n",
       "      <td>0</td>\n",
       "    </tr>\n",
       "    <tr>\n",
       "      <th>2237</th>\n",
       "      <td>7270</td>\n",
       "      <td>1981</td>\n",
       "      <td>Graduation</td>\n",
       "      <td>Divorced</td>\n",
       "      <td>56981.0</td>\n",
       "      <td>0</td>\n",
       "      <td>0</td>\n",
       "      <td>908</td>\n",
       "      <td>48</td>\n",
       "      <td>217</td>\n",
       "      <td>32</td>\n",
       "      <td>12</td>\n",
       "      <td>24</td>\n",
       "      <td>2</td>\n",
       "      <td>3</td>\n",
       "      <td>13</td>\n",
       "      <td>0</td>\n",
       "    </tr>\n",
       "    <tr>\n",
       "      <th>2238</th>\n",
       "      <td>8235</td>\n",
       "      <td>1956</td>\n",
       "      <td>Master</td>\n",
       "      <td>Together</td>\n",
       "      <td>69245.0</td>\n",
       "      <td>0</td>\n",
       "      <td>1</td>\n",
       "      <td>428</td>\n",
       "      <td>30</td>\n",
       "      <td>214</td>\n",
       "      <td>80</td>\n",
       "      <td>30</td>\n",
       "      <td>61</td>\n",
       "      <td>6</td>\n",
       "      <td>5</td>\n",
       "      <td>10</td>\n",
       "      <td>0</td>\n",
       "    </tr>\n",
       "    <tr>\n",
       "      <th>2239</th>\n",
       "      <td>9405</td>\n",
       "      <td>1954</td>\n",
       "      <td>PhD</td>\n",
       "      <td>Married</td>\n",
       "      <td>52869.0</td>\n",
       "      <td>1</td>\n",
       "      <td>1</td>\n",
       "      <td>84</td>\n",
       "      <td>3</td>\n",
       "      <td>61</td>\n",
       "      <td>2</td>\n",
       "      <td>1</td>\n",
       "      <td>21</td>\n",
       "      <td>3</td>\n",
       "      <td>1</td>\n",
       "      <td>4</td>\n",
       "      <td>0</td>\n",
       "    </tr>\n",
       "  </tbody>\n",
       "</table>\n",
       "</div>"
      ],
      "text/plain": [
       "         ID  Year_of_Birth Highest_Qualification Marital_Status   Income  \\\n",
       "2235  10870           1967            Graduation        Married  61223.0   \n",
       "2236   4001           1946                   PhD       Together  64014.0   \n",
       "2237   7270           1981            Graduation       Divorced  56981.0   \n",
       "2238   8235           1956                Master       Together  69245.0   \n",
       "2239   9405           1954                   PhD        Married  52869.0   \n",
       "\n",
       "      Kids_home  Teen_home  Amount_Wines  Amount_Fruits  Amount_Beers  \\\n",
       "2235          0          1           709             43           182   \n",
       "2236          2          1           406              0            30   \n",
       "2237          0          0           908             48           217   \n",
       "2238          0          1           428             30           214   \n",
       "2239          1          1            84              3            61   \n",
       "\n",
       "      Amount_Meat  Amount_Vegetables  Amount_Fish  No._WebPurchases  \\\n",
       "2235           42                118          247                 9   \n",
       "2236            0                  0            8                 8   \n",
       "2237           32                 12           24                 2   \n",
       "2238           80                 30           61                 6   \n",
       "2239            2                  1           21                 3   \n",
       "\n",
       "      No._CatalogPurchases  No._StorePurchases  AcceptedCmp2  \n",
       "2235                     3                   4             0  \n",
       "2236                     2                   5             0  \n",
       "2237                     3                  13             0  \n",
       "2238                     5                  10             0  \n",
       "2239                     1                   4             0  "
      ]
     },
     "execution_count": 4,
     "metadata": {},
     "output_type": "execute_result"
    }
   ],
   "source": [
    "#last five records\n",
    "shopping_raw.tail(5)"
   ]
  },
  {
   "cell_type": "code",
   "execution_count": 5,
   "id": "58d152f0",
   "metadata": {},
   "outputs": [
    {
     "name": "stdout",
     "output_type": "stream",
     "text": [
      "Index(['ID', 'Year_of_Birth', 'Highest_Qualification', 'Marital_Status',\n",
      "       'Income', 'Kids_home', 'Teen_home', 'Amount_Wines', 'Amount_Fruits',\n",
      "       'Amount_Beers', 'Amount_Meat', 'Amount_Vegetables', 'Amount_Fish',\n",
      "       'No._WebPurchases', 'No._CatalogPurchases', 'No._StorePurchases',\n",
      "       'AcceptedCmp2'],\n",
      "      dtype='object')\n"
     ]
    }
   ],
   "source": [
    "#check the columns\n",
    "print(shopping_raw.columns)"
   ]
  },
  {
   "cell_type": "code",
   "execution_count": 6,
   "id": "ccc25361",
   "metadata": {},
   "outputs": [
    {
     "name": "stdout",
     "output_type": "stream",
     "text": [
      "(2240, 17)\n"
     ]
    }
   ],
   "source": [
    "print(shopping_raw.shape)"
   ]
  },
  {
   "cell_type": "markdown",
   "id": "0f626421",
   "metadata": {},
   "source": [
    "The dataset has 2240 rows and 17 columns."
   ]
  },
  {
   "cell_type": "markdown",
   "id": "39573577",
   "metadata": {},
   "source": [
    "Then check the table schema, its columns, rows, data types, and missing values."
   ]
  },
  {
   "cell_type": "code",
   "execution_count": 7,
   "id": "604c510d",
   "metadata": {},
   "outputs": [
    {
     "name": "stdout",
     "output_type": "stream",
     "text": [
      "<class 'pandas.core.frame.DataFrame'>\n",
      "RangeIndex: 2240 entries, 0 to 2239\n",
      "Data columns (total 17 columns):\n",
      " #   Column                 Non-Null Count  Dtype  \n",
      "---  ------                 --------------  -----  \n",
      " 0   ID                     2240 non-null   int64  \n",
      " 1   Year_of_Birth          2240 non-null   int64  \n",
      " 2   Highest_Qualification  2240 non-null   object \n",
      " 3   Marital_Status         2240 non-null   object \n",
      " 4   Income                 2216 non-null   float64\n",
      " 5   Kids_home              2240 non-null   int64  \n",
      " 6   Teen_home              2240 non-null   int64  \n",
      " 7   Amount_Wines           2240 non-null   int64  \n",
      " 8   Amount_Fruits          2240 non-null   int64  \n",
      " 9   Amount_Beers           2240 non-null   int64  \n",
      " 10  Amount_Meat            2240 non-null   int64  \n",
      " 11  Amount_Vegetables      2240 non-null   int64  \n",
      " 12  Amount_Fish            2240 non-null   int64  \n",
      " 13  No._WebPurchases       2240 non-null   int64  \n",
      " 14  No._CatalogPurchases   2240 non-null   int64  \n",
      " 15  No._StorePurchases     2240 non-null   int64  \n",
      " 16  AcceptedCmp2           2240 non-null   int64  \n",
      "dtypes: float64(1), int64(14), object(2)\n",
      "memory usage: 297.6+ KB\n"
     ]
    }
   ],
   "source": [
    "shopping_raw.info()"
   ]
  },
  {
   "cell_type": "markdown",
   "id": "3f3f7690",
   "metadata": {},
   "source": [
    "In the preceding output, we can see that there are 17 columns in the data. Out of these, 1 column (Income) has missing values, 2 columns (Highest_Qualification and Marital_Status) are Strings, 1 is float, and 14 are of datatype integer.\n",
    "Then, take a look at the descriptive statistics of the data using the describe function."
   ]
  },
  {
   "cell_type": "code",
   "execution_count": 8,
   "id": "0bc62ed7",
   "metadata": {},
   "outputs": [
    {
     "data": {
      "text/html": [
       "<div>\n",
       "<style scoped>\n",
       "    .dataframe tbody tr th:only-of-type {\n",
       "        vertical-align: middle;\n",
       "    }\n",
       "\n",
       "    .dataframe tbody tr th {\n",
       "        vertical-align: top;\n",
       "    }\n",
       "\n",
       "    .dataframe thead th {\n",
       "        text-align: right;\n",
       "    }\n",
       "</style>\n",
       "<table border=\"1\" class=\"dataframe\">\n",
       "  <thead>\n",
       "    <tr style=\"text-align: right;\">\n",
       "      <th></th>\n",
       "      <th>ID</th>\n",
       "      <th>Year_of_Birth</th>\n",
       "      <th>Income</th>\n",
       "      <th>Kids_home</th>\n",
       "      <th>Teen_home</th>\n",
       "      <th>Amount_Wines</th>\n",
       "      <th>Amount_Fruits</th>\n",
       "      <th>Amount_Beers</th>\n",
       "      <th>Amount_Meat</th>\n",
       "      <th>Amount_Vegetables</th>\n",
       "      <th>Amount_Fish</th>\n",
       "      <th>No._WebPurchases</th>\n",
       "      <th>No._CatalogPurchases</th>\n",
       "      <th>No._StorePurchases</th>\n",
       "      <th>AcceptedCmp2</th>\n",
       "    </tr>\n",
       "  </thead>\n",
       "  <tbody>\n",
       "    <tr>\n",
       "      <th>count</th>\n",
       "      <td>2240.000000</td>\n",
       "      <td>2240.000000</td>\n",
       "      <td>2216.000000</td>\n",
       "      <td>2240.000000</td>\n",
       "      <td>2240.000000</td>\n",
       "      <td>2240.000000</td>\n",
       "      <td>2240.000000</td>\n",
       "      <td>2240.000000</td>\n",
       "      <td>2240.000000</td>\n",
       "      <td>2240.000000</td>\n",
       "      <td>2240.000000</td>\n",
       "      <td>2240.000000</td>\n",
       "      <td>2240.000000</td>\n",
       "      <td>2240.000000</td>\n",
       "      <td>2240.000000</td>\n",
       "    </tr>\n",
       "    <tr>\n",
       "      <th>mean</th>\n",
       "      <td>5592.159821</td>\n",
       "      <td>1968.805804</td>\n",
       "      <td>52247.251354</td>\n",
       "      <td>0.444196</td>\n",
       "      <td>0.506250</td>\n",
       "      <td>303.935714</td>\n",
       "      <td>26.302232</td>\n",
       "      <td>166.950000</td>\n",
       "      <td>37.525446</td>\n",
       "      <td>27.062946</td>\n",
       "      <td>44.021875</td>\n",
       "      <td>4.084821</td>\n",
       "      <td>2.662054</td>\n",
       "      <td>5.790179</td>\n",
       "      <td>0.013393</td>\n",
       "    </tr>\n",
       "    <tr>\n",
       "      <th>std</th>\n",
       "      <td>3246.662198</td>\n",
       "      <td>11.984069</td>\n",
       "      <td>25173.076661</td>\n",
       "      <td>0.538398</td>\n",
       "      <td>0.544538</td>\n",
       "      <td>336.597393</td>\n",
       "      <td>39.773434</td>\n",
       "      <td>225.715373</td>\n",
       "      <td>54.628979</td>\n",
       "      <td>41.280498</td>\n",
       "      <td>52.167439</td>\n",
       "      <td>2.778714</td>\n",
       "      <td>2.923101</td>\n",
       "      <td>3.250958</td>\n",
       "      <td>0.114976</td>\n",
       "    </tr>\n",
       "    <tr>\n",
       "      <th>min</th>\n",
       "      <td>0.000000</td>\n",
       "      <td>1893.000000</td>\n",
       "      <td>1730.000000</td>\n",
       "      <td>0.000000</td>\n",
       "      <td>0.000000</td>\n",
       "      <td>0.000000</td>\n",
       "      <td>0.000000</td>\n",
       "      <td>0.000000</td>\n",
       "      <td>0.000000</td>\n",
       "      <td>0.000000</td>\n",
       "      <td>0.000000</td>\n",
       "      <td>0.000000</td>\n",
       "      <td>0.000000</td>\n",
       "      <td>0.000000</td>\n",
       "      <td>0.000000</td>\n",
       "    </tr>\n",
       "    <tr>\n",
       "      <th>25%</th>\n",
       "      <td>2828.250000</td>\n",
       "      <td>1959.000000</td>\n",
       "      <td>35303.000000</td>\n",
       "      <td>0.000000</td>\n",
       "      <td>0.000000</td>\n",
       "      <td>23.750000</td>\n",
       "      <td>1.000000</td>\n",
       "      <td>16.000000</td>\n",
       "      <td>3.000000</td>\n",
       "      <td>1.000000</td>\n",
       "      <td>9.000000</td>\n",
       "      <td>2.000000</td>\n",
       "      <td>0.000000</td>\n",
       "      <td>3.000000</td>\n",
       "      <td>0.000000</td>\n",
       "    </tr>\n",
       "    <tr>\n",
       "      <th>50%</th>\n",
       "      <td>5458.500000</td>\n",
       "      <td>1970.000000</td>\n",
       "      <td>51381.500000</td>\n",
       "      <td>0.000000</td>\n",
       "      <td>0.000000</td>\n",
       "      <td>173.500000</td>\n",
       "      <td>8.000000</td>\n",
       "      <td>67.000000</td>\n",
       "      <td>12.000000</td>\n",
       "      <td>8.000000</td>\n",
       "      <td>24.000000</td>\n",
       "      <td>4.000000</td>\n",
       "      <td>2.000000</td>\n",
       "      <td>5.000000</td>\n",
       "      <td>0.000000</td>\n",
       "    </tr>\n",
       "    <tr>\n",
       "      <th>75%</th>\n",
       "      <td>8427.750000</td>\n",
       "      <td>1977.000000</td>\n",
       "      <td>68522.000000</td>\n",
       "      <td>1.000000</td>\n",
       "      <td>1.000000</td>\n",
       "      <td>504.250000</td>\n",
       "      <td>33.000000</td>\n",
       "      <td>232.000000</td>\n",
       "      <td>50.000000</td>\n",
       "      <td>33.000000</td>\n",
       "      <td>56.000000</td>\n",
       "      <td>6.000000</td>\n",
       "      <td>4.000000</td>\n",
       "      <td>8.000000</td>\n",
       "      <td>0.000000</td>\n",
       "    </tr>\n",
       "    <tr>\n",
       "      <th>max</th>\n",
       "      <td>11191.000000</td>\n",
       "      <td>1996.000000</td>\n",
       "      <td>666666.000000</td>\n",
       "      <td>2.000000</td>\n",
       "      <td>2.000000</td>\n",
       "      <td>1493.000000</td>\n",
       "      <td>199.000000</td>\n",
       "      <td>1725.000000</td>\n",
       "      <td>259.000000</td>\n",
       "      <td>263.000000</td>\n",
       "      <td>362.000000</td>\n",
       "      <td>27.000000</td>\n",
       "      <td>28.000000</td>\n",
       "      <td>13.000000</td>\n",
       "      <td>1.000000</td>\n",
       "    </tr>\n",
       "  </tbody>\n",
       "</table>\n",
       "</div>"
      ],
      "text/plain": [
       "                 ID  Year_of_Birth         Income    Kids_home    Teen_home  \\\n",
       "count   2240.000000    2240.000000    2216.000000  2240.000000  2240.000000   \n",
       "mean    5592.159821    1968.805804   52247.251354     0.444196     0.506250   \n",
       "std     3246.662198      11.984069   25173.076661     0.538398     0.544538   \n",
       "min        0.000000    1893.000000    1730.000000     0.000000     0.000000   \n",
       "25%     2828.250000    1959.000000   35303.000000     0.000000     0.000000   \n",
       "50%     5458.500000    1970.000000   51381.500000     0.000000     0.000000   \n",
       "75%     8427.750000    1977.000000   68522.000000     1.000000     1.000000   \n",
       "max    11191.000000    1996.000000  666666.000000     2.000000     2.000000   \n",
       "\n",
       "       Amount_Wines  Amount_Fruits  Amount_Beers  Amount_Meat  \\\n",
       "count   2240.000000    2240.000000   2240.000000  2240.000000   \n",
       "mean     303.935714      26.302232    166.950000    37.525446   \n",
       "std      336.597393      39.773434    225.715373    54.628979   \n",
       "min        0.000000       0.000000      0.000000     0.000000   \n",
       "25%       23.750000       1.000000     16.000000     3.000000   \n",
       "50%      173.500000       8.000000     67.000000    12.000000   \n",
       "75%      504.250000      33.000000    232.000000    50.000000   \n",
       "max     1493.000000     199.000000   1725.000000   259.000000   \n",
       "\n",
       "       Amount_Vegetables  Amount_Fish  No._WebPurchases  No._CatalogPurchases  \\\n",
       "count        2240.000000  2240.000000       2240.000000           2240.000000   \n",
       "mean           27.062946    44.021875          4.084821              2.662054   \n",
       "std            41.280498    52.167439          2.778714              2.923101   \n",
       "min             0.000000     0.000000          0.000000              0.000000   \n",
       "25%             1.000000     9.000000          2.000000              0.000000   \n",
       "50%             8.000000    24.000000          4.000000              2.000000   \n",
       "75%            33.000000    56.000000          6.000000              4.000000   \n",
       "max           263.000000   362.000000         27.000000             28.000000   \n",
       "\n",
       "       No._StorePurchases  AcceptedCmp2  \n",
       "count         2240.000000   2240.000000  \n",
       "mean             5.790179      0.013393  \n",
       "std              3.250958      0.114976  \n",
       "min              0.000000      0.000000  \n",
       "25%              3.000000      0.000000  \n",
       "50%              5.000000      0.000000  \n",
       "75%              8.000000      0.000000  \n",
       "max             13.000000      1.000000  "
      ]
     },
     "execution_count": 8,
     "metadata": {},
     "output_type": "execute_result"
    }
   ],
   "source": [
    "shopping_raw.describe()"
   ]
  },
  {
   "cell_type": "markdown",
   "id": "108ffe9a",
   "metadata": {},
   "source": [
    "From these results, we can see the central tendency as well as the range of the numerical data. We can already tell that the column `Year_of_Birth` needs further analysis because there seems to be outliers, for an active customer is highly unlikely to be born in 1893. Let's also have a look at the descriptive statistics of the columns of \"object\" datatype:"
   ]
  },
  {
   "cell_type": "code",
   "execution_count": 9,
   "id": "2b48d439",
   "metadata": {
    "scrolled": true
   },
   "outputs": [
    {
     "data": {
      "text/html": [
       "<div>\n",
       "<style scoped>\n",
       "    .dataframe tbody tr th:only-of-type {\n",
       "        vertical-align: middle;\n",
       "    }\n",
       "\n",
       "    .dataframe tbody tr th {\n",
       "        vertical-align: top;\n",
       "    }\n",
       "\n",
       "    .dataframe thead th {\n",
       "        text-align: right;\n",
       "    }\n",
       "</style>\n",
       "<table border=\"1\" class=\"dataframe\">\n",
       "  <thead>\n",
       "    <tr style=\"text-align: right;\">\n",
       "      <th></th>\n",
       "      <th>Highest_Qualification</th>\n",
       "      <th>Marital_Status</th>\n",
       "    </tr>\n",
       "  </thead>\n",
       "  <tbody>\n",
       "    <tr>\n",
       "      <th>count</th>\n",
       "      <td>2240</td>\n",
       "      <td>2240</td>\n",
       "    </tr>\n",
       "    <tr>\n",
       "      <th>unique</th>\n",
       "      <td>5</td>\n",
       "      <td>8</td>\n",
       "    </tr>\n",
       "    <tr>\n",
       "      <th>top</th>\n",
       "      <td>Graduation</td>\n",
       "      <td>Married</td>\n",
       "    </tr>\n",
       "    <tr>\n",
       "      <th>freq</th>\n",
       "      <td>1127</td>\n",
       "      <td>864</td>\n",
       "    </tr>\n",
       "  </tbody>\n",
       "</table>\n",
       "</div>"
      ],
      "text/plain": [
       "       Highest_Qualification Marital_Status\n",
       "count                   2240           2240\n",
       "unique                     5              8\n",
       "top               Graduation        Married\n",
       "freq                    1127            864"
      ]
     },
     "execution_count": 9,
     "metadata": {},
     "output_type": "execute_result"
    }
   ],
   "source": [
    "shopping_raw.describe(include='O')"
   ]
  },
  {
   "cell_type": "markdown",
   "id": "a924173b",
   "metadata": {},
   "source": [
    "We can see that most of the customers are with graduation and are married. Then check unique values of the `Highest_Qualification`, `Marital_Status`, `Kids_home`, `Teen_home` and `AcceptedCmp2` column to see if there are any unreasonable and noisy data."
   ]
  },
  {
   "cell_type": "code",
   "execution_count": 10,
   "id": "44edb810",
   "metadata": {},
   "outputs": [
    {
     "name": "stdout",
     "output_type": "stream",
     "text": [
      "Unique values of column \"Highest_Qualification\": ['Graduation' 'PhD' 'Master' 'Basic' '2n Cycle']\n",
      "Unique values of column \"Marital_Status\": ['Single' 'Together' 'Married' 'Divorced' 'Widow' 'Alone' 'Absurd' 'YOLO']\n",
      "Unique values of column \"Kids_home\": [0 1 2]\n",
      "Unique values of column \"Teen_home\": [0 1 2]\n",
      "Unique values of column \"AcceptedCmp2\": [0 1]\n"
     ]
    }
   ],
   "source": [
    "print('Unique values of column \"Highest_Qualification\": {}'.format(shopping_raw.Highest_Qualification.unique()))\n",
    "print('Unique values of column \"Marital_Status\": {}'.format(shopping_raw.Marital_Status.unique()))\n",
    "print('Unique values of column \"Kids_home\": {}'.format(shopping_raw.Kids_home.unique()))\n",
    "print('Unique values of column \"Teen_home\": {}'.format(shopping_raw.Teen_home.unique()))\n",
    "print('Unique values of column \"AcceptedCmp2\": {}'.format(shopping_raw.AcceptedCmp2.unique()))"
   ]
  },
  {
   "cell_type": "markdown",
   "id": "06680d71",
   "metadata": {},
   "source": [
    "The values of these columns are all resonable and do not need further cleaning."
   ]
  },
  {
   "cell_type": "markdown",
   "id": "915f4688",
   "metadata": {},
   "source": [
    "Next, let's handel the missing data and the outliers."
   ]
  },
  {
   "cell_type": "code",
   "execution_count": 11,
   "id": "94b79623",
   "metadata": {},
   "outputs": [
    {
     "data": {
      "text/plain": [
       "ID                       False\n",
       "Year_of_Birth            False\n",
       "Highest_Qualification    False\n",
       "Marital_Status           False\n",
       "Income                    True\n",
       "Kids_home                False\n",
       "Teen_home                False\n",
       "Amount_Wines             False\n",
       "Amount_Fruits            False\n",
       "Amount_Beers             False\n",
       "Amount_Meat              False\n",
       "Amount_Vegetables        False\n",
       "Amount_Fish              False\n",
       "No._WebPurchases         False\n",
       "No._CatalogPurchases     False\n",
       "No._StorePurchases       False\n",
       "AcceptedCmp2             False\n",
       "dtype: bool"
      ]
     },
     "execution_count": 11,
     "metadata": {},
     "output_type": "execute_result"
    }
   ],
   "source": [
    "shopping_raw.isna().any()"
   ]
  },
  {
   "cell_type": "markdown",
   "id": "787e8908",
   "metadata": {},
   "source": [
    "Consistent with our perious overview, `Income` column has missing values. We could simply replace the NAN with the mean of it, however, to make the outcome more precise, we will instead calculate the average income of customers of groups with different highest qualifications, and then replace the `Income` null values with the mean `Income` value of that particular customer group."
   ]
  },
  {
   "cell_type": "code",
   "execution_count": 12,
   "id": "a614d9dc",
   "metadata": {
    "scrolled": true
   },
   "outputs": [
    {
     "data": {
      "text/plain": [
       "Highest_Qualification\n",
       "2n Cycle      47633.190000\n",
       "Basic         20306.259259\n",
       "Graduation    52720.373656\n",
       "Master        52917.534247\n",
       "PhD           56145.313929\n",
       "Name: Income, dtype: float64"
      ]
     },
     "execution_count": 12,
     "metadata": {},
     "output_type": "execute_result"
    }
   ],
   "source": [
    "income_groups = shopping_raw.groupby('Highest_Qualification').Income.mean()\n",
    "income_groups"
   ]
  },
  {
   "cell_type": "code",
   "execution_count": 13,
   "id": "8cd93211",
   "metadata": {},
   "outputs": [
    {
     "data": {
      "image/png": "[encoded data removed]",
      "text/plain": [
       "<Figure size 432x288 with 1 Axes>"
      ]
     },
     "metadata": {
      "needs_background": "light"
     },
     "output_type": "display_data"
    }
   ],
   "source": [
    "income_groups.plot(kind='bar')\n",
    "plt.show()"
   ]
  },
  {
   "cell_type": "markdown",
   "id": "c3fa07fe",
   "metadata": {},
   "source": [
    "Indeed, `Income` varies among customers with different educational qualifications as this bar plot suggests."
   ]
  },
  {
   "cell_type": "code",
   "execution_count": 14,
   "id": "933f6484",
   "metadata": {},
   "outputs": [
    {
     "data": {
      "text/plain": [
       "array(['Graduation', 'PhD', '2n Cycle', 'Master'], dtype=object)"
      ]
     },
     "execution_count": 14,
     "metadata": {},
     "output_type": "execute_result"
    }
   ],
   "source": [
    "shopping_raw.loc[shopping_raw.Income.isna()]['Highest_Qualification'].unique()"
   ]
  },
  {
   "cell_type": "code",
   "execution_count": 15,
   "id": "e3fe95bc",
   "metadata": {},
   "outputs": [],
   "source": [
    "def impute_income(cols):\n",
    "    '''\n",
    "    returns the average income of different educational qualifications groups\n",
    "    '''\n",
    "    highest_qualification = cols[0]\n",
    "    income = cols[1]\n",
    "    \n",
    "    if pd.isna(income):\n",
    "        \n",
    "        if highest_qualification == 'Graduation':\n",
    "            return income_groups['Graduation']\n",
    "        elif highest_qualification == 'PhD':\n",
    "            return income_groups['PhD']\n",
    "        elif highest_qualification == '2n Cycle':\n",
    "            return income_groups['2n Cycle']\n",
    "        elif highest_qualification == 'Master':\n",
    "            return income_groups['Master']\n",
    "        \n",
    "    else:\n",
    "        return income"
   ]
  },
  {
   "cell_type": "code",
   "execution_count": 16,
   "id": "aa674dfa",
   "metadata": {},
   "outputs": [],
   "source": [
    "shopping_raw['Income'] = shopping_raw[['Highest_Qualification', 'Income']].apply(impute_income, axis=1)"
   ]
  },
  {
   "cell_type": "code",
   "execution_count": 17,
   "id": "612528f6",
   "metadata": {},
   "outputs": [
    {
     "data": {
      "text/plain": [
       "False"
      ]
     },
     "execution_count": 17,
     "metadata": {},
     "output_type": "execute_result"
    }
   ],
   "source": [
    "#check na again\n",
    "shopping_raw.Income.isna().any()"
   ]
  },
  {
   "cell_type": "markdown",
   "id": "a0f3edd4",
   "metadata": {},
   "source": [
    "Let's use boxplots to detect the potential outliers as individual points."
   ]
  },
  {
   "cell_type": "code",
   "execution_count": 18,
   "id": "4bafa4e8",
   "metadata": {},
   "outputs": [
    {
     "data": {
      "image/png": "[encoded data removed]",
      "text/plain": [
       "<Figure size 432x288 with 1 Axes>"
      ]
     },
     "metadata": {
      "needs_background": "light"
     },
     "output_type": "display_data"
    }
   ],
   "source": [
    "plt.figure(figsize=(6,4))\n",
    "shopping_raw.boxplot('Year_of_Birth')\n",
    "plt.show()"
   ]
  },
  {
   "cell_type": "markdown",
   "id": "04eea55a",
   "metadata": {},
   "source": [
    "Outliers are displayed."
   ]
  },
  {
   "cell_type": "code",
   "execution_count": 19,
   "id": "7ca36b47",
   "metadata": {},
   "outputs": [
    {
     "data": {
      "text/plain": [
       "239     1893\n",
       "339     1899\n",
       "192     1900\n",
       "1950    1940\n",
       "424     1941\n",
       "        ... \n",
       "747     1995\n",
       "1850    1995\n",
       "696     1995\n",
       "1170    1996\n",
       "46      1996\n",
       "Name: Year_of_Birth, Length: 2240, dtype: int64"
      ]
     },
     "execution_count": 19,
     "metadata": {},
     "output_type": "execute_result"
    }
   ],
   "source": [
    "shopping_raw.Year_of_Birth.sort_values()"
   ]
  },
  {
   "cell_type": "markdown",
   "id": "a8e79785",
   "metadata": {},
   "source": [
    "An active customer with the year of birth beyond 1900 is highly unlikely and we treat these data as noises and thus drop these observations."
   ]
  },
  {
   "cell_type": "code",
   "execution_count": 20,
   "id": "f9a5194a",
   "metadata": {},
   "outputs": [],
   "source": [
    "shopping_raw.drop(index=shopping_raw[shopping_raw.Year_of_Birth <= 1900].index, inplace=True)"
   ]
  },
  {
   "cell_type": "code",
   "execution_count": 21,
   "id": "f4e8337d",
   "metadata": {},
   "outputs": [
    {
     "data": {
      "text/plain": [
       "0"
      ]
     },
     "execution_count": 21,
     "metadata": {},
     "output_type": "execute_result"
    }
   ],
   "source": [
    "#unreasonable age cleaned\n",
    "shopping_raw.loc[shopping_raw.Year_of_Birth <= 1900, 'Year_of_Birth'].count()"
   ]
  },
  {
   "cell_type": "markdown",
   "id": "c36adce9",
   "metadata": {},
   "source": [
    "For the other numerical columns (except `Kids_home`, `Teen_home`, `AcceptedCmp2`), we log-scale the y-axis to make the boxplot more readable."
   ]
  },
  {
   "cell_type": "code",
   "execution_count": 22,
   "id": "d0425ada",
   "metadata": {},
   "outputs": [
    {
     "data": {
      "image/png": "[encoded data removed]",
      "text/plain": [
       "<Figure size 1440x432 with 1 Axes>"
      ]
     },
     "metadata": {
      "needs_background": "light"
     },
     "output_type": "display_data"
    }
   ],
   "source": [
    "plt.figure(figsize=(20,6))\n",
    "shopping_raw.boxplot(['Income', 'Amount_Wines','Amount_Fruits', 'Amount_Beers', 'Amount_Meat', 'Amount_Vegetables', \\\n",
    "                      'Amount_Fish', 'No._WebPurchases', 'No._CatalogPurchases', 'No._StorePurchases'])\n",
    "plt.yscale('log')\n",
    "plt.show()"
   ]
  },
  {
   "cell_type": "markdown",
   "id": "0df1a6d7",
   "metadata": {},
   "source": [
    "As the boxplots suggest, there are outliers in the dataset (dots beyond the Whiskers), for example in column `Income`, `Amount_Wines`,`Amount_Fruits`, `Amount_Beers`, `Amount_Meat`, `Amount_Vegetables`, `Amount_Fish`, `No._WebPurchases`, `No._CatalogPurchases`. However, these outliers are valid data points derived from a heavy-tailed distribution or rare events, so we will use the \"winsorizing\" technique to handle them by replacing all the outliers with the inter quartile range multiplied by 1.5, i.e. 1.5 x (q75% - q25%) (Inter-quartile-range rule). In this way, we can keep all observations remain in the dataset that may contain useful information.\n",
    "\n",
    "We will create a winsorizing() function and perform the manipulation on the above mentioned columns:"
   ]
  },
  {
   "cell_type": "code",
   "execution_count": 23,
   "id": "ca1a7077",
   "metadata": {
    "scrolled": true
   },
   "outputs": [],
   "source": [
    "def winsorizing(df, column):\n",
    "    '''\n",
    "    use the \"winsorizing\" technique to replace outliers of a column \n",
    "    with the inter quartile range multiplied by 1.5\n",
    "    '''\n",
    "    q25, q75 = np.quantile(df[column], [0.25, 0.75])\n",
    "    iqr = q75 - q25\n",
    "    lower_limit, upper_limit = q25 - 1.5*iqr, q75 + 1.5*iqr\n",
    "    df.loc[df[column]<lower_limit, column] = lower_limit\n",
    "    df.loc[df[column]>upper_limit, column] = upper_limit\n",
    "    print(f'The \"{column}\" column is winsorized.')"
   ]
  },
  {
   "cell_type": "code",
   "execution_count": 24,
   "id": "dd41069b",
   "metadata": {},
   "outputs": [],
   "source": [
    "#the columns to be manipulated\n",
    "col_towinsorize = ['Income', 'Amount_Wines','Amount_Fruits', 'Amount_Beers', 'Amount_Meat', 'Amount_Vegetables', \\\n",
    "                   'Amount_Fish', 'No._WebPurchases', 'No._CatalogPurchases', 'No._StorePurchases']"
   ]
  },
  {
   "cell_type": "code",
   "execution_count": 25,
   "id": "0be66b35",
   "metadata": {},
   "outputs": [
    {
     "name": "stdout",
     "output_type": "stream",
     "text": [
      "The \"Income\" column is winsorized.\n",
      "The \"Amount_Wines\" column is winsorized.\n",
      "The \"Amount_Fruits\" column is winsorized.\n",
      "The \"Amount_Beers\" column is winsorized.\n",
      "The \"Amount_Meat\" column is winsorized.\n",
      "The \"Amount_Vegetables\" column is winsorized.\n",
      "The \"Amount_Fish\" column is winsorized.\n",
      "The \"No._WebPurchases\" column is winsorized.\n",
      "The \"No._CatalogPurchases\" column is winsorized.\n",
      "The \"No._StorePurchases\" column is winsorized.\n"
     ]
    }
   ],
   "source": [
    "#create a new data set by making a copy of \"shopping_raw\" and perform winsorizing on it, so that shopping_raw stays untouched\n",
    "shopping = shopping_raw.copy()\n",
    "\n",
    "for column in col_towinsorize:\n",
    "    winsorizing(shopping, column)"
   ]
  },
  {
   "cell_type": "markdown",
   "id": "9f2656c1",
   "metadata": {},
   "source": [
    "Let's view the winsorized dataset:"
   ]
  },
  {
   "cell_type": "code",
   "execution_count": 26,
   "id": "91b5d994",
   "metadata": {},
   "outputs": [
    {
     "data": {
      "image/png": "[encoded data removed]",
      "text/plain": [
       "<Figure size 1440x432 with 1 Axes>"
      ]
     },
     "metadata": {
      "needs_background": "light"
     },
     "output_type": "display_data"
    }
   ],
   "source": [
    "plt.figure(figsize=(20,6))\n",
    "shopping.boxplot(col_towinsorize)\n",
    "plt.yscale('log')\n",
    "plt.show()"
   ]
  },
  {
   "cell_type": "markdown",
   "id": "1f31ccf5",
   "metadata": {},
   "source": [
    "As the boxplot of the new dataset suggests, there are no more outliers.\n",
    "After data cleaning, we now transform the data."
   ]
  },
  {
   "cell_type": "markdown",
   "id": "12520ba7",
   "metadata": {},
   "source": [
    "**Change the data in `Martial_Status`**"
   ]
  },
  {
   "cell_type": "code",
   "execution_count": 27,
   "id": "a3a53273",
   "metadata": {},
   "outputs": [],
   "source": [
    "#Create mappings and replace\n",
    "mappings = {\n",
    "            'Married':'Relationship', \n",
    "            'Together':'Relationship',\n",
    "            'Divorced':'Single', \n",
    "            'Widow':'Single', \n",
    "            'Alone':'Single', \n",
    "            'YOLO':'Single', \n",
    "            'Absurd':'Single'\n",
    "}\n",
    "shopping.Marital_Status = shopping.Marital_Status.replace(mappings)"
   ]
  },
  {
   "cell_type": "code",
   "execution_count": 28,
   "id": "d0f4e2bb",
   "metadata": {},
   "outputs": [
    {
     "name": "stdout",
     "output_type": "stream",
     "text": [
      "['Single' 'Relationship']\n"
     ]
    }
   ],
   "source": [
    "#check the unique values in \"Martial_Status\"\n",
    "print(shopping.Marital_Status.unique())"
   ]
  },
  {
   "cell_type": "markdown",
   "id": "da40e8dd",
   "metadata": {},
   "source": [
    "**Add a new column ‘kids’, which indicates if the customer has kids or teens.**\n",
    "\n",
    "The logic of this transformation is, if there are any kids or teens in the family, the new attribute \"kids\" is True, otherwise False. We then drop `Kids_home`, `Teen_home` after the transformation."
   ]
  },
  {
   "cell_type": "code",
   "execution_count": 29,
   "id": "3456ea82",
   "metadata": {},
   "outputs": [],
   "source": [
    "shopping['kids'] = (shopping.Kids_home + shopping.Teen_home) >= 1\n",
    "shopping.drop(columns=['Kids_home', 'Teen_home'], inplace=True)"
   ]
  },
  {
   "cell_type": "markdown",
   "id": "49a8cd06",
   "metadata": {},
   "source": [
    "**Add a new column ‘revenue’ which is the sum of 'Amount_Wines', 'Amount_Fruits', 'Amount_Beers', 'Amount_Meat', 'Amount_Vegetables', 'Amount_Fish'**"
   ]
  },
  {
   "cell_type": "code",
   "execution_count": 30,
   "id": "4741eb09",
   "metadata": {},
   "outputs": [],
   "source": [
    "amount_list = ['Amount_Wines', 'Amount_Fruits', 'Amount_Beers', 'Amount_Meat', 'Amount_Vegetables', 'Amount_Fish']\n",
    "shopping['revenue'] = shopping[amount_list].sum(1)\n",
    "shopping.drop(columns=amount_list, inplace=True)"
   ]
  },
  {
   "cell_type": "markdown",
   "id": "ea6d9840",
   "metadata": {},
   "source": [
    "An overview of the cleaned and transformed data:"
   ]
  },
  {
   "cell_type": "code",
   "execution_count": 31,
   "id": "75dcddb0",
   "metadata": {},
   "outputs": [
    {
     "data": {
      "text/html": [
       "<div>\n",
       "<style scoped>\n",
       "    .dataframe tbody tr th:only-of-type {\n",
       "        vertical-align: middle;\n",
       "    }\n",
       "\n",
       "    .dataframe tbody tr th {\n",
       "        vertical-align: top;\n",
       "    }\n",
       "\n",
       "    .dataframe thead th {\n",
       "        text-align: right;\n",
       "    }\n",
       "</style>\n",
       "<table border=\"1\" class=\"dataframe\">\n",
       "  <thead>\n",
       "    <tr style=\"text-align: right;\">\n",
       "      <th></th>\n",
       "      <th>ID</th>\n",
       "      <th>Year_of_Birth</th>\n",
       "      <th>Highest_Qualification</th>\n",
       "      <th>Marital_Status</th>\n",
       "      <th>Income</th>\n",
       "      <th>No._WebPurchases</th>\n",
       "      <th>No._CatalogPurchases</th>\n",
       "      <th>No._StorePurchases</th>\n",
       "      <th>AcceptedCmp2</th>\n",
       "      <th>kids</th>\n",
       "      <th>revenue</th>\n",
       "    </tr>\n",
       "  </thead>\n",
       "  <tbody>\n",
       "    <tr>\n",
       "      <th>0</th>\n",
       "      <td>5524</td>\n",
       "      <td>1957</td>\n",
       "      <td>Graduation</td>\n",
       "      <td>Single</td>\n",
       "      <td>58138.0</td>\n",
       "      <td>8</td>\n",
       "      <td>10</td>\n",
       "      <td>4.0</td>\n",
       "      <td>0</td>\n",
       "      <td>False</td>\n",
       "      <td>1551.5</td>\n",
       "    </tr>\n",
       "    <tr>\n",
       "      <th>1</th>\n",
       "      <td>2174</td>\n",
       "      <td>1954</td>\n",
       "      <td>Graduation</td>\n",
       "      <td>Single</td>\n",
       "      <td>46344.0</td>\n",
       "      <td>1</td>\n",
       "      <td>1</td>\n",
       "      <td>2.0</td>\n",
       "      <td>0</td>\n",
       "      <td>True</td>\n",
       "      <td>27.0</td>\n",
       "    </tr>\n",
       "    <tr>\n",
       "      <th>2</th>\n",
       "      <td>4141</td>\n",
       "      <td>1965</td>\n",
       "      <td>Graduation</td>\n",
       "      <td>Relationship</td>\n",
       "      <td>71613.0</td>\n",
       "      <td>8</td>\n",
       "      <td>2</td>\n",
       "      <td>10.0</td>\n",
       "      <td>0</td>\n",
       "      <td>False</td>\n",
       "      <td>776.0</td>\n",
       "    </tr>\n",
       "    <tr>\n",
       "      <th>3</th>\n",
       "      <td>6182</td>\n",
       "      <td>1984</td>\n",
       "      <td>Graduation</td>\n",
       "      <td>Relationship</td>\n",
       "      <td>26646.0</td>\n",
       "      <td>2</td>\n",
       "      <td>0</td>\n",
       "      <td>4.0</td>\n",
       "      <td>0</td>\n",
       "      <td>True</td>\n",
       "      <td>53.0</td>\n",
       "    </tr>\n",
       "    <tr>\n",
       "      <th>4</th>\n",
       "      <td>5324</td>\n",
       "      <td>1981</td>\n",
       "      <td>PhD</td>\n",
       "      <td>Relationship</td>\n",
       "      <td>58293.0</td>\n",
       "      <td>5</td>\n",
       "      <td>3</td>\n",
       "      <td>6.0</td>\n",
       "      <td>0</td>\n",
       "      <td>True</td>\n",
       "      <td>422.0</td>\n",
       "    </tr>\n",
       "  </tbody>\n",
       "</table>\n",
       "</div>"
      ],
      "text/plain": [
       "     ID  Year_of_Birth Highest_Qualification Marital_Status   Income  \\\n",
       "0  5524           1957            Graduation         Single  58138.0   \n",
       "1  2174           1954            Graduation         Single  46344.0   \n",
       "2  4141           1965            Graduation   Relationship  71613.0   \n",
       "3  6182           1984            Graduation   Relationship  26646.0   \n",
       "4  5324           1981                   PhD   Relationship  58293.0   \n",
       "\n",
       "   No._WebPurchases  No._CatalogPurchases  No._StorePurchases  AcceptedCmp2  \\\n",
       "0                 8                    10                 4.0             0   \n",
       "1                 1                     1                 2.0             0   \n",
       "2                 8                     2                10.0             0   \n",
       "3                 2                     0                 4.0             0   \n",
       "4                 5                     3                 6.0             0   \n",
       "\n",
       "    kids  revenue  \n",
       "0  False   1551.5  \n",
       "1   True     27.0  \n",
       "2  False    776.0  \n",
       "3   True     53.0  \n",
       "4   True    422.0  "
      ]
     },
     "execution_count": 31,
     "metadata": {},
     "output_type": "execute_result"
    }
   ],
   "source": [
    "shopping.head()"
   ]
  },
  {
   "cell_type": "code",
   "execution_count": 32,
   "id": "a382b424",
   "metadata": {},
   "outputs": [
    {
     "data": {
      "text/html": [
       "<div>\n",
       "<style scoped>\n",
       "    .dataframe tbody tr th:only-of-type {\n",
       "        vertical-align: middle;\n",
       "    }\n",
       "\n",
       "    .dataframe tbody tr th {\n",
       "        vertical-align: top;\n",
       "    }\n",
       "\n",
       "    .dataframe thead th {\n",
       "        text-align: right;\n",
       "    }\n",
       "</style>\n",
       "<table border=\"1\" class=\"dataframe\">\n",
       "  <thead>\n",
       "    <tr style=\"text-align: right;\">\n",
       "      <th></th>\n",
       "      <th>ID</th>\n",
       "      <th>Year_of_Birth</th>\n",
       "      <th>Income</th>\n",
       "      <th>No._WebPurchases</th>\n",
       "      <th>No._CatalogPurchases</th>\n",
       "      <th>No._StorePurchases</th>\n",
       "      <th>AcceptedCmp2</th>\n",
       "      <th>revenue</th>\n",
       "    </tr>\n",
       "  </thead>\n",
       "  <tbody>\n",
       "    <tr>\n",
       "      <th>count</th>\n",
       "      <td>2237.000000</td>\n",
       "      <td>2237.000000</td>\n",
       "      <td>2237.000000</td>\n",
       "      <td>2237.000000</td>\n",
       "      <td>2237.000000</td>\n",
       "      <td>2237.000000</td>\n",
       "      <td>2237.000000</td>\n",
       "      <td>2237.000000</td>\n",
       "    </tr>\n",
       "    <tr>\n",
       "      <th>mean</th>\n",
       "      <td>5590.726419</td>\n",
       "      <td>1968.901654</td>\n",
       "      <td>51870.451909</td>\n",
       "      <td>4.063031</td>\n",
       "      <td>2.624497</td>\n",
       "      <td>5.794367</td>\n",
       "      <td>0.013411</td>\n",
       "      <td>568.160259</td>\n",
       "    </tr>\n",
       "    <tr>\n",
       "      <th>std</th>\n",
       "      <td>3245.118591</td>\n",
       "      <td>11.701917</td>\n",
       "      <td>20937.880606</td>\n",
       "      <td>2.647957</td>\n",
       "      <td>2.734901</td>\n",
       "      <td>3.250940</td>\n",
       "      <td>0.115052</td>\n",
       "      <td>546.633367</td>\n",
       "    </tr>\n",
       "    <tr>\n",
       "      <th>min</th>\n",
       "      <td>0.000000</td>\n",
       "      <td>1940.000000</td>\n",
       "      <td>1730.000000</td>\n",
       "      <td>0.000000</td>\n",
       "      <td>0.000000</td>\n",
       "      <td>0.000000</td>\n",
       "      <td>0.000000</td>\n",
       "      <td>5.000000</td>\n",
       "    </tr>\n",
       "    <tr>\n",
       "      <th>25%</th>\n",
       "      <td>2829.000000</td>\n",
       "      <td>1959.000000</td>\n",
       "      <td>35523.000000</td>\n",
       "      <td>2.000000</td>\n",
       "      <td>0.000000</td>\n",
       "      <td>3.000000</td>\n",
       "      <td>0.000000</td>\n",
       "      <td>69.000000</td>\n",
       "    </tr>\n",
       "    <tr>\n",
       "      <th>50%</th>\n",
       "      <td>5455.000000</td>\n",
       "      <td>1970.000000</td>\n",
       "      <td>51569.000000</td>\n",
       "      <td>4.000000</td>\n",
       "      <td>2.000000</td>\n",
       "      <td>5.000000</td>\n",
       "      <td>0.000000</td>\n",
       "      <td>395.000000</td>\n",
       "    </tr>\n",
       "    <tr>\n",
       "      <th>75%</th>\n",
       "      <td>8427.000000</td>\n",
       "      <td>1977.000000</td>\n",
       "      <td>68281.000000</td>\n",
       "      <td>6.000000</td>\n",
       "      <td>4.000000</td>\n",
       "      <td>8.000000</td>\n",
       "      <td>0.000000</td>\n",
       "      <td>990.000000</td>\n",
       "    </tr>\n",
       "    <tr>\n",
       "      <th>max</th>\n",
       "      <td>11191.000000</td>\n",
       "      <td>1996.000000</td>\n",
       "      <td>117418.000000</td>\n",
       "      <td>12.000000</td>\n",
       "      <td>10.000000</td>\n",
       "      <td>13.000000</td>\n",
       "      <td>1.000000</td>\n",
       "      <td>2098.500000</td>\n",
       "    </tr>\n",
       "  </tbody>\n",
       "</table>\n",
       "</div>"
      ],
      "text/plain": [
       "                 ID  Year_of_Birth         Income  No._WebPurchases  \\\n",
       "count   2237.000000    2237.000000    2237.000000       2237.000000   \n",
       "mean    5590.726419    1968.901654   51870.451909          4.063031   \n",
       "std     3245.118591      11.701917   20937.880606          2.647957   \n",
       "min        0.000000    1940.000000    1730.000000          0.000000   \n",
       "25%     2829.000000    1959.000000   35523.000000          2.000000   \n",
       "50%     5455.000000    1970.000000   51569.000000          4.000000   \n",
       "75%     8427.000000    1977.000000   68281.000000          6.000000   \n",
       "max    11191.000000    1996.000000  117418.000000         12.000000   \n",
       "\n",
       "       No._CatalogPurchases  No._StorePurchases  AcceptedCmp2      revenue  \n",
       "count           2237.000000         2237.000000   2237.000000  2237.000000  \n",
       "mean               2.624497            5.794367      0.013411   568.160259  \n",
       "std                2.734901            3.250940      0.115052   546.633367  \n",
       "min                0.000000            0.000000      0.000000     5.000000  \n",
       "25%                0.000000            3.000000      0.000000    69.000000  \n",
       "50%                2.000000            5.000000      0.000000   395.000000  \n",
       "75%                4.000000            8.000000      0.000000   990.000000  \n",
       "max               10.000000           13.000000      1.000000  2098.500000  "
      ]
     },
     "execution_count": 32,
     "metadata": {},
     "output_type": "execute_result"
    }
   ],
   "source": [
    "shopping.describe()"
   ]
  },
  {
   "cell_type": "markdown",
   "id": "447f1276",
   "metadata": {},
   "source": [
    "The measurement scale of each attribute in the preprocessed data set:"
   ]
  },
  {
   "cell_type": "markdown",
   "id": "b72f390e",
   "metadata": {},
   "source": [
    "1. `id`, `Marital_Status`, `AcceptedCmp2` and `kids` are nominal data, because the levels of these categorical variables do not have an inherent ordering to them, also we can’t get a precise mathematical difference between the values. They are used to label variables, that have no quantitative value.\n",
    "2. `Highest_Qualification` is ordinal data that are labels with a meaningful order or ranking and represent discrete as well as ordered units (for example here Phd > Master), the magnitude between successive values is yet not known.\n",
    "2. `Year_of_Birth` is interval data, \"year\" is interval value representing ordered units in form of integer, the distance between numbers/units is equal overall levels and there is no true zero.\n",
    "3. `Income`, `No._WebPurchases`, `No._CatalogPurchases` , `No._StorePurchases` and `revenue` are ratio data, because the values are also ordered units that have the same difference and an absolute zero, all arithmetic rules and functions can be applied."
   ]
  },
  {
   "cell_type": "markdown",
   "id": "dca017bd",
   "metadata": {},
   "source": [
    "## 2. Data Visualization"
   ]
  },
  {
   "cell_type": "markdown",
   "id": "cbf7fc46",
   "metadata": {},
   "source": [
    "2.1 To visualize the distribution of customers according to their marital status, a count plot or pie plot will be the right choice, where x-axis represents the categories, y-axis the corresponding value."
   ]
  },
  {
   "cell_type": "code",
   "execution_count": 33,
   "id": "fb98127d",
   "metadata": {
    "scrolled": false
   },
   "outputs": [
    {
     "data": {
      "image/png": "[encoded data removed]",
      "text/plain": [
       "<Figure size 288x216 with 1 Axes>"
      ]
     },
     "metadata": {
      "needs_background": "light"
     },
     "output_type": "display_data"
    }
   ],
   "source": [
    "#count plot\n",
    "plt.figure(figsize=(4,3))\n",
    "shopping.Marital_Status.value_counts().plot(kind='bar')\n",
    "plt.xticks(rotation=0)\n",
    "plt.title('Distribution of customers according to their marital status')\n",
    "plt.xlabel('marital status')\n",
    "plt.show()"
   ]
  },
  {
   "cell_type": "code",
   "execution_count": 34,
   "id": "1f822ddc",
   "metadata": {},
   "outputs": [
    {
     "data": {
      "image/png": "[encoded data removed]",
      "text/plain": [
       "<Figure size 432x288 with 1 Axes>"
      ]
     },
     "metadata": {},
     "output_type": "display_data"
    }
   ],
   "source": [
    "#pie plot\n",
    "shopping.Marital_Status.value_counts().plot(kind='pie', autopct='%1.1f%%')\n",
    "plt.title('Distribution of customers according to their marital status')\n",
    "plt.show()"
   ]
  },
  {
   "cell_type": "markdown",
   "id": "e3b1d4e6",
   "metadata": {},
   "source": [
    "We can see that the number of customers who are in a relationship approximately makes up close to 2/3 of all the customers."
   ]
  },
  {
   "cell_type": "markdown",
   "id": "10b96fd6",
   "metadata": {},
   "source": [
    "2.2 To visualize the distribution of customer’s income according to their marital status, we choose boxplot to understand the distribution of each variable with its quartiles."
   ]
  },
  {
   "cell_type": "code",
   "execution_count": 35,
   "id": "09a731d2",
   "metadata": {
    "scrolled": false
   },
   "outputs": [
    {
     "data": {
      "image/png": "[encoded data removed]",
      "text/plain": [
       "<Figure size 720x432 with 1 Axes>"
      ]
     },
     "metadata": {
      "needs_background": "light"
     },
     "output_type": "display_data"
    }
   ],
   "source": [
    "plt.figure(figsize=(10,6))\n",
    "sns.boxplot(data=shopping, x='Marital_Status', y='Income')\n",
    "plt.title(\"Distribution of customer's income according to their marital status\")\n",
    "plt.xlabel('marital status')\n",
    "plt.yticks(np.linspace(0, 125000, num=30))\n",
    "plt.show()"
   ]
  },
  {
   "cell_type": "markdown",
   "id": "419ef271",
   "metadata": {},
   "source": [
    "According to this boxplot, there is no major difference of income distributions between customers of different marital status (with median of around 51000, 25% quartile of 35000 and 75% quartile of 68000), except that there is a high-income outlier in the \"Relationship\" group. "
   ]
  },
  {
   "cell_type": "markdown",
   "id": "a34c8da9",
   "metadata": {},
   "source": [
    "Besides, we can also get an overview of the distributions using histograms seperated on `Marital_Status`:"
   ]
  },
  {
   "cell_type": "code",
   "execution_count": 36,
   "id": "12f83810",
   "metadata": {},
   "outputs": [
    {
     "data": {
      "image/png": "[encoded data removed]",
      "text/plain": [
       "<Figure size 432x288 with 1 Axes>"
      ]
     },
     "metadata": {
      "needs_background": "light"
     },
     "output_type": "display_data"
    }
   ],
   "source": [
    "sns.histplot(data=shopping, x='Income', hue='Marital_Status')\n",
    "plt.show()"
   ]
  },
  {
   "cell_type": "markdown",
   "id": "b9670f31",
   "metadata": {},
   "source": [
    "2.3 We also choose boxplot, histograms as well as kdeplot to visualize the distribution of the revenue for customers with kids and without kids."
   ]
  },
  {
   "cell_type": "code",
   "execution_count": 37,
   "id": "57d3e0ec",
   "metadata": {
    "scrolled": false
   },
   "outputs": [
    {
     "data": {
      "image/png": "[encoded data removed]",
      "text/plain": [
       "<Figure size 720x432 with 1 Axes>"
      ]
     },
     "metadata": {
      "needs_background": "light"
     },
     "output_type": "display_data"
    }
   ],
   "source": [
    "plt.figure(figsize=(10,6))\n",
    "sns.boxplot(data=shopping, x='kids', y='revenue')\n",
    "plt.title(\"Distribution of the revenue for customers with kids and without kids\")\n",
    "plt.xlabel('family with and without kids')\n",
    "plt.xticks(ticks = [0, 1], labels=['without kids', 'with kids'])\n",
    "plt.yticks(np.linspace(0, 2100, num=30))\n",
    "plt.show()"
   ]
  },
  {
   "cell_type": "markdown",
   "id": "ad291be7",
   "metadata": {},
   "source": [
    "According to this boxplot, there is a big difference of revenue distributions between customers with kids and without kids: the median of revenue for customers without kids is around 1100, 25% quartile is around 600 and 75% quartile around 1400, whereas the median of revenue for customers with kids is around 200, 25% quartile is around 50 and 75% quartile around 650. To conclude, quartiles of revenue for customers without kids are lying far above the quartiles of revenue for customers with kids. Apart from this, there exist outliers of revenue for customers with kids, while no outliers are captured in the customer group without kids."
   ]
  },
  {
   "cell_type": "code",
   "execution_count": 38,
   "id": "3b812538",
   "metadata": {
    "scrolled": true
   },
   "outputs": [
    {
     "data": {
      "image/png": "[encoded data removed]",
      "text/plain": [
       "<Figure size 720x360 with 1 Axes>"
      ]
     },
     "metadata": {
      "needs_background": "light"
     },
     "output_type": "display_data"
    }
   ],
   "source": [
    "plt.figure(figsize=(10,5))\n",
    "sns.histplot(data=shopping, x='revenue',hue='kids', kde=True)\n",
    "plt.show()"
   ]
  },
  {
   "cell_type": "code",
   "execution_count": 39,
   "id": "e5ea0351",
   "metadata": {},
   "outputs": [
    {
     "data": {
      "image/png": "[encoded data removed]",
      "text/plain": [
       "<Figure size 432x288 with 1 Axes>"
      ]
     },
     "metadata": {
      "needs_background": "light"
     },
     "output_type": "display_data"
    }
   ],
   "source": [
    "#cumulative distribution function\n",
    "sns.kdeplot(data=shopping, x='revenue', hue='kids', cumulative=True, common_norm=False)\n",
    "plt.show()"
   ]
  },
  {
   "cell_type": "markdown",
   "id": "2bbae2ea",
   "metadata": {},
   "source": [
    "Both the histogram and the kdeplot show a big difference with regards to the distributions of revenue for customers with kids and without kids. The cumulative distribution function indicates that approximately 70% of the customers with kids only generate a revenue under 500, whereas only about 20% of the customers without kids already generate this amount of revenue. So we could conclude that customers with kids tend to spend less money and customers without kids tend to generate more revenue relatively."
   ]
  },
  {
   "cell_type": "markdown",
   "id": "d2cac92b",
   "metadata": {},
   "source": [
    "## 3. Hypothesis testing"
   ]
  },
  {
   "cell_type": "markdown",
   "id": "3c53c8af",
   "metadata": {},
   "source": [
    "### 3.1 Do the customers with kids spend more than the customers with no kids?"
   ]
  },
  {
   "cell_type": "markdown",
   "id": "19446a72",
   "metadata": {},
   "source": [
    "According to our descriptive analysis above, customers with kids actually spend less than the customers without kids. Let's conduct a one-tailed independent t-test on this.\n",
    "\n",
    "- H0: The average amount of money (revenue) spent by customers with kids is less than or equal to that spent by customers without kids\n",
    "- H1: The average amount of money spent by customers with kids is more than that spent by customers without kids\n",
    "\n",
    "### Preconditions for t-test\n",
    "Let's check the preconditions:\n",
    "\n",
    "1) the dependent variable should be measured on a continuous scale\n",
    "<br>Yes, this is satisfied, the dependent variable revenue is continuous.<br>\n",
    "2) the independent variable should consist of two categorical, independent groups\n",
    "<br>Yes, this is also satisfied. The two categorical groups customers with kids and customers without kids are independent.<br>\n",
    "3) there must be independence of observations, which means that there is no relationship between the observations in each group or between the groups themselves \n",
    "<br>Yes, this is also satisfied. Because customers with kids are not in customers without kids group and vice versa.<br>\n",
    "4) there should be no significant outliers \n",
    "<br>Yes, this is also satisfied. There are no data points within the data that do not follow the usual pattern.<br>\n",
    "5) the dependent variable should be approximately normally distributed for each group of the independent variable\n",
    "<br>The two groups are large data sets with n > 30 (see below), so according to central limit theorem – the distribution of sample means approximates a normal distribution for large data sets (n > 30), we thus assume normality. In this case, we won't perform Shapiro-Wilk test.<br>\n",
    "6) there needs to be homogeneity of variances, e.g., the variance of both groups needs to be similar.\n",
    "<br>We will conduct the Levene test."
   ]
  },
  {
   "cell_type": "markdown",
   "id": "ee91adb1",
   "metadata": {},
   "source": [
    "#### Normal distribution (central limit theorem and large data set)"
   ]
  },
  {
   "cell_type": "code",
   "execution_count": 40,
   "id": "4ae8aea4",
   "metadata": {},
   "outputs": [],
   "source": [
    "t_tester_withkids = shopping[shopping.kids == True]\n",
    "t_tester_withoutkids = shopping[shopping.kids == False]"
   ]
  },
  {
   "cell_type": "code",
   "execution_count": 41,
   "id": "3e4d5a10",
   "metadata": {},
   "outputs": [
    {
     "data": {
      "text/plain": [
       "1600"
      ]
     },
     "execution_count": 41,
     "metadata": {},
     "output_type": "execute_result"
    }
   ],
   "source": [
    "#data set with n > 30\n",
    "len(t_tester_withkids)"
   ]
  },
  {
   "cell_type": "code",
   "execution_count": 42,
   "id": "e04731e8",
   "metadata": {},
   "outputs": [
    {
     "data": {
      "text/plain": [
       "637"
      ]
     },
     "execution_count": 42,
     "metadata": {},
     "output_type": "execute_result"
    }
   ],
   "source": [
    "#data set with n > 30\n",
    "len(t_tester_withoutkids)"
   ]
  },
  {
   "cell_type": "markdown",
   "id": "34453b6b",
   "metadata": {},
   "source": [
    "#### Homogeneity of variance\n",
    "\n",
    "Before we do the t-test, we need to check for homogeneity of variance, because this determines whether to use the t-test or the Welch-test.\n",
    "\n",
    "Levene-Test for homogeneity of variance across groups\n",
    "- H0 for Levene-Test: There is homogeneity of variance for both groups \n",
    "- H1 for Levene-Test: There is no homogeneity of variance for both groups "
   ]
  },
  {
   "cell_type": "code",
   "execution_count": 43,
   "id": "0d85c5d9",
   "metadata": {},
   "outputs": [
    {
     "name": "stdout",
     "output_type": "stream",
     "text": [
      "p-value:  2.9031842071486795e-17\n",
      "no homogeneity, perform Welch-test\n"
     ]
    }
   ],
   "source": [
    "stat, p = levene(t_tester_withkids.revenue, t_tester_withoutkids.revenue, center=\"median\")\n",
    "print(\"p-value: \", p)\n",
    "if p < 0.05:\n",
    "    print(\"no homogeneity, perform Welch-test\")\n",
    "else:\n",
    "    print(\"homogeneity, perform standard independent 2 sample test\")"
   ]
  },
  {
   "cell_type": "markdown",
   "id": "9b20780f",
   "metadata": {},
   "source": [
    "The null hypothesis for this test is that there is homogeneity of variance for both groups. Because p < 0.05, the null hypothesis is rejected, we can assume that there is no homogeneity of variance among both groups. Thus, we have to perform Welch-test."
   ]
  },
  {
   "cell_type": "code",
   "execution_count": 44,
   "id": "66a04264",
   "metadata": {},
   "outputs": [
    {
     "name": "stdout",
     "output_type": "stream",
     "text": [
      "p-value:  1.0\n",
      "H0 accepted, customers with kids spend less than or equal to the customers with no kids\n"
     ]
    }
   ],
   "source": [
    "stat, p = ttest_ind(t_tester_withkids.revenue, t_tester_withoutkids.revenue, equal_var=False, alternative='greater')\n",
    "print(\"p-value: \", p)\n",
    "\n",
    "if p < 0.05:\n",
    "    print(\"H0 rejected, customers with kids spend more than the customers with no kids\")\n",
    "else:\n",
    "    print(\"H0 accepted, customers with kids spend less than or equal to the customers with no kids\")"
   ]
  },
  {
   "cell_type": "markdown",
   "id": "2baf7dcd",
   "metadata": {},
   "source": [
    "Since the p-value is 1.0 > 0.05, we can reject the alternative hypothesis H1 and accept the null hypothesis H0, meaning that on average, customers with kids spend less than or equal to the customers without kids."
   ]
  },
  {
   "cell_type": "markdown",
   "id": "163e504b",
   "metadata": {},
   "source": [
    "### 3.2 Are there any significant differences in the revenue for the following customer groups?\n",
    "- Customers who only made purchases through the company’s website\n",
    "- Customer who only made purchases directly in stores of the company\n",
    "- Customer who only made purchases using a catalog\n",
    "- Customers who made purchases from more than one source (website, store, catalog)\n",
    "\n",
    "Since this question is the comparison of more than two groups based on only one independent variable (i.e. purchase source), one-way analysis of variance (ANOVA) should be conducted.\n",
    "\n",
    "- H0: There are no significant differences in the revenue for the following customer groups.\n",
    "- H1: There is a significant difference in the revenues among the four groups.\n",
    "\n",
    "### Preconditions for ANOVA\n",
    "Let's check the preconditions:\n",
    "\n",
    "1) the dependent variable should be measured on a continuous scale\n",
    "<br>Yes, this is satisfied, the dependent variable revenue is continuous.<br>\n",
    "2) the independent variable should consist of three or more categorical, independent groups (e.g., purchases only made through the company’s website, directly in stores of the company, using a catalog or from more than one source)\n",
    "<br>Yes, this is also satisfied. The four categorical groups are independent.<br>\n",
    "3) there must be independence of observations, which means that there is no relationship between the observations in each group or between the groups themselves \n",
    "<br>Yes, this is also satisfied. Because these groups have no overlaps with each other.<br>\n",
    "4) there should be no significant outliers \n",
    "<br>Yes, this is also satisfied. There are no data points within the data that do not follow the usual pattern.<br>\n",
    "5) the dependent variable should be approximately normally distributed for each group of the independent variable\n",
    "<br>Two groups (\"store_only\" and \"multi_source\") are larger data sets with n > 30 (see analysis below), so according to central limit theorem – assume normality. Therefore, we will perform Shapiro-Wilk Test on data sets \"web_only\" and \"catalog_only\".<br>\n",
    "6) there needs to be homogeneity of variances, e.g., the variance of the groups needs to be similar.\n",
    "<br>We will conduct the Levene test."
   ]
  },
  {
   "cell_type": "markdown",
   "id": "08ba954a",
   "metadata": {},
   "source": [
    "Let's create data set for each group:"
   ]
  },
  {
   "cell_type": "code",
   "execution_count": 45,
   "id": "156a07e4",
   "metadata": {},
   "outputs": [],
   "source": [
    "#first group web_only\n",
    "web_only = shopping.loc[(shopping['No._WebPurchases']!=0) & \\\n",
    "                        (shopping['No._CatalogPurchases']==0) & \\\n",
    "                        (shopping['No._StorePurchases']==0)]"
   ]
  },
  {
   "cell_type": "code",
   "execution_count": 46,
   "id": "82af4351",
   "metadata": {},
   "outputs": [
    {
     "data": {
      "text/plain": [
       "5"
      ]
     },
     "execution_count": 46,
     "metadata": {},
     "output_type": "execute_result"
    }
   ],
   "source": [
    "len(web_only)"
   ]
  },
  {
   "cell_type": "code",
   "execution_count": 47,
   "id": "d496577f",
   "metadata": {},
   "outputs": [],
   "source": [
    "#second group catalog_only\n",
    "catalog_only = shopping.loc[(shopping['No._WebPurchases']==0) & \\\n",
    "                        (shopping['No._CatalogPurchases']!=0) & \\\n",
    "                        (shopping['No._StorePurchases']==0)]"
   ]
  },
  {
   "cell_type": "code",
   "execution_count": 48,
   "id": "fc45d2fc",
   "metadata": {},
   "outputs": [
    {
     "data": {
      "text/plain": [
       "4"
      ]
     },
     "execution_count": 48,
     "metadata": {},
     "output_type": "execute_result"
    }
   ],
   "source": [
    "len(catalog_only)"
   ]
  },
  {
   "cell_type": "code",
   "execution_count": 49,
   "id": "d2300b7e",
   "metadata": {},
   "outputs": [],
   "source": [
    "#third group store_only\n",
    "store_only = shopping.loc[(shopping['No._WebPurchases']==0) & \\\n",
    "                        (shopping['No._CatalogPurchases']==0) & \\\n",
    "                        (shopping['No._StorePurchases']!=0)]"
   ]
  },
  {
   "cell_type": "code",
   "execution_count": 50,
   "id": "f672566c",
   "metadata": {},
   "outputs": [
    {
     "data": {
      "text/plain": [
       "31"
      ]
     },
     "execution_count": 50,
     "metadata": {},
     "output_type": "execute_result"
    }
   ],
   "source": [
    "#data set with n > 30\n",
    "len(store_only)"
   ]
  },
  {
   "cell_type": "code",
   "execution_count": 51,
   "id": "fb45535b",
   "metadata": {},
   "outputs": [],
   "source": [
    "#other customers belong to the 4th group, we can get the index of this data set by using difference() function\n",
    "multi_source = shopping.loc[shopping.index.difference(web_only.index).\\\n",
    "                            difference(catalog_only.index).\\\n",
    "                            difference(store_only.index)]"
   ]
  },
  {
   "cell_type": "code",
   "execution_count": 52,
   "id": "68b808d2",
   "metadata": {},
   "outputs": [
    {
     "data": {
      "text/plain": [
       "2197"
      ]
     },
     "execution_count": 52,
     "metadata": {},
     "output_type": "execute_result"
    }
   ],
   "source": [
    "#data set with n > 30\n",
    "len(multi_source)"
   ]
  },
  {
   "cell_type": "code",
   "execution_count": 53,
   "id": "56a5e327",
   "metadata": {},
   "outputs": [
    {
     "data": {
      "text/plain": [
       "True"
      ]
     },
     "execution_count": 53,
     "metadata": {},
     "output_type": "execute_result"
    }
   ],
   "source": [
    "#check for completeness: the sum of the size of these groups should match the size of the shopping data set\n",
    "len(web_only) + len(catalog_only) + len(store_only) + len(multi_source) == shopping.shape[0]"
   ]
  },
  {
   "cell_type": "markdown",
   "id": "34a0dfd4",
   "metadata": {},
   "source": [
    "#### Normal distribution\n",
    "As per the analysis above, we just perform Shapiro-Wilk Test on data sets \"web_only\" and \"catalog_only\", which has a sample size of less than 30.\n",
    "We define a function \"shapiro_test\" here, which needs the dataframe and a column name as input parameter and outputs the p value of shapiro test as well as its judgement.\n",
    "\n",
    "The null hypothesis of the Shapiro-Wilk Test is that the data is normally distributed."
   ]
  },
  {
   "cell_type": "code",
   "execution_count": 54,
   "id": "5dc64b34",
   "metadata": {},
   "outputs": [],
   "source": [
    "def shapiro_test(dataframe, column_name):\n",
    "    stat, p = shapiro(dataframe[column_name])\n",
    "    print(\"p-value: \", p)\n",
    "    if p < 0.05:\n",
    "        print(\"the data is not normally distributed, further analysis needed\")\n",
    "    else:\n",
    "        print(\"we can assume that the data is normally distributed\")"
   ]
  },
  {
   "cell_type": "code",
   "execution_count": 55,
   "id": "e7a873be",
   "metadata": {},
   "outputs": [
    {
     "name": "stdout",
     "output_type": "stream",
     "text": [
      "p-value:  0.6138705015182495\n",
      "we can assume that the data is normally distributed\n"
     ]
    }
   ],
   "source": [
    "shapiro_test(web_only, 'revenue')"
   ]
  },
  {
   "cell_type": "markdown",
   "id": "873b82d8",
   "metadata": {},
   "source": [
    "Because p > 0.05 we can assume that the revenue data in data set \"web_only\" is normally distributed."
   ]
  },
  {
   "cell_type": "code",
   "execution_count": 56,
   "id": "a65632df",
   "metadata": {},
   "outputs": [
    {
     "name": "stdout",
     "output_type": "stream",
     "text": [
      "p-value:  0.00554959150031209\n",
      "the data is not normally distributed, further analysis needed\n"
     ]
    }
   ],
   "source": [
    "shapiro_test(catalog_only, 'revenue')"
   ]
  },
  {
   "cell_type": "markdown",
   "id": "d06d1f97",
   "metadata": {},
   "source": [
    "Let's further analyse the distribution of \"catalog_only\" data set with a histogram:"
   ]
  },
  {
   "cell_type": "code",
   "execution_count": 57,
   "id": "524c7c02",
   "metadata": {},
   "outputs": [
    {
     "data": {
      "image/png": "[encoded data removed]",
      "text/plain": [
       "<Figure size 432x288 with 1 Axes>"
      ]
     },
     "metadata": {
      "needs_background": "light"
     },
     "output_type": "display_data"
    }
   ],
   "source": [
    "plt.hist(catalog_only.revenue, bins=100)\n",
    "#add x-label\n",
    "plt.xlabel(\"Revenue\")\n",
    "#add y-label\n",
    "plt.ylabel(\"Frequency\")\n",
    "#add title\n",
    "plt.title(\"Distribution of Revenue of Customer Who Only Made Purchases Using a Catalog\")\n",
    "plt.show()"
   ]
  },
  {
   "cell_type": "markdown",
   "id": "0c63cdba",
   "metadata": {},
   "source": [
    "We can tell from the histogram that revenue of \"catalog_only\" is left-skewed. So we will make transformation on this series to make it normally distributed so that the prerequisite of one-way ANOVA is satisfied. We transform the data in the following steps:\n",
    "1. create a constant that is the maximum value of the revenue series of \"catalog_only\" data set plus one\n",
    "2. reflect the left-skewed data to a new data series by multipying all values by -1 and adding the constant to the variable to set all values to at least 1.0. After this step, data are transformed to right-skewed.\n",
    "3. to normalise the now right-skewed data, we perform log normalisation.\n",
    "\n",
    "All these steps are wrapped in a function:"
   ]
  },
  {
   "cell_type": "code",
   "execution_count": 58,
   "id": "16b39dd2",
   "metadata": {},
   "outputs": [],
   "source": [
    "def left_skew_normalize(series): #takes the left-skewed series as input\n",
    "    a = max(series) + 1\n",
    "    ref_series = -1*series + a   #right-skewed reflection\n",
    "    return np.log(ref_series)"
   ]
  },
  {
   "cell_type": "code",
   "execution_count": 59,
   "id": "7eda1946",
   "metadata": {},
   "outputs": [],
   "source": [
    "#normalise the original data series using the function defined above\n",
    "normal_cat_revenue = left_skew_normalize(catalog_only.revenue)"
   ]
  },
  {
   "cell_type": "code",
   "execution_count": 60,
   "id": "005a512a",
   "metadata": {},
   "outputs": [
    {
     "name": "stdout",
     "output_type": "stream",
     "text": [
      "p-value:  0.6803938150405884\n",
      "we can assume that the data is normally distributed\n"
     ]
    }
   ],
   "source": [
    "stat, p = shapiro(normal_cat_revenue)\n",
    "print(\"p-value: \", p)\n",
    "if p < 0.05:\n",
    "    print(\"the data is not normally distributed, further analysis needed\")\n",
    "else:\n",
    "    print(\"we can assume that the data is normally distributed\")"
   ]
  },
  {
   "cell_type": "markdown",
   "id": "3d02ccd6",
   "metadata": {},
   "source": [
    "Till this step, after data normalisation, we conclude that the dependent variable (revenue) is approximately normally distributed for each group of the independent variable. So the prerequisite of normal distribution is satisfied. Let's move on to the next precondition check:"
   ]
  },
  {
   "cell_type": "markdown",
   "id": "cdd2de76",
   "metadata": {},
   "source": [
    "#### Homogeneity of variance\n",
    "\n",
    "Before we do one-way ANOVA, we need to check for homogeneity of variance, because this determines whether to use the normal formula or apply a Welch’s F correction.\n",
    "\n",
    "Levene-Test for homogeneity of variance across groups\n",
    "- H0 for Levene-Test: There is homogeneity of variance for all four groups \n",
    "- H1 for Levene-Test: There is no homogeneity of variance for all four groups "
   ]
  },
  {
   "cell_type": "code",
   "execution_count": 61,
   "id": "552ba12b",
   "metadata": {},
   "outputs": [
    {
     "name": "stdout",
     "output_type": "stream",
     "text": [
      "p-value:  4.653472907836183e-13\n",
      "no homogeneity, perform Welch-test\n"
     ]
    }
   ],
   "source": [
    "stat, p = levene(web_only.revenue, normal_cat_revenue, store_only.revenue, multi_source.revenue, center=\"median\")\n",
    "print(\"p-value: \", p)\n",
    "if p < 0.05:\n",
    "    print(\"no homogeneity, perform Welch-test\")\n",
    "else:\n",
    "    print(\"homogeneity, perform standard independent 2 sample test\")"
   ]
  },
  {
   "cell_type": "markdown",
   "id": "96ceed46",
   "metadata": {},
   "source": [
    "The null hypothesis for this test is that there is homogeneity of variance among groups. Because p < 0.05, the null hypothesis is rejected, we can assume that there is no homogeneity of variance among the groups. Thus, we have to apply a Welch’s F correction.\n",
    "\n",
    "To do this, we will combine the four groups to a simple dataframe containing the transformed data of revenue and their group labels: \"web\", \"catalog\", \"store\", \"multi\"."
   ]
  },
  {
   "cell_type": "code",
   "execution_count": 62,
   "id": "0adb8c8a",
   "metadata": {},
   "outputs": [],
   "source": [
    "def create_dataframe(array, column, group_name):\n",
    "    '''\n",
    "    creates a dataframe from an array.\n",
    "    input parameters: \n",
    "    1. an array\n",
    "    2. the name given to the column that contains the values of the array\n",
    "    3. new column inserted indicating the group of the variables\n",
    "    '''\n",
    "    df = pd.DataFrame(array, columns=[column])\n",
    "    df.insert(1, \"group\", group_name)\n",
    "    return df"
   ]
  },
  {
   "cell_type": "code",
   "execution_count": 63,
   "id": "80241291",
   "metadata": {},
   "outputs": [],
   "source": [
    "df_web = create_dataframe(web_only.revenue.values, \"revenue\", \"web only\")\n",
    "df_catalog = create_dataframe(normal_cat_revenue.values, \"revenue\", \"catalog only\")\n",
    "df_store = create_dataframe(store_only.revenue.values, \"revenue\", \"store only\")\n",
    "df_multi_source = create_dataframe(multi_source.revenue.values, \"revenue\", \"multi source\")"
   ]
  },
  {
   "cell_type": "code",
   "execution_count": 64,
   "id": "f078b9d4",
   "metadata": {},
   "outputs": [],
   "source": [
    "#Concatenate the newly created four groups together to an complete dataframe for Anova\n",
    "df_for_anova = pd.concat([df_web, df_catalog, df_store, df_multi_source], ignore_index=True)"
   ]
  },
  {
   "cell_type": "code",
   "execution_count": 65,
   "id": "1e91c233",
   "metadata": {},
   "outputs": [
    {
     "data": {
      "text/html": [
       "<div>\n",
       "<style scoped>\n",
       "    .dataframe tbody tr th:only-of-type {\n",
       "        vertical-align: middle;\n",
       "    }\n",
       "\n",
       "    .dataframe tbody tr th {\n",
       "        vertical-align: top;\n",
       "    }\n",
       "\n",
       "    .dataframe thead th {\n",
       "        text-align: right;\n",
       "    }\n",
       "</style>\n",
       "<table border=\"1\" class=\"dataframe\">\n",
       "  <thead>\n",
       "    <tr style=\"text-align: right;\">\n",
       "      <th></th>\n",
       "      <th>revenue</th>\n",
       "      <th>group</th>\n",
       "    </tr>\n",
       "  </thead>\n",
       "  <tbody>\n",
       "    <tr>\n",
       "      <th>0</th>\n",
       "      <td>49.0</td>\n",
       "      <td>web only</td>\n",
       "    </tr>\n",
       "    <tr>\n",
       "      <th>1</th>\n",
       "      <td>219.5</td>\n",
       "      <td>web only</td>\n",
       "    </tr>\n",
       "    <tr>\n",
       "      <th>2</th>\n",
       "      <td>96.0</td>\n",
       "      <td>web only</td>\n",
       "    </tr>\n",
       "    <tr>\n",
       "      <th>3</th>\n",
       "      <td>164.5</td>\n",
       "      <td>web only</td>\n",
       "    </tr>\n",
       "    <tr>\n",
       "      <th>4</th>\n",
       "      <td>32.0</td>\n",
       "      <td>web only</td>\n",
       "    </tr>\n",
       "  </tbody>\n",
       "</table>\n",
       "</div>"
      ],
      "text/plain": [
       "   revenue     group\n",
       "0     49.0  web only\n",
       "1    219.5  web only\n",
       "2     96.0  web only\n",
       "3    164.5  web only\n",
       "4     32.0  web only"
      ]
     },
     "execution_count": 65,
     "metadata": {},
     "output_type": "execute_result"
    }
   ],
   "source": [
    "df_for_anova.head()"
   ]
  },
  {
   "cell_type": "code",
   "execution_count": 66,
   "id": "c9c1453e",
   "metadata": {},
   "outputs": [
    {
     "name": "stdout",
     "output_type": "stream",
     "text": [
      "p-values: 8.918742813373355e-19\n",
      "ANOVA: 743.5705563692107\n",
      "H0 Rejected, there is thus a significant difference in the revenues among the customer groups.\n"
     ]
    }
   ],
   "source": [
    "stat, p = anova_oneway(df_for_anova.revenue, df_for_anova.group, use_var='unequal', welch_correction=True)\n",
    "print(\"p-values:\", p)\n",
    "print(\"ANOVA:\", stat)\n",
    "if p < 0.05:\n",
    "    print(\"H0 Rejected, there is thus a significant difference in the revenues among the customer groups.\") #Hypothesis displayed at the beginning of this sub-task\n",
    "else:\n",
    "    print(\"H0 Accepted, there are no significant differences in the revenue for the customer groups.\")"
   ]
  },
  {
   "cell_type": "markdown",
   "id": "a161d803",
   "metadata": {},
   "source": [
    "There is a statistically significant difference between the four groups as determined by one-way ANOVA (p < 0.05). However, it is not clear which is the different group and what is the size or direction of this difference, thus, a post-hoc test should be performed - we use TukeyHSD as follows:"
   ]
  },
  {
   "cell_type": "markdown",
   "id": "984da0d4",
   "metadata": {},
   "source": [
    "#### ANOVA TukeyHSD Post Hoc test"
   ]
  },
  {
   "cell_type": "code",
   "execution_count": 67,
   "id": "f63a635e",
   "metadata": {},
   "outputs": [
    {
     "name": "stdout",
     "output_type": "stream",
     "text": [
      "         Multiple Comparison of Means - Tukey HSD, FWER=0.05          \n",
      "======================================================================\n",
      "   group1       group2     meandiff p-adj    lower      upper   reject\n",
      "----------------------------------------------------------------------\n",
      "catalog only multi source   573.713 0.1497  -124.8833 1272.3093  False\n",
      "catalog only   store only   41.8245 0.9989  -699.8007  783.4496  False\n",
      "catalog only     web only  109.1535 0.9906  -827.2597 1045.5667  False\n",
      "multi source   store only -531.8885    0.0  -784.3662 -279.4108   True\n",
      "multi source     web only -464.5594 0.2236 -1089.5449   160.426  False\n",
      "  store only     web only    67.329  0.994  -605.4101  740.0682  False\n",
      "----------------------------------------------------------------------\n"
     ]
    }
   ],
   "source": [
    "tukey = pairwise_tukeyhsd(endog=df_for_anova.revenue, groups=df_for_anova.group, alpha = 0.05)\n",
    "print(tukey)"
   ]
  },
  {
   "cell_type": "markdown",
   "id": "a622b270",
   "metadata": {},
   "source": [
    "The TukeyHSD post hoc test revealed that there is statistically significant difference only between the group of customer who only made purchases directly in stores of the company and the group of customers who made purchases from more than one source in terms of revenue (p < 0.05). There is no statistically significant difference detected between other groups."
   ]
  },
  {
   "cell_type": "markdown",
   "id": "7db2c119",
   "metadata": {},
   "source": [
    "### 3.3 Do more customers with kids accept an offer in the last marketing campaign?"
   ]
  },
  {
   "cell_type": "markdown",
   "id": "03cf5689",
   "metadata": {},
   "source": [
    "Since this task focuses on the categorical variable AcceptedCmp2, we will conduct the chi-square test of independence to decide if customers with/without kids and the acceptance of an offer might be related or not.\n",
    "\n",
    "The preconditions of the chi-square test is also worth noting:\n",
    "\n",
    "1. Two categorical variables.\n",
    "Yes, this is satisfied.\n",
    "2. Two or more categories (groups) for each variable.\n",
    "Yes, there are two groups for each variable\n",
    "3. Independence of observations.\n",
    "Yes, this is also satisfied. Because these groups have no overlaps with each other.\n",
    "4. Relatively large sample size.\n",
    "Yes, this is also satisfied (see contingency table below)."
   ]
  },
  {
   "cell_type": "markdown",
   "id": "eec5be90",
   "metadata": {},
   "source": [
    "Hypotheses:\n",
    "- H0: The two categorical variables are independent — that is, customers with/without kids is independent of their acceptance of an offer in the last marketing campaign.\n",
    "- H1: The two categorical variables are not independent — that is, customers with/without kids is not independent of their acceptance of an offer in the last marketing campaign."
   ]
  },
  {
   "cell_type": "markdown",
   "id": "73946946",
   "metadata": {},
   "source": [
    "Before conducting hypothesis testing, let's conduct a simple analysis to have an overview of the situation based on a contingency table:"
   ]
  },
  {
   "cell_type": "code",
   "execution_count": 68,
   "id": "74b7fdee",
   "metadata": {},
   "outputs": [
    {
     "name": "stdout",
     "output_type": "stream",
     "text": [
      "AcceptedCmp2     0   1\n",
      "kids                  \n",
      "False          619  18\n",
      "True          1588  12\n"
     ]
    }
   ],
   "source": [
    "#a contingency table can be represented as follows\n",
    "contingency_table = pd.crosstab(shopping.kids, shopping.AcceptedCmp2)\n",
    "print(contingency_table)"
   ]
  },
  {
   "cell_type": "markdown",
   "id": "220b0d6d",
   "metadata": {},
   "source": [
    "We can see from this table that although there are more customers with kids than without kids, customers without kids who accepted an offer in the last marketing campaign (18) are more than customers with kids (12)."
   ]
  },
  {
   "cell_type": "code",
   "execution_count": 69,
   "id": "0b8c62de",
   "metadata": {},
   "outputs": [
    {
     "name": "stdout",
     "output_type": "stream",
     "text": [
      "p value is 0.00026402890045935885\n",
      "Dependent (reject H0)\n"
     ]
    }
   ],
   "source": [
    "#Apply chi-square test\n",
    "stat, p, dof, expected = chi2_contingency(contingency_table)\n",
    "print(\"p value is \" + str(p))\n",
    "if p < 0.05:\n",
    "    print('Dependent (reject H0)')\n",
    "else:\n",
    "    print('Independent (H0 holds true)')"
   ]
  },
  {
   "cell_type": "markdown",
   "id": "b0c60c83",
   "metadata": {},
   "source": [
    "As the p value suggests, H0 is rejected, the two categorical variables are thus dependent. But note that the chi-square test of independence only assesses associations between categorical variables, and can not provide any inferences about causation between the two variables."
   ]
  }
 ],
 "metadata": {
  "kernelspec": {
   "display_name": "Python 3 (ipykernel)",
   "language": "python",
   "name": "python3"
  },
  "language_info": {
   "codemirror_mode": {
    "name": "ipython",
    "version": 3
   },
   "file_extension": ".py",
   "mimetype": "text/x-python",
   "name": "python",
   "nbconvert_exporter": "python",
   "pygments_lexer": "ipython3",
   "version": "3.8.11"
  }
 },
 "nbformat": 4,
 "nbformat_minor": 5
}
